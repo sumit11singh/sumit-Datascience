{
 "cells": [
  {
   "cell_type": "markdown",
   "id": "128a0301",
   "metadata": {},
   "source": [
    "# Ques-1 DATA analyist"
   ]
  },
  {
   "cell_type": "code",
   "execution_count": 2,
   "id": "6ca93b43",
   "metadata": {},
   "outputs": [
    {
     "name": "stdout",
     "output_type": "stream",
     "text": [
      "Requirement already satisfied: selenium in c:\\programdata\\anaconda3\\lib\\site-packages (4.1.5)\n",
      "Requirement already satisfied: trio~=0.17 in c:\\programdata\\anaconda3\\lib\\site-packages (from selenium) (0.20.0)\n",
      "Requirement already satisfied: urllib3[secure,socks]~=1.26 in c:\\programdata\\anaconda3\\lib\\site-packages (from selenium) (1.26.7)\n",
      "Requirement already satisfied: trio-websocket~=0.9 in c:\\programdata\\anaconda3\\lib\\site-packages (from selenium) (0.9.2)\n",
      "Requirement already satisfied: cffi>=1.14 in c:\\programdata\\anaconda3\\lib\\site-packages (from trio~=0.17->selenium) (1.14.6)\n",
      "Requirement already satisfied: sniffio in c:\\programdata\\anaconda3\\lib\\site-packages (from trio~=0.17->selenium) (1.2.0)\n",
      "Requirement already satisfied: outcome in c:\\programdata\\anaconda3\\lib\\site-packages (from trio~=0.17->selenium) (1.1.0)\n",
      "Requirement already satisfied: idna in c:\\programdata\\anaconda3\\lib\\site-packages (from trio~=0.17->selenium) (3.2)\n",
      "Requirement already satisfied: attrs>=19.2.0 in c:\\programdata\\anaconda3\\lib\\site-packages (from trio~=0.17->selenium) (21.2.0)\n",
      "Requirement already satisfied: sortedcontainers in c:\\programdata\\anaconda3\\lib\\site-packages (from trio~=0.17->selenium) (2.4.0)\n",
      "Requirement already satisfied: async-generator>=1.9 in c:\\programdata\\anaconda3\\lib\\site-packages (from trio~=0.17->selenium) (1.10)\n",
      "Requirement already satisfied: pycparser in c:\\programdata\\anaconda3\\lib\\site-packages (from cffi>=1.14->trio~=0.17->selenium) (2.20)\n",
      "Requirement already satisfied: wsproto>=0.14 in c:\\programdata\\anaconda3\\lib\\site-packages (from trio-websocket~=0.9->selenium) (1.1.0)\n",
      "Requirement already satisfied: PySocks!=1.5.7,<2.0,>=1.5.6 in c:\\programdata\\anaconda3\\lib\\site-packages (from urllib3[secure,socks]~=1.26->selenium) (1.7.1)\n",
      "Requirement already satisfied: pyOpenSSL>=0.14 in c:\\programdata\\anaconda3\\lib\\site-packages (from urllib3[secure,socks]~=1.26->selenium) (21.0.0)\n",
      "Requirement already satisfied: cryptography>=1.3.4 in c:\\programdata\\anaconda3\\lib\\site-packages (from urllib3[secure,socks]~=1.26->selenium) (3.4.8)\n",
      "Requirement already satisfied: certifi in c:\\programdata\\anaconda3\\lib\\site-packages (from urllib3[secure,socks]~=1.26->selenium) (2021.10.8)\n",
      "Requirement already satisfied: six>=1.5.2 in c:\\programdata\\anaconda3\\lib\\site-packages (from pyOpenSSL>=0.14->urllib3[secure,socks]~=1.26->selenium) (1.16.0)\n",
      "Requirement already satisfied: h11<1,>=0.9.0 in c:\\programdata\\anaconda3\\lib\\site-packages (from wsproto>=0.14->trio-websocket~=0.9->selenium) (0.13.0)\n"
     ]
    }
   ],
   "source": [
    "!pip install selenium"
   ]
  },
  {
   "cell_type": "code",
   "execution_count": 3,
   "id": "b653340e",
   "metadata": {},
   "outputs": [],
   "source": [
    "import selenium\n",
    "import pandas as pd\n",
    "from selenium import webdriver\n",
    "import warnings\n",
    "warnings.filterwarnings(\"ignore\")\n",
    "import time\n",
    "\n"
   ]
  },
  {
   "cell_type": "code",
   "execution_count": 5,
   "id": "06406cd6",
   "metadata": {},
   "outputs": [],
   "source": [
    "driver=webdriver.Chrome(r\"C:\\Webchrome_driver_1\\chromedriver.exe\")"
   ]
  },
  {
   "cell_type": "code",
   "execution_count": 6,
   "id": "9404ccc6",
   "metadata": {},
   "outputs": [],
   "source": [
    "driver=webdriver.Chrome(\"chromedriver.exe\")\n",
    "time.sleep(2)"
   ]
  },
  {
   "cell_type": "code",
   "execution_count": 5,
   "id": "9432f539",
   "metadata": {},
   "outputs": [],
   "source": [
    "driver.get(\"https://www.naukri.com/\")"
   ]
  },
  {
   "cell_type": "code",
   "execution_count": 6,
   "id": "44512f8d",
   "metadata": {},
   "outputs": [],
   "source": [
    "search_field_designation=driver.find_element_by_class_name('suggestor-input ')\n",
    "search_field_designation.send_keys('data analyst')\n",
    "                                  \n"
   ]
  },
  {
   "cell_type": "code",
   "execution_count": 7,
   "id": "8381cbf0",
   "metadata": {},
   "outputs": [],
   "source": [
    "search_field_location=driver.find_element_by_xpath('/html/body/div/div[2]/div[3]/div/div/div[3]/div/div/div/input')\n",
    "search_field_location.send_keys('Bangalore')"
   ]
  },
  {
   "cell_type": "code",
   "execution_count": 8,
   "id": "5fb5f400",
   "metadata": {},
   "outputs": [],
   "source": [
    "search_button=driver.find_element_by_xpath(\"/html/body/div/div[2]/div[3]/div/div/div[6]\")\n",
    "search_button.click()"
   ]
  },
  {
   "cell_type": "code",
   "execution_count": 9,
   "id": "369f65bc",
   "metadata": {},
   "outputs": [],
   "source": [
    "job_title=[]\n",
    "company_name=[]\n",
    "job_location_list=[]\n",
    "experience_list=[]"
   ]
  },
  {
   "cell_type": "code",
   "execution_count": 10,
   "id": "7e315f48",
   "metadata": {},
   "outputs": [
    {
     "data": {
      "text/plain": [
       "[<selenium.webdriver.remote.webelement.WebElement (session=\"af72eee9253925133c6492058fe38dd1\", element=\"ad41c04e-a3d9-4c25-91af-4a2113836f3e\")>,\n",
       " <selenium.webdriver.remote.webelement.WebElement (session=\"af72eee9253925133c6492058fe38dd1\", element=\"047d7556-fde7-41f3-8c77-14d26632c012\")>,\n",
       " <selenium.webdriver.remote.webelement.WebElement (session=\"af72eee9253925133c6492058fe38dd1\", element=\"e33e7b1b-53b6-4f5c-9691-e4cdc1c8e20a\")>,\n",
       " <selenium.webdriver.remote.webelement.WebElement (session=\"af72eee9253925133c6492058fe38dd1\", element=\"e4724093-cc14-46a7-a1cc-22513e8baa0e\")>]"
      ]
     },
     "execution_count": 10,
     "metadata": {},
     "output_type": "execute_result"
    }
   ],
   "source": [
    "title_tags=driver.find_elements_by_xpath(\"//a[@class='title fw500 ellipsis']\")\n",
    "title_tags[0:4]"
   ]
  },
  {
   "cell_type": "code",
   "execution_count": 11,
   "id": "8d0580c2",
   "metadata": {},
   "outputs": [],
   "source": [
    "for i in title_tags:\n",
    "    title=i.text\n",
    "    job_title.append(title)"
   ]
  },
  {
   "cell_type": "code",
   "execution_count": 12,
   "id": "1fa9804e",
   "metadata": {},
   "outputs": [
    {
     "data": {
      "text/plain": [
       "['Data Analyst / Business Analyst',\n",
       " 'Data Analyst / Business Analyst',\n",
       " 'data analyst/ data analytics / Business analyst- SQL/Python/SAS',\n",
       " 'Business analyst + data Analysis']"
      ]
     },
     "execution_count": 12,
     "metadata": {},
     "output_type": "execute_result"
    }
   ],
   "source": [
    "job_title[0:4]"
   ]
  },
  {
   "cell_type": "code",
   "execution_count": 13,
   "id": "a9bde832",
   "metadata": {},
   "outputs": [
    {
     "data": {
      "text/plain": [
       "[<selenium.webdriver.remote.webelement.WebElement (session=\"af72eee9253925133c6492058fe38dd1\", element=\"95a7ba3e-8c7e-4bd8-842b-74e751cc1298\")>,\n",
       " <selenium.webdriver.remote.webelement.WebElement (session=\"af72eee9253925133c6492058fe38dd1\", element=\"122e898d-a9af-415d-a412-6065311b482c\")>,\n",
       " <selenium.webdriver.remote.webelement.WebElement (session=\"af72eee9253925133c6492058fe38dd1\", element=\"1b9f0077-80f8-46f4-bd9e-292276b6e345\")>,\n",
       " <selenium.webdriver.remote.webelement.WebElement (session=\"af72eee9253925133c6492058fe38dd1\", element=\"68a836d5-6f62-4307-b921-85016e7434f9\")>]"
      ]
     },
     "execution_count": 13,
     "metadata": {},
     "output_type": "execute_result"
    }
   ],
   "source": [
    "company_tags=driver.find_elements_by_xpath(\"//a[@class='subTitle ellipsis fleft']\")\n",
    "company_tags[0:4]"
   ]
  },
  {
   "cell_type": "code",
   "execution_count": 14,
   "id": "0fe248d0",
   "metadata": {},
   "outputs": [],
   "source": [
    "for i in company_tags:\n",
    "    company=i.text\n",
    "    company_name.append(company)"
   ]
  },
  {
   "cell_type": "code",
   "execution_count": 15,
   "id": "67d0f9b7",
   "metadata": {},
   "outputs": [
    {
     "data": {
      "text/plain": [
       "['METRO Cash & Carry',\n",
       " 'METRO Cash & Carry',\n",
       " 'Leading US MNC into Analytics',\n",
       " 'Anlage Infotech (I) Pvt. Ltd.']"
      ]
     },
     "execution_count": 15,
     "metadata": {},
     "output_type": "execute_result"
    }
   ],
   "source": [
    "company_name[0:4]"
   ]
  },
  {
   "cell_type": "code",
   "execution_count": 16,
   "id": "ef6afc28",
   "metadata": {},
   "outputs": [
    {
     "data": {
      "text/plain": [
       "[<selenium.webdriver.remote.webelement.WebElement (session=\"af72eee9253925133c6492058fe38dd1\", element=\"8180d0e8-a8a5-4abd-8598-f126871e63bc\")>,\n",
       " <selenium.webdriver.remote.webelement.WebElement (session=\"af72eee9253925133c6492058fe38dd1\", element=\"173c5996-6892-45f0-992b-a4fbbee74270\")>,\n",
       " <selenium.webdriver.remote.webelement.WebElement (session=\"af72eee9253925133c6492058fe38dd1\", element=\"c7c6f7de-3ee4-4812-8943-ecfad60b3a07\")>,\n",
       " <selenium.webdriver.remote.webelement.WebElement (session=\"af72eee9253925133c6492058fe38dd1\", element=\"b926ed06-781f-462b-842e-18d8e2e0a4d2\")>]"
      ]
     },
     "execution_count": 16,
     "metadata": {},
     "output_type": "execute_result"
    }
   ],
   "source": [
    "experience_tags=driver.find_elements_by_xpath(\"//li[@class='fleft grey-text br2 placeHolderLi experience']/span\")\n",
    "experience_tags[0:4]"
   ]
  },
  {
   "cell_type": "code",
   "execution_count": 17,
   "id": "f6ae2ba3",
   "metadata": {},
   "outputs": [],
   "source": [
    "for i in experience_tags:\n",
    "    experience=i .text\n",
    "    experience_list.append(experience)"
   ]
  },
  {
   "cell_type": "code",
   "execution_count": 18,
   "id": "4384f3c4",
   "metadata": {},
   "outputs": [
    {
     "data": {
      "text/plain": [
       "['3-8 Yrs', '3-8 Yrs', '2-7 Yrs', '5-10 Yrs']"
      ]
     },
     "execution_count": 18,
     "metadata": {},
     "output_type": "execute_result"
    }
   ],
   "source": [
    "experience_list[0:4]"
   ]
  },
  {
   "cell_type": "code",
   "execution_count": 19,
   "id": "c72b7fef",
   "metadata": {},
   "outputs": [
    {
     "data": {
      "text/plain": [
       "[<selenium.webdriver.remote.webelement.WebElement (session=\"af72eee9253925133c6492058fe38dd1\", element=\"05c5db8c-1909-4b52-bbd4-df80113271af\")>,\n",
       " <selenium.webdriver.remote.webelement.WebElement (session=\"af72eee9253925133c6492058fe38dd1\", element=\"26fc1091-8cbd-4cb9-b231-412d43fa1317\")>,\n",
       " <selenium.webdriver.remote.webelement.WebElement (session=\"af72eee9253925133c6492058fe38dd1\", element=\"42c1a8be-618c-455f-8137-e386356e7a43\")>,\n",
       " <selenium.webdriver.remote.webelement.WebElement (session=\"af72eee9253925133c6492058fe38dd1\", element=\"56e403d3-591a-476d-9a29-cb4d202b6090\")>]"
      ]
     },
     "execution_count": 19,
     "metadata": {},
     "output_type": "execute_result"
    }
   ],
   "source": [
    "location_tags=driver.find_elements_by_xpath(\"//li[@class='fleft grey-text br2 placeHolderLi location'] /span[1]\")\n",
    "location_tags[0:4]"
   ]
  },
  {
   "cell_type": "code",
   "execution_count": 20,
   "id": "fe8715d3",
   "metadata": {},
   "outputs": [],
   "source": [
    "for i in location_tags:\n",
    "    location=i.text\n",
    "    job_location_list.append(location)\n",
    "    "
   ]
  },
  {
   "cell_type": "code",
   "execution_count": 21,
   "id": "62e40c70",
   "metadata": {},
   "outputs": [
    {
     "data": {
      "text/plain": [
       "['Bangalore/Bengaluru',\n",
       " 'Bangalore/Bengaluru',\n",
       " 'Gurgaon/Gurugram, Bangalore/Bengaluru, Delhi / NCR',\n",
       " 'Hyderabad/Secunderabad, Bangalore/Bengaluru']"
      ]
     },
     "execution_count": 21,
     "metadata": {},
     "output_type": "execute_result"
    }
   ],
   "source": [
    "job_location_list[0:4]"
   ]
  },
  {
   "cell_type": "code",
   "execution_count": 22,
   "id": "7d35f7a2",
   "metadata": {},
   "outputs": [
    {
     "name": "stdout",
     "output_type": "stream",
     "text": [
      "9 20 20 20\n"
     ]
    }
   ],
   "source": [
    "print(len('job_title'),len(company_name),len(experience_list),len(job_location_list))"
   ]
  },
  {
   "cell_type": "code",
   "execution_count": null,
   "id": "86480def",
   "metadata": {},
   "outputs": [],
   "source": []
  },
  {
   "cell_type": "code",
   "execution_count": 23,
   "id": "f832c9e2",
   "metadata": {},
   "outputs": [],
   "source": [
    "df=pd.DataFrame({'JOB_TITLE':job_title,'COMPANY_NAME':company_name,'EXPERIENCE_LIST':experience_list,'JOB_LOCATION_LIST':job_location_list})"
   ]
  },
  {
   "cell_type": "code",
   "execution_count": 24,
   "id": "cea9512d",
   "metadata": {},
   "outputs": [
    {
     "data": {
      "text/html": [
       "<div>\n",
       "<style scoped>\n",
       "    .dataframe tbody tr th:only-of-type {\n",
       "        vertical-align: middle;\n",
       "    }\n",
       "\n",
       "    .dataframe tbody tr th {\n",
       "        vertical-align: top;\n",
       "    }\n",
       "\n",
       "    .dataframe thead th {\n",
       "        text-align: right;\n",
       "    }\n",
       "</style>\n",
       "<table border=\"1\" class=\"dataframe\">\n",
       "  <thead>\n",
       "    <tr style=\"text-align: right;\">\n",
       "      <th></th>\n",
       "      <th>JOB_TITLE</th>\n",
       "      <th>COMPANY_NAME</th>\n",
       "      <th>EXPERIENCE_LIST</th>\n",
       "      <th>JOB_LOCATION_LIST</th>\n",
       "    </tr>\n",
       "  </thead>\n",
       "  <tbody>\n",
       "    <tr>\n",
       "      <th>0</th>\n",
       "      <td>Data Analyst / Business Analyst</td>\n",
       "      <td>METRO Cash &amp; Carry</td>\n",
       "      <td>3-8 Yrs</td>\n",
       "      <td>Bangalore/Bengaluru</td>\n",
       "    </tr>\n",
       "    <tr>\n",
       "      <th>1</th>\n",
       "      <td>Data Analyst / Business Analyst</td>\n",
       "      <td>METRO Cash &amp; Carry</td>\n",
       "      <td>3-8 Yrs</td>\n",
       "      <td>Bangalore/Bengaluru</td>\n",
       "    </tr>\n",
       "    <tr>\n",
       "      <th>2</th>\n",
       "      <td>data analyst/ data analytics / Business analys...</td>\n",
       "      <td>Leading US MNC into Analytics</td>\n",
       "      <td>2-7 Yrs</td>\n",
       "      <td>Gurgaon/Gurugram, Bangalore/Bengaluru, Delhi /...</td>\n",
       "    </tr>\n",
       "    <tr>\n",
       "      <th>3</th>\n",
       "      <td>Business analyst + data Analysis</td>\n",
       "      <td>Anlage Infotech (I) Pvt. Ltd.</td>\n",
       "      <td>5-10 Yrs</td>\n",
       "      <td>Hyderabad/Secunderabad, Bangalore/Bengaluru</td>\n",
       "    </tr>\n",
       "    <tr>\n",
       "      <th>4</th>\n",
       "      <td>Data Analyst</td>\n",
       "      <td>upGrad</td>\n",
       "      <td>1-3 Yrs</td>\n",
       "      <td>Bangalore/Bengaluru</td>\n",
       "    </tr>\n",
       "    <tr>\n",
       "      <th>5</th>\n",
       "      <td>Associate Professional Data Analyst</td>\n",
       "      <td>DXC Technology</td>\n",
       "      <td>3-6 Yrs</td>\n",
       "      <td>Bangalore/Bengaluru</td>\n",
       "    </tr>\n",
       "    <tr>\n",
       "      <th>6</th>\n",
       "      <td>Business and Data Analyst</td>\n",
       "      <td>CAREERDOST ENTERPRISE</td>\n",
       "      <td>0-5 Yrs</td>\n",
       "      <td>Bangalore/Bengaluru</td>\n",
       "    </tr>\n",
       "    <tr>\n",
       "      <th>7</th>\n",
       "      <td>Senior Data Analyst</td>\n",
       "      <td>Flipkart</td>\n",
       "      <td>3-7 Yrs</td>\n",
       "      <td>Bangalore/Bengaluru</td>\n",
       "    </tr>\n",
       "    <tr>\n",
       "      <th>8</th>\n",
       "      <td>Senior Data Analyst</td>\n",
       "      <td>Thomson Reuters</td>\n",
       "      <td>2-4 Yrs</td>\n",
       "      <td>Bangalore/Bengaluru</td>\n",
       "    </tr>\n",
       "    <tr>\n",
       "      <th>9</th>\n",
       "      <td>Data Analyst</td>\n",
       "      <td>referral</td>\n",
       "      <td>2-5 Yrs</td>\n",
       "      <td>Bangalore/Bengaluru</td>\n",
       "    </tr>\n",
       "    <tr>\n",
       "      <th>10</th>\n",
       "      <td>Sr Data Analyst II</td>\n",
       "      <td>IHS Markit</td>\n",
       "      <td>3-6 Yrs</td>\n",
       "      <td>Gurgaon/Gurugram, Bangalore/Bengaluru</td>\n",
       "    </tr>\n",
       "    <tr>\n",
       "      <th>11</th>\n",
       "      <td>Data Analyst</td>\n",
       "      <td>Allegis Services India Pvt. Ltd.</td>\n",
       "      <td>8-13 Yrs</td>\n",
       "      <td>Bangalore/Bengaluru</td>\n",
       "    </tr>\n",
       "    <tr>\n",
       "      <th>12</th>\n",
       "      <td>Immediate opening For GCP - Data Analyst / Spe...</td>\n",
       "      <td>VERTICURL MARKETING PRIVATE LIMITED</td>\n",
       "      <td>3-5 Yrs</td>\n",
       "      <td>Coimbatore, Bangalore/Bengaluru</td>\n",
       "    </tr>\n",
       "    <tr>\n",
       "      <th>13</th>\n",
       "      <td>Data Analyst</td>\n",
       "      <td>referral</td>\n",
       "      <td>2-5 Yrs</td>\n",
       "      <td>Bangalore/Bengaluru</td>\n",
       "    </tr>\n",
       "    <tr>\n",
       "      <th>14</th>\n",
       "      <td>Senior Business Analyst - Data Sciences and Ad...</td>\n",
       "      <td>Vmware</td>\n",
       "      <td>3-7 Yrs</td>\n",
       "      <td>Bangalore/Bengaluru</td>\n",
       "    </tr>\n",
       "    <tr>\n",
       "      <th>15</th>\n",
       "      <td>Business analyst + data Analysis</td>\n",
       "      <td>Anlage Infotech (I) Pvt. Ltd.</td>\n",
       "      <td>5-10 Yrs</td>\n",
       "      <td>Hyderabad/Secunderabad, Bangalore/Bengaluru</td>\n",
       "    </tr>\n",
       "    <tr>\n",
       "      <th>16</th>\n",
       "      <td>SAS Analyst / data Analyst / Business analyst ...</td>\n",
       "      <td>Leading US MNC into analytics</td>\n",
       "      <td>2-7 Yrs</td>\n",
       "      <td>Bangalore/Bengaluru, Delhi / NCR, Mumbai (All ...</td>\n",
       "    </tr>\n",
       "    <tr>\n",
       "      <th>17</th>\n",
       "      <td>FIBI Master Data Management Analyst</td>\n",
       "      <td>Cargill</td>\n",
       "      <td>3-6 Yrs</td>\n",
       "      <td>Bangalore/Bengaluru</td>\n",
       "    </tr>\n",
       "    <tr>\n",
       "      <th>18</th>\n",
       "      <td>Data Analyst - Alteryx</td>\n",
       "      <td>Capco</td>\n",
       "      <td>4-7 Yrs</td>\n",
       "      <td>Bangalore/Bengaluru</td>\n",
       "    </tr>\n",
       "    <tr>\n",
       "      <th>19</th>\n",
       "      <td>Consultant - Data Analyst</td>\n",
       "      <td>Flipkart</td>\n",
       "      <td>1-3 Yrs</td>\n",
       "      <td>Bangalore/Bengaluru</td>\n",
       "    </tr>\n",
       "  </tbody>\n",
       "</table>\n",
       "</div>"
      ],
      "text/plain": [
       "                                            JOB_TITLE  \\\n",
       "0                     Data Analyst / Business Analyst   \n",
       "1                     Data Analyst / Business Analyst   \n",
       "2   data analyst/ data analytics / Business analys...   \n",
       "3                    Business analyst + data Analysis   \n",
       "4                                        Data Analyst   \n",
       "5                 Associate Professional Data Analyst   \n",
       "6                           Business and Data Analyst   \n",
       "7                                 Senior Data Analyst   \n",
       "8                                 Senior Data Analyst   \n",
       "9                                        Data Analyst   \n",
       "10                                 Sr Data Analyst II   \n",
       "11                                       Data Analyst   \n",
       "12  Immediate opening For GCP - Data Analyst / Spe...   \n",
       "13                                       Data Analyst   \n",
       "14  Senior Business Analyst - Data Sciences and Ad...   \n",
       "15                   Business analyst + data Analysis   \n",
       "16  SAS Analyst / data Analyst / Business analyst ...   \n",
       "17                FIBI Master Data Management Analyst   \n",
       "18                             Data Analyst - Alteryx   \n",
       "19                          Consultant - Data Analyst   \n",
       "\n",
       "                           COMPANY_NAME EXPERIENCE_LIST  \\\n",
       "0                    METRO Cash & Carry         3-8 Yrs   \n",
       "1                    METRO Cash & Carry         3-8 Yrs   \n",
       "2         Leading US MNC into Analytics         2-7 Yrs   \n",
       "3         Anlage Infotech (I) Pvt. Ltd.        5-10 Yrs   \n",
       "4                                upGrad         1-3 Yrs   \n",
       "5                        DXC Technology         3-6 Yrs   \n",
       "6                 CAREERDOST ENTERPRISE         0-5 Yrs   \n",
       "7                              Flipkart         3-7 Yrs   \n",
       "8                       Thomson Reuters         2-4 Yrs   \n",
       "9                              referral         2-5 Yrs   \n",
       "10                           IHS Markit         3-6 Yrs   \n",
       "11     Allegis Services India Pvt. Ltd.        8-13 Yrs   \n",
       "12  VERTICURL MARKETING PRIVATE LIMITED         3-5 Yrs   \n",
       "13                             referral         2-5 Yrs   \n",
       "14                               Vmware         3-7 Yrs   \n",
       "15        Anlage Infotech (I) Pvt. Ltd.        5-10 Yrs   \n",
       "16        Leading US MNC into analytics         2-7 Yrs   \n",
       "17                              Cargill         3-6 Yrs   \n",
       "18                                Capco         4-7 Yrs   \n",
       "19                             Flipkart         1-3 Yrs   \n",
       "\n",
       "                                    JOB_LOCATION_LIST  \n",
       "0                                 Bangalore/Bengaluru  \n",
       "1                                 Bangalore/Bengaluru  \n",
       "2   Gurgaon/Gurugram, Bangalore/Bengaluru, Delhi /...  \n",
       "3         Hyderabad/Secunderabad, Bangalore/Bengaluru  \n",
       "4                                 Bangalore/Bengaluru  \n",
       "5                                 Bangalore/Bengaluru  \n",
       "6                                 Bangalore/Bengaluru  \n",
       "7                                 Bangalore/Bengaluru  \n",
       "8                                 Bangalore/Bengaluru  \n",
       "9                                 Bangalore/Bengaluru  \n",
       "10              Gurgaon/Gurugram, Bangalore/Bengaluru  \n",
       "11                                Bangalore/Bengaluru  \n",
       "12                    Coimbatore, Bangalore/Bengaluru  \n",
       "13                                Bangalore/Bengaluru  \n",
       "14                                Bangalore/Bengaluru  \n",
       "15        Hyderabad/Secunderabad, Bangalore/Bengaluru  \n",
       "16  Bangalore/Bengaluru, Delhi / NCR, Mumbai (All ...  \n",
       "17                                Bangalore/Bengaluru  \n",
       "18                                Bangalore/Bengaluru  \n",
       "19                                Bangalore/Bengaluru  "
      ]
     },
     "execution_count": 24,
     "metadata": {},
     "output_type": "execute_result"
    }
   ],
   "source": [
    "df"
   ]
  },
  {
   "cell_type": "code",
   "execution_count": 25,
   "id": "871e5dad",
   "metadata": {},
   "outputs": [
    {
     "data": {
      "text/html": [
       "<div>\n",
       "<style scoped>\n",
       "    .dataframe tbody tr th:only-of-type {\n",
       "        vertical-align: middle;\n",
       "    }\n",
       "\n",
       "    .dataframe tbody tr th {\n",
       "        vertical-align: top;\n",
       "    }\n",
       "\n",
       "    .dataframe thead th {\n",
       "        text-align: right;\n",
       "    }\n",
       "</style>\n",
       "<table border=\"1\" class=\"dataframe\">\n",
       "  <thead>\n",
       "    <tr style=\"text-align: right;\">\n",
       "      <th></th>\n",
       "      <th>JOB_TITLE</th>\n",
       "      <th>COMPANY_NAME</th>\n",
       "      <th>EXPERIENCE_LIST</th>\n",
       "      <th>JOB_LOCATION_LIST</th>\n",
       "    </tr>\n",
       "  </thead>\n",
       "  <tbody>\n",
       "    <tr>\n",
       "      <th>0</th>\n",
       "      <td>Data Analyst / Business Analyst</td>\n",
       "      <td>METRO Cash &amp; Carry</td>\n",
       "      <td>3-8 Yrs</td>\n",
       "      <td>Bangalore/Bengaluru</td>\n",
       "    </tr>\n",
       "    <tr>\n",
       "      <th>1</th>\n",
       "      <td>Data Analyst / Business Analyst</td>\n",
       "      <td>METRO Cash &amp; Carry</td>\n",
       "      <td>3-8 Yrs</td>\n",
       "      <td>Bangalore/Bengaluru</td>\n",
       "    </tr>\n",
       "    <tr>\n",
       "      <th>2</th>\n",
       "      <td>data analyst/ data analytics / Business analys...</td>\n",
       "      <td>Leading US MNC into Analytics</td>\n",
       "      <td>2-7 Yrs</td>\n",
       "      <td>Gurgaon/Gurugram, Bangalore/Bengaluru, Delhi /...</td>\n",
       "    </tr>\n",
       "    <tr>\n",
       "      <th>3</th>\n",
       "      <td>Business analyst + data Analysis</td>\n",
       "      <td>Anlage Infotech (I) Pvt. Ltd.</td>\n",
       "      <td>5-10 Yrs</td>\n",
       "      <td>Hyderabad/Secunderabad, Bangalore/Bengaluru</td>\n",
       "    </tr>\n",
       "    <tr>\n",
       "      <th>4</th>\n",
       "      <td>Data Analyst</td>\n",
       "      <td>upGrad</td>\n",
       "      <td>1-3 Yrs</td>\n",
       "      <td>Bangalore/Bengaluru</td>\n",
       "    </tr>\n",
       "    <tr>\n",
       "      <th>5</th>\n",
       "      <td>Associate Professional Data Analyst</td>\n",
       "      <td>DXC Technology</td>\n",
       "      <td>3-6 Yrs</td>\n",
       "      <td>Bangalore/Bengaluru</td>\n",
       "    </tr>\n",
       "    <tr>\n",
       "      <th>6</th>\n",
       "      <td>Business and Data Analyst</td>\n",
       "      <td>CAREERDOST ENTERPRISE</td>\n",
       "      <td>0-5 Yrs</td>\n",
       "      <td>Bangalore/Bengaluru</td>\n",
       "    </tr>\n",
       "    <tr>\n",
       "      <th>7</th>\n",
       "      <td>Senior Data Analyst</td>\n",
       "      <td>Flipkart</td>\n",
       "      <td>3-7 Yrs</td>\n",
       "      <td>Bangalore/Bengaluru</td>\n",
       "    </tr>\n",
       "    <tr>\n",
       "      <th>8</th>\n",
       "      <td>Senior Data Analyst</td>\n",
       "      <td>Thomson Reuters</td>\n",
       "      <td>2-4 Yrs</td>\n",
       "      <td>Bangalore/Bengaluru</td>\n",
       "    </tr>\n",
       "    <tr>\n",
       "      <th>9</th>\n",
       "      <td>Data Analyst</td>\n",
       "      <td>referral</td>\n",
       "      <td>2-5 Yrs</td>\n",
       "      <td>Bangalore/Bengaluru</td>\n",
       "    </tr>\n",
       "  </tbody>\n",
       "</table>\n",
       "</div>"
      ],
      "text/plain": [
       "                                           JOB_TITLE  \\\n",
       "0                    Data Analyst / Business Analyst   \n",
       "1                    Data Analyst / Business Analyst   \n",
       "2  data analyst/ data analytics / Business analys...   \n",
       "3                   Business analyst + data Analysis   \n",
       "4                                       Data Analyst   \n",
       "5                Associate Professional Data Analyst   \n",
       "6                          Business and Data Analyst   \n",
       "7                                Senior Data Analyst   \n",
       "8                                Senior Data Analyst   \n",
       "9                                       Data Analyst   \n",
       "\n",
       "                    COMPANY_NAME EXPERIENCE_LIST  \\\n",
       "0             METRO Cash & Carry         3-8 Yrs   \n",
       "1             METRO Cash & Carry         3-8 Yrs   \n",
       "2  Leading US MNC into Analytics         2-7 Yrs   \n",
       "3  Anlage Infotech (I) Pvt. Ltd.        5-10 Yrs   \n",
       "4                         upGrad         1-3 Yrs   \n",
       "5                 DXC Technology         3-6 Yrs   \n",
       "6          CAREERDOST ENTERPRISE         0-5 Yrs   \n",
       "7                       Flipkart         3-7 Yrs   \n",
       "8                Thomson Reuters         2-4 Yrs   \n",
       "9                       referral         2-5 Yrs   \n",
       "\n",
       "                                   JOB_LOCATION_LIST  \n",
       "0                                Bangalore/Bengaluru  \n",
       "1                                Bangalore/Bengaluru  \n",
       "2  Gurgaon/Gurugram, Bangalore/Bengaluru, Delhi /...  \n",
       "3        Hyderabad/Secunderabad, Bangalore/Bengaluru  \n",
       "4                                Bangalore/Bengaluru  \n",
       "5                                Bangalore/Bengaluru  \n",
       "6                                Bangalore/Bengaluru  \n",
       "7                                Bangalore/Bengaluru  \n",
       "8                                Bangalore/Bengaluru  \n",
       "9                                Bangalore/Bengaluru  "
      ]
     },
     "execution_count": 25,
     "metadata": {},
     "output_type": "execute_result"
    }
   ],
   "source": [
    "df.iloc[0:10,]"
   ]
  },
  {
   "cell_type": "code",
   "execution_count": null,
   "id": "14294907",
   "metadata": {},
   "outputs": [],
   "source": []
  },
  {
   "cell_type": "markdown",
   "id": "4bc462a4",
   "metadata": {},
   "source": [
    "# Ques-2 DATA SCIENTIST"
   ]
  },
  {
   "cell_type": "code",
   "execution_count": 33,
   "id": "b48f9ef5",
   "metadata": {},
   "outputs": [
    {
     "name": "stdout",
     "output_type": "stream",
     "text": [
      "Requirement already satisfied: selenium in c:\\programdata\\anaconda3\\lib\\site-packages (4.1.5)\n",
      "Requirement already satisfied: trio~=0.17 in c:\\programdata\\anaconda3\\lib\\site-packages (from selenium) (0.20.0)\n",
      "Requirement already satisfied: trio-websocket~=0.9 in c:\\programdata\\anaconda3\\lib\\site-packages (from selenium) (0.9.2)\n",
      "Requirement already satisfied: urllib3[secure,socks]~=1.26 in c:\\programdata\\anaconda3\\lib\\site-packages (from selenium) (1.26.7)\n",
      "Requirement already satisfied: cffi>=1.14 in c:\\programdata\\anaconda3\\lib\\site-packages (from trio~=0.17->selenium) (1.14.6)\n",
      "Requirement already satisfied: async-generator>=1.9 in c:\\programdata\\anaconda3\\lib\\site-packages (from trio~=0.17->selenium) (1.10)\n",
      "Requirement already satisfied: sortedcontainers in c:\\programdata\\anaconda3\\lib\\site-packages (from trio~=0.17->selenium) (2.4.0)\n",
      "Requirement already satisfied: outcome in c:\\programdata\\anaconda3\\lib\\site-packages (from trio~=0.17->selenium) (1.1.0)\n",
      "Requirement already satisfied: sniffio in c:\\programdata\\anaconda3\\lib\\site-packages (from trio~=0.17->selenium) (1.2.0)\n",
      "Requirement already satisfied: idna in c:\\programdata\\anaconda3\\lib\\site-packages (from trio~=0.17->selenium) (3.2)\n",
      "Requirement already satisfied: attrs>=19.2.0 in c:\\programdata\\anaconda3\\lib\\site-packages (from trio~=0.17->selenium) (21.2.0)\n",
      "Requirement already satisfied: pycparser in c:\\programdata\\anaconda3\\lib\\site-packages (from cffi>=1.14->trio~=0.17->selenium) (2.20)\n",
      "Requirement already satisfied: wsproto>=0.14 in c:\\programdata\\anaconda3\\lib\\site-packages (from trio-websocket~=0.9->selenium) (1.1.0)\n",
      "Requirement already satisfied: pyOpenSSL>=0.14 in c:\\programdata\\anaconda3\\lib\\site-packages (from urllib3[secure,socks]~=1.26->selenium) (21.0.0)\n",
      "Requirement already satisfied: cryptography>=1.3.4 in c:\\programdata\\anaconda3\\lib\\site-packages (from urllib3[secure,socks]~=1.26->selenium) (3.4.8)\n",
      "Requirement already satisfied: certifi in c:\\programdata\\anaconda3\\lib\\site-packages (from urllib3[secure,socks]~=1.26->selenium) (2021.10.8)\n",
      "Requirement already satisfied: PySocks!=1.5.7,<2.0,>=1.5.6 in c:\\programdata\\anaconda3\\lib\\site-packages (from urllib3[secure,socks]~=1.26->selenium) (1.7.1)\n",
      "Requirement already satisfied: six>=1.5.2 in c:\\programdata\\anaconda3\\lib\\site-packages (from pyOpenSSL>=0.14->urllib3[secure,socks]~=1.26->selenium) (1.16.0)\n",
      "Requirement already satisfied: h11<1,>=0.9.0 in c:\\programdata\\anaconda3\\lib\\site-packages (from wsproto>=0.14->trio-websocket~=0.9->selenium) (0.13.0)\n"
     ]
    }
   ],
   "source": [
    "!pip install selenium"
   ]
  },
  {
   "cell_type": "code",
   "execution_count": 34,
   "id": "b64c8139",
   "metadata": {},
   "outputs": [],
   "source": [
    "import selenium\n",
    "import pandas as pd\n",
    "from selenium import webdriver\n",
    "import warnings\n",
    "warnings.filterwarnings(\"ignore\")\n",
    "import time"
   ]
  },
  {
   "cell_type": "code",
   "execution_count": 35,
   "id": "4dd83e2e",
   "metadata": {},
   "outputs": [],
   "source": [
    "driver=webdriver.Chrome(r\"C:\\Webchrome_driver_1\\chromedriver.exe\")"
   ]
  },
  {
   "cell_type": "code",
   "execution_count": 36,
   "id": "eb859993",
   "metadata": {},
   "outputs": [],
   "source": [
    "driver=webdriver.Chrome(\"chromedriver.exe\")\n",
    "time.sleep(2)"
   ]
  },
  {
   "cell_type": "code",
   "execution_count": 37,
   "id": "41db293b",
   "metadata": {},
   "outputs": [],
   "source": [
    "driver.get(\"https://www.naukri.com/\")"
   ]
  },
  {
   "cell_type": "code",
   "execution_count": 38,
   "id": "1506d8f6",
   "metadata": {},
   "outputs": [],
   "source": [
    "search_field_designation=driver.find_element_by_class_name('suggestor-input ')\n",
    "search_field_designation.send_keys('Data Scientist')"
   ]
  },
  {
   "cell_type": "code",
   "execution_count": 39,
   "id": "6900c8c5",
   "metadata": {},
   "outputs": [],
   "source": [
    "search_field_location=driver.find_element_by_xpath('/html/body/div/div[2]/div[3]/div/div/div[3]/div/div/div/input')\n",
    "search_field_location.send_keys('Bangalore')"
   ]
  },
  {
   "cell_type": "code",
   "execution_count": 40,
   "id": "668b7d58",
   "metadata": {},
   "outputs": [],
   "source": [
    "search_button=driver.find_element_by_xpath(\"/html/body/div/div[2]/div[3]/div/div/div[6]\")\n",
    "search_button.click()"
   ]
  },
  {
   "cell_type": "code",
   "execution_count": 41,
   "id": "20212000",
   "metadata": {},
   "outputs": [],
   "source": [
    "job_title=[]\n",
    "company_name=[]\n",
    "job_location_list=[]\n",
    "experience_list=[]"
   ]
  },
  {
   "cell_type": "code",
   "execution_count": 42,
   "id": "985c64a3",
   "metadata": {},
   "outputs": [
    {
     "data": {
      "text/plain": [
       "[<selenium.webdriver.remote.webelement.WebElement (session=\"1b169fa5b33362483172c81f9fda6a8a\", element=\"8a2a2b1d-a3e9-47a8-ac83-aa018bd62db7\")>,\n",
       " <selenium.webdriver.remote.webelement.WebElement (session=\"1b169fa5b33362483172c81f9fda6a8a\", element=\"b4358a62-a1c9-4a71-9a69-6be57301a3fe\")>,\n",
       " <selenium.webdriver.remote.webelement.WebElement (session=\"1b169fa5b33362483172c81f9fda6a8a\", element=\"85ba9e46-d4d3-4513-87c4-5a8aea4b83c5\")>,\n",
       " <selenium.webdriver.remote.webelement.WebElement (session=\"1b169fa5b33362483172c81f9fda6a8a\", element=\"7986504a-942f-4c8b-b948-5fca3699e6b1\")>]"
      ]
     },
     "execution_count": 42,
     "metadata": {},
     "output_type": "execute_result"
    }
   ],
   "source": [
    "title_tags=driver.find_elements_by_xpath(\"//a[@class='title fw500 ellipsis']\")\n",
    "title_tags[0:4]"
   ]
  },
  {
   "cell_type": "code",
   "execution_count": 43,
   "id": "942f9276",
   "metadata": {},
   "outputs": [],
   "source": [
    "for i in title_tags:\n",
    "    title=i.text\n",
    "    job_title.append(title)"
   ]
  },
  {
   "cell_type": "code",
   "execution_count": 44,
   "id": "991de9e9",
   "metadata": {},
   "outputs": [
    {
     "data": {
      "text/plain": [
       "['Senior Data Scientist',\n",
       " 'Sr. Analyst - Applied Data Scientist',\n",
       " 'Applied Data Scientist / ML Senior Engineer (Python / SQL)',\n",
       " 'Data Scientist']"
      ]
     },
     "execution_count": 44,
     "metadata": {},
     "output_type": "execute_result"
    }
   ],
   "source": [
    "job_title[0:4]"
   ]
  },
  {
   "cell_type": "code",
   "execution_count": 45,
   "id": "73eaa98d",
   "metadata": {},
   "outputs": [
    {
     "data": {
      "text/plain": [
       "[<selenium.webdriver.remote.webelement.WebElement (session=\"1b169fa5b33362483172c81f9fda6a8a\", element=\"7190f8ed-8909-4672-9062-3158487f0317\")>,\n",
       " <selenium.webdriver.remote.webelement.WebElement (session=\"1b169fa5b33362483172c81f9fda6a8a\", element=\"b456a229-7295-4120-82da-12dd8554ddea\")>,\n",
       " <selenium.webdriver.remote.webelement.WebElement (session=\"1b169fa5b33362483172c81f9fda6a8a\", element=\"12394853-1a89-464a-bf16-9b5be1d0ddc3\")>,\n",
       " <selenium.webdriver.remote.webelement.WebElement (session=\"1b169fa5b33362483172c81f9fda6a8a\", element=\"92c455ee-7762-4dbc-825f-868d8527960e\")>]"
      ]
     },
     "execution_count": 45,
     "metadata": {},
     "output_type": "execute_result"
    }
   ],
   "source": [
    "company_tags=driver.find_elements_by_xpath(\"//a[@class='subTitle ellipsis fleft']\")\n",
    "company_tags[0:4]"
   ]
  },
  {
   "cell_type": "code",
   "execution_count": 46,
   "id": "8af87861",
   "metadata": {},
   "outputs": [],
   "source": [
    "for i in company_tags:\n",
    "    company=i.text\n",
    "    company_name.append(company)"
   ]
  },
  {
   "cell_type": "code",
   "execution_count": 47,
   "id": "838c22de",
   "metadata": {},
   "outputs": [
    {
     "data": {
      "text/plain": [
       "['UPL', 'Tesco', 'SAP India Pvt.Ltd', 'UPL']"
      ]
     },
     "execution_count": 47,
     "metadata": {},
     "output_type": "execute_result"
    }
   ],
   "source": [
    "company_name[0:4]"
   ]
  },
  {
   "cell_type": "code",
   "execution_count": 48,
   "id": "f97a97bd",
   "metadata": {},
   "outputs": [
    {
     "data": {
      "text/plain": [
       "[<selenium.webdriver.remote.webelement.WebElement (session=\"1b169fa5b33362483172c81f9fda6a8a\", element=\"9be793a6-eb4b-4610-84fa-e2517cb0ef8a\")>,\n",
       " <selenium.webdriver.remote.webelement.WebElement (session=\"1b169fa5b33362483172c81f9fda6a8a\", element=\"8b0c0dd8-c898-46e0-a830-a6af423472ff\")>,\n",
       " <selenium.webdriver.remote.webelement.WebElement (session=\"1b169fa5b33362483172c81f9fda6a8a\", element=\"a62f0d55-cbea-4bab-bd39-9d8ab729d14a\")>,\n",
       " <selenium.webdriver.remote.webelement.WebElement (session=\"1b169fa5b33362483172c81f9fda6a8a\", element=\"7d3ec680-e97b-4d4f-864c-4c7f87f0b36c\")>]"
      ]
     },
     "execution_count": 48,
     "metadata": {},
     "output_type": "execute_result"
    }
   ],
   "source": [
    "experience_tags=driver.find_elements_by_xpath(\"//li[@class='fleft grey-text br2 placeHolderLi experience']/span[1]\")\n",
    "experience_tags[0:4]"
   ]
  },
  {
   "cell_type": "code",
   "execution_count": 49,
   "id": "9f9eb199",
   "metadata": {},
   "outputs": [],
   "source": [
    "for i in experience_tags:\n",
    "    experience=i .text\n",
    "    experience_list.append(experience)"
   ]
  },
  {
   "cell_type": "code",
   "execution_count": 50,
   "id": "cf04460a",
   "metadata": {},
   "outputs": [
    {
     "data": {
      "text/plain": [
       "['3-6 Yrs', '3-5 Yrs', '5-10 Yrs', '1-4 Yrs']"
      ]
     },
     "execution_count": 50,
     "metadata": {},
     "output_type": "execute_result"
    }
   ],
   "source": [
    "experience_list[0:4]"
   ]
  },
  {
   "cell_type": "code",
   "execution_count": 51,
   "id": "1cba76a9",
   "metadata": {},
   "outputs": [
    {
     "data": {
      "text/plain": [
       "[<selenium.webdriver.remote.webelement.WebElement (session=\"1b169fa5b33362483172c81f9fda6a8a\", element=\"033e0503-8d84-4f3f-a6ad-3854f1a29b64\")>,\n",
       " <selenium.webdriver.remote.webelement.WebElement (session=\"1b169fa5b33362483172c81f9fda6a8a\", element=\"193218ed-61d1-4297-8f55-d125f94804af\")>,\n",
       " <selenium.webdriver.remote.webelement.WebElement (session=\"1b169fa5b33362483172c81f9fda6a8a\", element=\"3f892cbf-bbdf-4276-9e73-bad869868894\")>,\n",
       " <selenium.webdriver.remote.webelement.WebElement (session=\"1b169fa5b33362483172c81f9fda6a8a\", element=\"f11e51ed-9e8a-4d71-9e99-d76cb9a548b4\")>]"
      ]
     },
     "execution_count": 51,
     "metadata": {},
     "output_type": "execute_result"
    }
   ],
   "source": [
    "location_tags=driver.find_elements_by_xpath(\"//li[@class='fleft grey-text br2 placeHolderLi location']/span[1]\")\n",
    "location_tags[0:4]"
   ]
  },
  {
   "cell_type": "code",
   "execution_count": 52,
   "id": "5377936b",
   "metadata": {},
   "outputs": [],
   "source": [
    "for i in location_tags:\n",
    "    location=i.text\n",
    "    job_location_list.append(location)"
   ]
  },
  {
   "cell_type": "code",
   "execution_count": 53,
   "id": "9d394459",
   "metadata": {},
   "outputs": [
    {
     "data": {
      "text/plain": [
       "['Bangalore/Bengaluru, Mumbai (All Areas)',\n",
       " 'Bangalore/Bengaluru',\n",
       " 'Bangalore/Bengaluru',\n",
       " 'Bangalore/Bengaluru, Mumbai (All Areas)']"
      ]
     },
     "execution_count": 53,
     "metadata": {},
     "output_type": "execute_result"
    }
   ],
   "source": [
    "job_location_list[0:4]"
   ]
  },
  {
   "cell_type": "code",
   "execution_count": 54,
   "id": "18736638",
   "metadata": {},
   "outputs": [
    {
     "name": "stdout",
     "output_type": "stream",
     "text": [
      "9 20 20 20\n"
     ]
    }
   ],
   "source": [
    "print(len('job_title'),len(company_name),len(experience_list),len(job_location_list))"
   ]
  },
  {
   "cell_type": "code",
   "execution_count": 55,
   "id": "97e6dcc7",
   "metadata": {},
   "outputs": [],
   "source": [
    "df=pd.DataFrame({'JOB_TITLE':job_title,'COMPANY_NAME':company_name,'EXPERIENCE_LIST':experience_list,'JOB_LOCATION_LIST':job_location_list})"
   ]
  },
  {
   "cell_type": "code",
   "execution_count": 56,
   "id": "04ad5d01",
   "metadata": {},
   "outputs": [
    {
     "data": {
      "text/html": [
       "<div>\n",
       "<style scoped>\n",
       "    .dataframe tbody tr th:only-of-type {\n",
       "        vertical-align: middle;\n",
       "    }\n",
       "\n",
       "    .dataframe tbody tr th {\n",
       "        vertical-align: top;\n",
       "    }\n",
       "\n",
       "    .dataframe thead th {\n",
       "        text-align: right;\n",
       "    }\n",
       "</style>\n",
       "<table border=\"1\" class=\"dataframe\">\n",
       "  <thead>\n",
       "    <tr style=\"text-align: right;\">\n",
       "      <th></th>\n",
       "      <th>JOB_TITLE</th>\n",
       "      <th>COMPANY_NAME</th>\n",
       "      <th>EXPERIENCE_LIST</th>\n",
       "      <th>JOB_LOCATION_LIST</th>\n",
       "    </tr>\n",
       "  </thead>\n",
       "  <tbody>\n",
       "    <tr>\n",
       "      <th>0</th>\n",
       "      <td>Senior Data Scientist</td>\n",
       "      <td>UPL</td>\n",
       "      <td>3-6 Yrs</td>\n",
       "      <td>Bangalore/Bengaluru, Mumbai (All Areas)</td>\n",
       "    </tr>\n",
       "    <tr>\n",
       "      <th>1</th>\n",
       "      <td>Sr. Analyst - Applied Data Scientist</td>\n",
       "      <td>Tesco</td>\n",
       "      <td>3-5 Yrs</td>\n",
       "      <td>Bangalore/Bengaluru</td>\n",
       "    </tr>\n",
       "    <tr>\n",
       "      <th>2</th>\n",
       "      <td>Applied Data Scientist / ML Senior Engineer (P...</td>\n",
       "      <td>SAP India Pvt.Ltd</td>\n",
       "      <td>5-10 Yrs</td>\n",
       "      <td>Bangalore/Bengaluru</td>\n",
       "    </tr>\n",
       "    <tr>\n",
       "      <th>3</th>\n",
       "      <td>Data Scientist</td>\n",
       "      <td>UPL</td>\n",
       "      <td>1-4 Yrs</td>\n",
       "      <td>Bangalore/Bengaluru, Mumbai (All Areas)</td>\n",
       "    </tr>\n",
       "    <tr>\n",
       "      <th>4</th>\n",
       "      <td>Expert Data Scientist</td>\n",
       "      <td>UPL</td>\n",
       "      <td>6-9 Yrs</td>\n",
       "      <td>Bangalore/Bengaluru, Mumbai (All Areas)</td>\n",
       "    </tr>\n",
       "    <tr>\n",
       "      <th>5</th>\n",
       "      <td>Principal Data Scientist</td>\n",
       "      <td>UPL</td>\n",
       "      <td>12-16 Yrs</td>\n",
       "      <td>Bangalore/Bengaluru, Mumbai (All Areas)</td>\n",
       "    </tr>\n",
       "    <tr>\n",
       "      <th>6</th>\n",
       "      <td>Analyst - Applied Data Scientist</td>\n",
       "      <td>Tesco</td>\n",
       "      <td>1-2 Yrs</td>\n",
       "      <td>Bangalore/Bengaluru</td>\n",
       "    </tr>\n",
       "    <tr>\n",
       "      <th>7</th>\n",
       "      <td>Research Data Scientist</td>\n",
       "      <td>Mavenir</td>\n",
       "      <td>4-9 Yrs</td>\n",
       "      <td>Bangalore/Bengaluru</td>\n",
       "    </tr>\n",
       "    <tr>\n",
       "      <th>8</th>\n",
       "      <td>Senior Data Scientist Grade12</td>\n",
       "      <td>Flipkart</td>\n",
       "      <td>5-10 Yrs</td>\n",
       "      <td>Bangalore/Bengaluru</td>\n",
       "    </tr>\n",
       "    <tr>\n",
       "      <th>9</th>\n",
       "      <td>Senior Data Scientist Grade12</td>\n",
       "      <td>Flipkart</td>\n",
       "      <td>5-7 Yrs</td>\n",
       "      <td>Bangalore/Bengaluru</td>\n",
       "    </tr>\n",
       "    <tr>\n",
       "      <th>10</th>\n",
       "      <td>Assistant Manager/Manager/Senior Manager - Dat...</td>\n",
       "      <td>Huquo Consulting Pvt. Ltd</td>\n",
       "      <td>2-7 Yrs</td>\n",
       "      <td>Gurgaon/Gurugram, Bangalore/Bengaluru</td>\n",
       "    </tr>\n",
       "    <tr>\n",
       "      <th>11</th>\n",
       "      <td>Data Scientist / Machine learning Engineer- Py...</td>\n",
       "      <td>Leading US MNC into Analytics</td>\n",
       "      <td>2-7 Yrs</td>\n",
       "      <td>Gurgaon/Gurugram, Bangalore/Bengaluru, Delhi /...</td>\n",
       "    </tr>\n",
       "    <tr>\n",
       "      <th>12</th>\n",
       "      <td>Data Scientist: Advanced Analytics</td>\n",
       "      <td>IBM</td>\n",
       "      <td>3-7 Yrs</td>\n",
       "      <td>Bangalore/Bengaluru</td>\n",
       "    </tr>\n",
       "    <tr>\n",
       "      <th>13</th>\n",
       "      <td>Data Scientist: Advanced Analytics</td>\n",
       "      <td>IBM</td>\n",
       "      <td>2-5 Yrs</td>\n",
       "      <td>Bangalore/Bengaluru</td>\n",
       "    </tr>\n",
       "    <tr>\n",
       "      <th>14</th>\n",
       "      <td>Data Scientist: Advanced Analytics</td>\n",
       "      <td>IBM</td>\n",
       "      <td>5-7 Yrs</td>\n",
       "      <td>Bengaluru/Bangalore</td>\n",
       "    </tr>\n",
       "    <tr>\n",
       "      <th>15</th>\n",
       "      <td>Data Scientist</td>\n",
       "      <td>Genpact</td>\n",
       "      <td>5-8 Yrs</td>\n",
       "      <td>Hyderabad/Secunderabad, Bangalore/Bengaluru, D...</td>\n",
       "    </tr>\n",
       "    <tr>\n",
       "      <th>16</th>\n",
       "      <td>Data Scientist</td>\n",
       "      <td>VISA</td>\n",
       "      <td>3-7 Yrs</td>\n",
       "      <td>Bangalore/Bengaluru</td>\n",
       "    </tr>\n",
       "    <tr>\n",
       "      <th>17</th>\n",
       "      <td>Data Scientist: Artificial Intelligence</td>\n",
       "      <td>IBM</td>\n",
       "      <td>10-12 Yrs</td>\n",
       "      <td>Bangalore/Bengaluru</td>\n",
       "    </tr>\n",
       "    <tr>\n",
       "      <th>18</th>\n",
       "      <td>Data Scientist: Artificial Intelligence</td>\n",
       "      <td>IBM</td>\n",
       "      <td>11-12 Yrs</td>\n",
       "      <td>Bengaluru/Bangalore</td>\n",
       "    </tr>\n",
       "    <tr>\n",
       "      <th>19</th>\n",
       "      <td>Data Scientist: Artificial Intelligence</td>\n",
       "      <td>IBM</td>\n",
       "      <td>11-12 Yrs</td>\n",
       "      <td>Bengaluru/Bangalore</td>\n",
       "    </tr>\n",
       "  </tbody>\n",
       "</table>\n",
       "</div>"
      ],
      "text/plain": [
       "                                            JOB_TITLE  \\\n",
       "0                               Senior Data Scientist   \n",
       "1                Sr. Analyst - Applied Data Scientist   \n",
       "2   Applied Data Scientist / ML Senior Engineer (P...   \n",
       "3                                      Data Scientist   \n",
       "4                               Expert Data Scientist   \n",
       "5                            Principal Data Scientist   \n",
       "6                    Analyst - Applied Data Scientist   \n",
       "7                             Research Data Scientist   \n",
       "8                       Senior Data Scientist Grade12   \n",
       "9                       Senior Data Scientist Grade12   \n",
       "10  Assistant Manager/Manager/Senior Manager - Dat...   \n",
       "11  Data Scientist / Machine learning Engineer- Py...   \n",
       "12                 Data Scientist: Advanced Analytics   \n",
       "13                 Data Scientist: Advanced Analytics   \n",
       "14                 Data Scientist: Advanced Analytics   \n",
       "15                                     Data Scientist   \n",
       "16                                     Data Scientist   \n",
       "17            Data Scientist: Artificial Intelligence   \n",
       "18            Data Scientist: Artificial Intelligence   \n",
       "19            Data Scientist: Artificial Intelligence   \n",
       "\n",
       "                     COMPANY_NAME EXPERIENCE_LIST  \\\n",
       "0                             UPL         3-6 Yrs   \n",
       "1                           Tesco         3-5 Yrs   \n",
       "2               SAP India Pvt.Ltd        5-10 Yrs   \n",
       "3                             UPL         1-4 Yrs   \n",
       "4                             UPL         6-9 Yrs   \n",
       "5                             UPL       12-16 Yrs   \n",
       "6                           Tesco         1-2 Yrs   \n",
       "7                         Mavenir         4-9 Yrs   \n",
       "8                        Flipkart        5-10 Yrs   \n",
       "9                        Flipkart         5-7 Yrs   \n",
       "10      Huquo Consulting Pvt. Ltd         2-7 Yrs   \n",
       "11  Leading US MNC into Analytics         2-7 Yrs   \n",
       "12                            IBM         3-7 Yrs   \n",
       "13                            IBM         2-5 Yrs   \n",
       "14                            IBM         5-7 Yrs   \n",
       "15                        Genpact         5-8 Yrs   \n",
       "16                           VISA         3-7 Yrs   \n",
       "17                            IBM       10-12 Yrs   \n",
       "18                            IBM       11-12 Yrs   \n",
       "19                            IBM       11-12 Yrs   \n",
       "\n",
       "                                    JOB_LOCATION_LIST  \n",
       "0             Bangalore/Bengaluru, Mumbai (All Areas)  \n",
       "1                                 Bangalore/Bengaluru  \n",
       "2                                 Bangalore/Bengaluru  \n",
       "3             Bangalore/Bengaluru, Mumbai (All Areas)  \n",
       "4             Bangalore/Bengaluru, Mumbai (All Areas)  \n",
       "5             Bangalore/Bengaluru, Mumbai (All Areas)  \n",
       "6                                 Bangalore/Bengaluru  \n",
       "7                                 Bangalore/Bengaluru  \n",
       "8                                 Bangalore/Bengaluru  \n",
       "9                                 Bangalore/Bengaluru  \n",
       "10              Gurgaon/Gurugram, Bangalore/Bengaluru  \n",
       "11  Gurgaon/Gurugram, Bangalore/Bengaluru, Delhi /...  \n",
       "12                                Bangalore/Bengaluru  \n",
       "13                                Bangalore/Bengaluru  \n",
       "14                                Bengaluru/Bangalore  \n",
       "15  Hyderabad/Secunderabad, Bangalore/Bengaluru, D...  \n",
       "16                                Bangalore/Bengaluru  \n",
       "17                                Bangalore/Bengaluru  \n",
       "18                                Bengaluru/Bangalore  \n",
       "19                                Bengaluru/Bangalore  "
      ]
     },
     "execution_count": 56,
     "metadata": {},
     "output_type": "execute_result"
    }
   ],
   "source": [
    "df"
   ]
  },
  {
   "cell_type": "code",
   "execution_count": 57,
   "id": "a3dec895",
   "metadata": {},
   "outputs": [
    {
     "data": {
      "text/html": [
       "<div>\n",
       "<style scoped>\n",
       "    .dataframe tbody tr th:only-of-type {\n",
       "        vertical-align: middle;\n",
       "    }\n",
       "\n",
       "    .dataframe tbody tr th {\n",
       "        vertical-align: top;\n",
       "    }\n",
       "\n",
       "    .dataframe thead th {\n",
       "        text-align: right;\n",
       "    }\n",
       "</style>\n",
       "<table border=\"1\" class=\"dataframe\">\n",
       "  <thead>\n",
       "    <tr style=\"text-align: right;\">\n",
       "      <th></th>\n",
       "      <th>JOB_TITLE</th>\n",
       "      <th>COMPANY_NAME</th>\n",
       "      <th>EXPERIENCE_LIST</th>\n",
       "      <th>JOB_LOCATION_LIST</th>\n",
       "    </tr>\n",
       "  </thead>\n",
       "  <tbody>\n",
       "    <tr>\n",
       "      <th>0</th>\n",
       "      <td>Senior Data Scientist</td>\n",
       "      <td>UPL</td>\n",
       "      <td>3-6 Yrs</td>\n",
       "      <td>Bangalore/Bengaluru, Mumbai (All Areas)</td>\n",
       "    </tr>\n",
       "    <tr>\n",
       "      <th>1</th>\n",
       "      <td>Sr. Analyst - Applied Data Scientist</td>\n",
       "      <td>Tesco</td>\n",
       "      <td>3-5 Yrs</td>\n",
       "      <td>Bangalore/Bengaluru</td>\n",
       "    </tr>\n",
       "    <tr>\n",
       "      <th>2</th>\n",
       "      <td>Applied Data Scientist / ML Senior Engineer (P...</td>\n",
       "      <td>SAP India Pvt.Ltd</td>\n",
       "      <td>5-10 Yrs</td>\n",
       "      <td>Bangalore/Bengaluru</td>\n",
       "    </tr>\n",
       "    <tr>\n",
       "      <th>3</th>\n",
       "      <td>Data Scientist</td>\n",
       "      <td>UPL</td>\n",
       "      <td>1-4 Yrs</td>\n",
       "      <td>Bangalore/Bengaluru, Mumbai (All Areas)</td>\n",
       "    </tr>\n",
       "    <tr>\n",
       "      <th>4</th>\n",
       "      <td>Expert Data Scientist</td>\n",
       "      <td>UPL</td>\n",
       "      <td>6-9 Yrs</td>\n",
       "      <td>Bangalore/Bengaluru, Mumbai (All Areas)</td>\n",
       "    </tr>\n",
       "    <tr>\n",
       "      <th>5</th>\n",
       "      <td>Principal Data Scientist</td>\n",
       "      <td>UPL</td>\n",
       "      <td>12-16 Yrs</td>\n",
       "      <td>Bangalore/Bengaluru, Mumbai (All Areas)</td>\n",
       "    </tr>\n",
       "    <tr>\n",
       "      <th>6</th>\n",
       "      <td>Analyst - Applied Data Scientist</td>\n",
       "      <td>Tesco</td>\n",
       "      <td>1-2 Yrs</td>\n",
       "      <td>Bangalore/Bengaluru</td>\n",
       "    </tr>\n",
       "    <tr>\n",
       "      <th>7</th>\n",
       "      <td>Research Data Scientist</td>\n",
       "      <td>Mavenir</td>\n",
       "      <td>4-9 Yrs</td>\n",
       "      <td>Bangalore/Bengaluru</td>\n",
       "    </tr>\n",
       "    <tr>\n",
       "      <th>8</th>\n",
       "      <td>Senior Data Scientist Grade12</td>\n",
       "      <td>Flipkart</td>\n",
       "      <td>5-10 Yrs</td>\n",
       "      <td>Bangalore/Bengaluru</td>\n",
       "    </tr>\n",
       "    <tr>\n",
       "      <th>9</th>\n",
       "      <td>Senior Data Scientist Grade12</td>\n",
       "      <td>Flipkart</td>\n",
       "      <td>5-7 Yrs</td>\n",
       "      <td>Bangalore/Bengaluru</td>\n",
       "    </tr>\n",
       "  </tbody>\n",
       "</table>\n",
       "</div>"
      ],
      "text/plain": [
       "                                           JOB_TITLE       COMPANY_NAME  \\\n",
       "0                              Senior Data Scientist                UPL   \n",
       "1               Sr. Analyst - Applied Data Scientist              Tesco   \n",
       "2  Applied Data Scientist / ML Senior Engineer (P...  SAP India Pvt.Ltd   \n",
       "3                                     Data Scientist                UPL   \n",
       "4                              Expert Data Scientist                UPL   \n",
       "5                           Principal Data Scientist                UPL   \n",
       "6                   Analyst - Applied Data Scientist              Tesco   \n",
       "7                            Research Data Scientist            Mavenir   \n",
       "8                      Senior Data Scientist Grade12           Flipkart   \n",
       "9                      Senior Data Scientist Grade12           Flipkart   \n",
       "\n",
       "  EXPERIENCE_LIST                        JOB_LOCATION_LIST  \n",
       "0         3-6 Yrs  Bangalore/Bengaluru, Mumbai (All Areas)  \n",
       "1         3-5 Yrs                      Bangalore/Bengaluru  \n",
       "2        5-10 Yrs                      Bangalore/Bengaluru  \n",
       "3         1-4 Yrs  Bangalore/Bengaluru, Mumbai (All Areas)  \n",
       "4         6-9 Yrs  Bangalore/Bengaluru, Mumbai (All Areas)  \n",
       "5       12-16 Yrs  Bangalore/Bengaluru, Mumbai (All Areas)  \n",
       "6         1-2 Yrs                      Bangalore/Bengaluru  \n",
       "7         4-9 Yrs                      Bangalore/Bengaluru  \n",
       "8        5-10 Yrs                      Bangalore/Bengaluru  \n",
       "9         5-7 Yrs                      Bangalore/Bengaluru  "
      ]
     },
     "execution_count": 57,
     "metadata": {},
     "output_type": "execute_result"
    }
   ],
   "source": [
    "df.iloc[0:10,]"
   ]
  },
  {
   "cell_type": "markdown",
   "id": "6f16d894",
   "metadata": {},
   "source": [
    "# Ques-4 FLIPKART.COM"
   ]
  },
  {
   "cell_type": "code",
   "execution_count": 179,
   "id": "85b95b52",
   "metadata": {},
   "outputs": [
    {
     "name": "stdout",
     "output_type": "stream",
     "text": [
      "Requirement already satisfied: selenium in c:\\programdata\\anaconda3\\lib\\site-packages (4.1.5)\n",
      "Requirement already satisfied: urllib3[secure,socks]~=1.26 in c:\\programdata\\anaconda3\\lib\\site-packages (from selenium) (1.26.7)\n",
      "Requirement already satisfied: trio~=0.17 in c:\\programdata\\anaconda3\\lib\\site-packages (from selenium) (0.20.0)\n",
      "Requirement already satisfied: trio-websocket~=0.9 in c:\\programdata\\anaconda3\\lib\\site-packages (from selenium) (0.9.2)\n",
      "Requirement already satisfied: outcome in c:\\programdata\\anaconda3\\lib\\site-packages (from trio~=0.17->selenium) (1.1.0)\n",
      "Requirement already satisfied: sniffio in c:\\programdata\\anaconda3\\lib\\site-packages (from trio~=0.17->selenium) (1.2.0)\n",
      "Requirement already satisfied: attrs>=19.2.0 in c:\\programdata\\anaconda3\\lib\\site-packages (from trio~=0.17->selenium) (21.2.0)\n",
      "Requirement already satisfied: idna in c:\\programdata\\anaconda3\\lib\\site-packages (from trio~=0.17->selenium) (3.2)\n",
      "Requirement already satisfied: async-generator>=1.9 in c:\\programdata\\anaconda3\\lib\\site-packages (from trio~=0.17->selenium) (1.10)\n",
      "Requirement already satisfied: cffi>=1.14 in c:\\programdata\\anaconda3\\lib\\site-packages (from trio~=0.17->selenium) (1.14.6)\n",
      "Requirement already satisfied: sortedcontainers in c:\\programdata\\anaconda3\\lib\\site-packages (from trio~=0.17->selenium) (2.4.0)\n",
      "Requirement already satisfied: pycparser in c:\\programdata\\anaconda3\\lib\\site-packages (from cffi>=1.14->trio~=0.17->selenium) (2.20)\n",
      "Requirement already satisfied: wsproto>=0.14 in c:\\programdata\\anaconda3\\lib\\site-packages (from trio-websocket~=0.9->selenium) (1.1.0)\n",
      "Requirement already satisfied: PySocks!=1.5.7,<2.0,>=1.5.6 in c:\\programdata\\anaconda3\\lib\\site-packages (from urllib3[secure,socks]~=1.26->selenium) (1.7.1)\n",
      "Requirement already satisfied: pyOpenSSL>=0.14 in c:\\programdata\\anaconda3\\lib\\site-packages (from urllib3[secure,socks]~=1.26->selenium) (21.0.0)\n",
      "Requirement already satisfied: cryptography>=1.3.4 in c:\\programdata\\anaconda3\\lib\\site-packages (from urllib3[secure,socks]~=1.26->selenium) (3.4.8)\n",
      "Requirement already satisfied: certifi in c:\\programdata\\anaconda3\\lib\\site-packages (from urllib3[secure,socks]~=1.26->selenium) (2021.10.8)\n",
      "Requirement already satisfied: six>=1.5.2 in c:\\programdata\\anaconda3\\lib\\site-packages (from pyOpenSSL>=0.14->urllib3[secure,socks]~=1.26->selenium) (1.16.0)\n",
      "Requirement already satisfied: h11<1,>=0.9.0 in c:\\programdata\\anaconda3\\lib\\site-packages (from wsproto>=0.14->trio-websocket~=0.9->selenium) (0.13.0)\n"
     ]
    }
   ],
   "source": [
    "!pip install selenium"
   ]
  },
  {
   "cell_type": "code",
   "execution_count": 181,
   "id": "ac05ddc6",
   "metadata": {},
   "outputs": [],
   "source": [
    "import selenium\n",
    "import pandas as pd\n",
    "from selenium import webdriver\n",
    "import warnings\n",
    "warnings.filterwarnings(\"ignore\")\n",
    "import time\n"
   ]
  },
  {
   "cell_type": "code",
   "execution_count": 183,
   "id": "d1b1d84f",
   "metadata": {},
   "outputs": [],
   "source": [
    "driver=webdriver.Chrome(r\"C:\\Webchrome_driver_1\\chromedriver.exe\")"
   ]
  },
  {
   "cell_type": "code",
   "execution_count": 184,
   "id": "45438d0e",
   "metadata": {},
   "outputs": [],
   "source": [
    "driver=webdriver.Chrome(\"chromedriver.exe\")\n",
    "time.sleep(2)"
   ]
  },
  {
   "cell_type": "code",
   "execution_count": 14,
   "id": "748f9b54",
   "metadata": {},
   "outputs": [],
   "source": [
    "driver.get(\"https://www.flipkart.com/\")"
   ]
  },
  {
   "cell_type": "code",
   "execution_count": 15,
   "id": "9bf7c05c",
   "metadata": {},
   "outputs": [],
   "source": [
    "search_field=driver.find_element_by_xpath(\"/html/body/div[1]/div/div[1]/div[1]/div[2]/div[2]/form/div/div/input\")\n",
    "search_field.send_keys('sunglasses')\n"
   ]
  },
  {
   "cell_type": "code",
   "execution_count": 16,
   "id": "78776f9d",
   "metadata": {},
   "outputs": [],
   "source": [
    "search_button=driver.find_element_by_xpath(\"/html/body/div[1]/div/div[1]/div[1]/div[2]/div[2]/form/div/button\")\n",
    "search_button.click()"
   ]
  },
  {
   "cell_type": "code",
   "execution_count": 10,
   "id": "d2ad2bd5",
   "metadata": {},
   "outputs": [],
   "source": [
    "sunglasses_name=[]\n",
    "prices_total=[]\n",
    "sunglasses_specification=[]\n"
   ]
  },
  {
   "cell_type": "code",
   "execution_count": 9,
   "id": "da1b8e8c",
   "metadata": {},
   "outputs": [
    {
     "data": {
      "text/plain": [
       "[<selenium.webdriver.remote.webelement.WebElement (session=\"ad9797d202ebafba8f0099f12c4dc744\", element=\"c4ad3153-1197-4cd0-80a2-7742a4ab4991\")>,\n",
       " <selenium.webdriver.remote.webelement.WebElement (session=\"ad9797d202ebafba8f0099f12c4dc744\", element=\"bcb02d1d-61bf-43d0-8143-1b1c6290dc13\")>,\n",
       " <selenium.webdriver.remote.webelement.WebElement (session=\"ad9797d202ebafba8f0099f12c4dc744\", element=\"d45de7d8-5c8f-4433-bd91-e87f7925969c\")>,\n",
       " <selenium.webdriver.remote.webelement.WebElement (session=\"ad9797d202ebafba8f0099f12c4dc744\", element=\"bc8625c3-d91d-489e-b51a-610d8ab48cd0\")>]"
      ]
     },
     "execution_count": 9,
     "metadata": {},
     "output_type": "execute_result"
    }
   ],
   "source": [
    "sunglass_tags=driver.find_elements_by_xpath(\"//div[@class='_2WkVRV']\")\n",
    "sunglass_tags[0:4]"
   ]
  },
  {
   "cell_type": "code",
   "execution_count": 10,
   "id": "f60c9400",
   "metadata": {},
   "outputs": [],
   "source": [
    "for i in sunglass_tags:\n",
    "    sunglass=i.text\n",
    "    sunglasses_name.append(sunglass)"
   ]
  },
  {
   "cell_type": "code",
   "execution_count": 11,
   "id": "0ec8e059",
   "metadata": {},
   "outputs": [
    {
     "data": {
      "text/plain": [
       "['PIRASO', 'Elligator', 'Elligator', 'SUNBEE']"
      ]
     },
     "execution_count": 11,
     "metadata": {},
     "output_type": "execute_result"
    }
   ],
   "source": [
    "sunglasses_name[0:4]"
   ]
  },
  {
   "cell_type": "code",
   "execution_count": 12,
   "id": "1c8a3d0f",
   "metadata": {},
   "outputs": [
    {
     "data": {
      "text/plain": [
       "[<selenium.webdriver.remote.webelement.WebElement (session=\"ad9797d202ebafba8f0099f12c4dc744\", element=\"69ad23ee-9141-44cd-bd4d-b703178b41f5\")>,\n",
       " <selenium.webdriver.remote.webelement.WebElement (session=\"ad9797d202ebafba8f0099f12c4dc744\", element=\"d66bfff9-5c07-4183-95fe-05d9cceb9bda\")>,\n",
       " <selenium.webdriver.remote.webelement.WebElement (session=\"ad9797d202ebafba8f0099f12c4dc744\", element=\"ec9cdc1f-96ad-4711-8bfd-05d624abd47b\")>,\n",
       " <selenium.webdriver.remote.webelement.WebElement (session=\"ad9797d202ebafba8f0099f12c4dc744\", element=\"517d722b-f1ec-42a7-a58e-bc61296c079a\")>]"
      ]
     },
     "execution_count": 12,
     "metadata": {},
     "output_type": "execute_result"
    }
   ],
   "source": [
    "specification_tags=driver.find_elements_by_xpath(\"//a[@class='IRpwTa']\")\n",
    "specification_tags[0:4]\n"
   ]
  },
  {
   "cell_type": "code",
   "execution_count": 13,
   "id": "a4926f39",
   "metadata": {},
   "outputs": [],
   "source": [
    "for i in specification_tags:\n",
    "    sunglass=i.text\n",
    "    sunglasses_specification.append(sunglass)"
   ]
  },
  {
   "cell_type": "code",
   "execution_count": 14,
   "id": "262abd60",
   "metadata": {},
   "outputs": [
    {
     "data": {
      "text/plain": [
       "['UV Protection Aviator Sunglasses (54)',\n",
       " 'UV Protection Wayfarer Sunglasses (53)',\n",
       " 'UV Protection Round Sunglasses (54)',\n",
       " 'UV Protection, Polarized Wayfarer Sunglasses (Free Size...']"
      ]
     },
     "execution_count": 14,
     "metadata": {},
     "output_type": "execute_result"
    }
   ],
   "source": [
    "sunglasses_specification[0:4]"
   ]
  },
  {
   "cell_type": "code",
   "execution_count": 15,
   "id": "25056535",
   "metadata": {},
   "outputs": [
    {
     "data": {
      "text/plain": [
       "[<selenium.webdriver.remote.webelement.WebElement (session=\"ad9797d202ebafba8f0099f12c4dc744\", element=\"e320016c-62bc-4261-aa2a-c97376679015\")>,\n",
       " <selenium.webdriver.remote.webelement.WebElement (session=\"ad9797d202ebafba8f0099f12c4dc744\", element=\"623320d0-56d6-4512-bba5-f20625c813c6\")>,\n",
       " <selenium.webdriver.remote.webelement.WebElement (session=\"ad9797d202ebafba8f0099f12c4dc744\", element=\"a8eb950a-05cb-4811-9518-dd502de28114\")>,\n",
       " <selenium.webdriver.remote.webelement.WebElement (session=\"ad9797d202ebafba8f0099f12c4dc744\", element=\"d5a078ff-91f2-4cd0-aab1-f5497878fe48\")>]"
      ]
     },
     "execution_count": 15,
     "metadata": {},
     "output_type": "execute_result"
    }
   ],
   "source": [
    "price_tags=driver.find_elements_by_xpath(\"//div[@class='_30jeq3']\")\n",
    "price_tags[0:4]"
   ]
  },
  {
   "cell_type": "code",
   "execution_count": 16,
   "id": "64ada01f",
   "metadata": {},
   "outputs": [],
   "source": [
    "for i in price_tags:\n",
    "    price=i.text\n",
    "    prices_total.append(price)"
   ]
  },
  {
   "cell_type": "code",
   "execution_count": 17,
   "id": "7b063a58",
   "metadata": {},
   "outputs": [
    {
     "data": {
      "text/plain": [
       "['₹249', '₹224', '₹295', '₹283']"
      ]
     },
     "execution_count": 17,
     "metadata": {},
     "output_type": "execute_result"
    }
   ],
   "source": [
    "prices_total[0:4]"
   ]
  },
  {
   "cell_type": "code",
   "execution_count": 18,
   "id": "ac66e370",
   "metadata": {},
   "outputs": [
    {
     "name": "stdout",
     "output_type": "stream",
     "text": [
      "40 40 40\n"
     ]
    }
   ],
   "source": [
    "print(len(sunglasses_name),len(sunglasses_specification),len(prices_total))"
   ]
  },
  {
   "cell_type": "code",
   "execution_count": null,
   "id": "181d0339",
   "metadata": {},
   "outputs": [],
   "source": []
  },
  {
   "cell_type": "code",
   "execution_count": 19,
   "id": "9adc6d71",
   "metadata": {},
   "outputs": [],
   "source": [
    "df1=pd.DataFrame({'SUNGLASSES_NAME':sunglasses_name,'SUNGLASSES_SPECIFICATION':sunglasses_specification, 'PRICES_TOTAL':prices_total})"
   ]
  },
  {
   "cell_type": "code",
   "execution_count": 20,
   "id": "b6215a64",
   "metadata": {},
   "outputs": [
    {
     "data": {
      "text/html": [
       "<div>\n",
       "<style scoped>\n",
       "    .dataframe tbody tr th:only-of-type {\n",
       "        vertical-align: middle;\n",
       "    }\n",
       "\n",
       "    .dataframe tbody tr th {\n",
       "        vertical-align: top;\n",
       "    }\n",
       "\n",
       "    .dataframe thead th {\n",
       "        text-align: right;\n",
       "    }\n",
       "</style>\n",
       "<table border=\"1\" class=\"dataframe\">\n",
       "  <thead>\n",
       "    <tr style=\"text-align: right;\">\n",
       "      <th></th>\n",
       "      <th>SUNGLASSES_NAME</th>\n",
       "      <th>SUNGLASSES_SPECIFICATION</th>\n",
       "      <th>PRICES_TOTAL</th>\n",
       "    </tr>\n",
       "  </thead>\n",
       "  <tbody>\n",
       "    <tr>\n",
       "      <th>0</th>\n",
       "      <td>PIRASO</td>\n",
       "      <td>UV Protection Aviator Sunglasses (54)</td>\n",
       "      <td>₹249</td>\n",
       "    </tr>\n",
       "    <tr>\n",
       "      <th>1</th>\n",
       "      <td>Elligator</td>\n",
       "      <td>UV Protection Wayfarer Sunglasses (53)</td>\n",
       "      <td>₹224</td>\n",
       "    </tr>\n",
       "    <tr>\n",
       "      <th>2</th>\n",
       "      <td>Elligator</td>\n",
       "      <td>UV Protection Round Sunglasses (54)</td>\n",
       "      <td>₹295</td>\n",
       "    </tr>\n",
       "    <tr>\n",
       "      <th>3</th>\n",
       "      <td>SUNBEE</td>\n",
       "      <td>UV Protection, Polarized Wayfarer Sunglasses (...</td>\n",
       "      <td>₹283</td>\n",
       "    </tr>\n",
       "    <tr>\n",
       "      <th>4</th>\n",
       "      <td>DAHAAZIL</td>\n",
       "      <td>UV Protection, Night Vision, Riding Glasses Wa...</td>\n",
       "      <td>₹219</td>\n",
       "    </tr>\n",
       "    <tr>\n",
       "      <th>5</th>\n",
       "      <td>Fastrack</td>\n",
       "      <td>UV Protection Wayfarer Sunglasses (Free Size)</td>\n",
       "      <td>₹647</td>\n",
       "    </tr>\n",
       "    <tr>\n",
       "      <th>6</th>\n",
       "      <td>New Specs</td>\n",
       "      <td>UV Protection Rectangular Sunglasses (Free Size)</td>\n",
       "      <td>₹269</td>\n",
       "    </tr>\n",
       "    <tr>\n",
       "      <th>7</th>\n",
       "      <td>PIRASO</td>\n",
       "      <td>UV Protection Wayfarer Sunglasses (32)</td>\n",
       "      <td>₹225</td>\n",
       "    </tr>\n",
       "    <tr>\n",
       "      <th>8</th>\n",
       "      <td>SHAAH COLLECTIONS</td>\n",
       "      <td>UV Protection, Polarized, Mirrored Rectangular...</td>\n",
       "      <td>₹195</td>\n",
       "    </tr>\n",
       "    <tr>\n",
       "      <th>9</th>\n",
       "      <td>Fastrack</td>\n",
       "      <td>UV Protection Rectangular Sunglasses (Free Size)</td>\n",
       "      <td>₹639</td>\n",
       "    </tr>\n",
       "    <tr>\n",
       "      <th>10</th>\n",
       "      <td>Fastrack</td>\n",
       "      <td>UV Protection Wayfarer Sunglasses (Free Size)</td>\n",
       "      <td>₹719</td>\n",
       "    </tr>\n",
       "    <tr>\n",
       "      <th>11</th>\n",
       "      <td>hipe</td>\n",
       "      <td>Gradient, UV Protection Round Sunglasses (Free...</td>\n",
       "      <td>₹177</td>\n",
       "    </tr>\n",
       "    <tr>\n",
       "      <th>12</th>\n",
       "      <td>PIRASO</td>\n",
       "      <td>UV Protection Aviator Sunglasses (54)</td>\n",
       "      <td>₹224</td>\n",
       "    </tr>\n",
       "    <tr>\n",
       "      <th>13</th>\n",
       "      <td>PIRASO</td>\n",
       "      <td>UV Protection Aviator Sunglasses (54)</td>\n",
       "      <td>₹224</td>\n",
       "    </tr>\n",
       "    <tr>\n",
       "      <th>14</th>\n",
       "      <td>PIRASO</td>\n",
       "      <td>UV Protection Rectangular Sunglasses (52)</td>\n",
       "      <td>₹280</td>\n",
       "    </tr>\n",
       "    <tr>\n",
       "      <th>15</th>\n",
       "      <td>Lee Topper</td>\n",
       "      <td>Riding Glasses Wrap-around Sunglasses (Free Size)</td>\n",
       "      <td>₹299</td>\n",
       "    </tr>\n",
       "    <tr>\n",
       "      <th>16</th>\n",
       "      <td>ROYAL SON</td>\n",
       "      <td>Mirrored Aviator Sunglasses (Free Size)</td>\n",
       "      <td>₹399</td>\n",
       "    </tr>\n",
       "    <tr>\n",
       "      <th>17</th>\n",
       "      <td>ROZZETTA CRAFT</td>\n",
       "      <td>Polarized, Riding Glasses Sports, Wrap-around ...</td>\n",
       "      <td>₹474</td>\n",
       "    </tr>\n",
       "    <tr>\n",
       "      <th>18</th>\n",
       "      <td>Singco India</td>\n",
       "      <td>Riding Glasses, UV Protection Clubmaster, Wayf...</td>\n",
       "      <td>₹329</td>\n",
       "    </tr>\n",
       "    <tr>\n",
       "      <th>19</th>\n",
       "      <td>kingsunglasses</td>\n",
       "      <td>UV Protection, Riding Glasses, Mirrored Wayfar...</td>\n",
       "      <td>₹209</td>\n",
       "    </tr>\n",
       "    <tr>\n",
       "      <th>20</th>\n",
       "      <td>PIRASO</td>\n",
       "      <td>UV Protection Aviator Sunglasses (58)</td>\n",
       "      <td>₹349</td>\n",
       "    </tr>\n",
       "    <tr>\n",
       "      <th>21</th>\n",
       "      <td>Lee Topper</td>\n",
       "      <td>UV Protection Rectangular Sunglasses (Free Size)</td>\n",
       "      <td>₹219</td>\n",
       "    </tr>\n",
       "    <tr>\n",
       "      <th>22</th>\n",
       "      <td>Fastrack</td>\n",
       "      <td>UV Protection Shield Sunglasses (Free Size)</td>\n",
       "      <td>₹809</td>\n",
       "    </tr>\n",
       "    <tr>\n",
       "      <th>23</th>\n",
       "      <td>New Specs</td>\n",
       "      <td>Mirrored, UV Protection, Riding Glasses, Other...</td>\n",
       "      <td>₹299</td>\n",
       "    </tr>\n",
       "    <tr>\n",
       "      <th>24</th>\n",
       "      <td>Fastrack</td>\n",
       "      <td>UV Protection Wayfarer Sunglasses (Free Size)</td>\n",
       "      <td>₹639</td>\n",
       "    </tr>\n",
       "    <tr>\n",
       "      <th>25</th>\n",
       "      <td>Elligator</td>\n",
       "      <td>UV Protection Aviator Sunglasses (55)</td>\n",
       "      <td>₹333</td>\n",
       "    </tr>\n",
       "    <tr>\n",
       "      <th>26</th>\n",
       "      <td>DEIXELS</td>\n",
       "      <td>UV Protection Aviator, Wayfarer Sunglasses (Fr...</td>\n",
       "      <td>₹217</td>\n",
       "    </tr>\n",
       "    <tr>\n",
       "      <th>27</th>\n",
       "      <td>SUNBEE</td>\n",
       "      <td>UV Protection, Polarized, Mirrored Retro Squar...</td>\n",
       "      <td>₹259</td>\n",
       "    </tr>\n",
       "    <tr>\n",
       "      <th>28</th>\n",
       "      <td>New Specs</td>\n",
       "      <td>UV Protection, Mirrored Round Sunglasses (Free...</td>\n",
       "      <td>₹329</td>\n",
       "    </tr>\n",
       "    <tr>\n",
       "      <th>29</th>\n",
       "      <td>ROZZETTA CRAFT</td>\n",
       "      <td>UV Protection, Gradient Retro Square Sunglasse...</td>\n",
       "      <td>₹349</td>\n",
       "    </tr>\n",
       "    <tr>\n",
       "      <th>30</th>\n",
       "      <td>kingscape</td>\n",
       "      <td>UV Protection Rectangular Sunglasses (Free Size)</td>\n",
       "      <td>₹137</td>\n",
       "    </tr>\n",
       "    <tr>\n",
       "      <th>31</th>\n",
       "      <td>maxa</td>\n",
       "      <td>UV Protection, Riding Glasses Rectangular, Way...</td>\n",
       "      <td>₹189</td>\n",
       "    </tr>\n",
       "    <tr>\n",
       "      <th>32</th>\n",
       "      <td>SRPM</td>\n",
       "      <td>UV Protection Wayfarer Sunglasses (50)</td>\n",
       "      <td>₹249</td>\n",
       "    </tr>\n",
       "    <tr>\n",
       "      <th>33</th>\n",
       "      <td>New Specs</td>\n",
       "      <td>UV Protection Round Sunglasses (Free Size)</td>\n",
       "      <td>₹264</td>\n",
       "    </tr>\n",
       "    <tr>\n",
       "      <th>34</th>\n",
       "      <td>Fastrack</td>\n",
       "      <td>Gradient, UV Protection Wayfarer Sunglasses (F...</td>\n",
       "      <td>₹575</td>\n",
       "    </tr>\n",
       "    <tr>\n",
       "      <th>35</th>\n",
       "      <td>kingsunglasses</td>\n",
       "      <td>UV Protection Round Sunglasses (54)</td>\n",
       "      <td>₹216</td>\n",
       "    </tr>\n",
       "    <tr>\n",
       "      <th>36</th>\n",
       "      <td>GANSTA</td>\n",
       "      <td>UV Protection Aviator Sunglasses (57)</td>\n",
       "      <td>₹284</td>\n",
       "    </tr>\n",
       "    <tr>\n",
       "      <th>37</th>\n",
       "      <td>ROZZETTA CRAFT</td>\n",
       "      <td>UV Protection, Gradient Rectangular Sunglasses...</td>\n",
       "      <td>₹379</td>\n",
       "    </tr>\n",
       "    <tr>\n",
       "      <th>38</th>\n",
       "      <td>AISLIN</td>\n",
       "      <td>UV Protection, Gradient Round, Cat-eye Sunglas...</td>\n",
       "      <td>₹498</td>\n",
       "    </tr>\n",
       "    <tr>\n",
       "      <th>39</th>\n",
       "      <td>ROZZETTA CRAFT</td>\n",
       "      <td>UV Protection Retro Square Sunglasses (Free Size)</td>\n",
       "      <td>₹499</td>\n",
       "    </tr>\n",
       "  </tbody>\n",
       "</table>\n",
       "</div>"
      ],
      "text/plain": [
       "      SUNGLASSES_NAME                           SUNGLASSES_SPECIFICATION  \\\n",
       "0              PIRASO              UV Protection Aviator Sunglasses (54)   \n",
       "1           Elligator             UV Protection Wayfarer Sunglasses (53)   \n",
       "2           Elligator                UV Protection Round Sunglasses (54)   \n",
       "3              SUNBEE  UV Protection, Polarized Wayfarer Sunglasses (...   \n",
       "4            DAHAAZIL  UV Protection, Night Vision, Riding Glasses Wa...   \n",
       "5            Fastrack      UV Protection Wayfarer Sunglasses (Free Size)   \n",
       "6           New Specs   UV Protection Rectangular Sunglasses (Free Size)   \n",
       "7              PIRASO             UV Protection Wayfarer Sunglasses (32)   \n",
       "8   SHAAH COLLECTIONS  UV Protection, Polarized, Mirrored Rectangular...   \n",
       "9            Fastrack   UV Protection Rectangular Sunglasses (Free Size)   \n",
       "10           Fastrack      UV Protection Wayfarer Sunglasses (Free Size)   \n",
       "11               hipe  Gradient, UV Protection Round Sunglasses (Free...   \n",
       "12             PIRASO              UV Protection Aviator Sunglasses (54)   \n",
       "13             PIRASO              UV Protection Aviator Sunglasses (54)   \n",
       "14             PIRASO          UV Protection Rectangular Sunglasses (52)   \n",
       "15         Lee Topper  Riding Glasses Wrap-around Sunglasses (Free Size)   \n",
       "16          ROYAL SON            Mirrored Aviator Sunglasses (Free Size)   \n",
       "17     ROZZETTA CRAFT  Polarized, Riding Glasses Sports, Wrap-around ...   \n",
       "18       Singco India  Riding Glasses, UV Protection Clubmaster, Wayf...   \n",
       "19     kingsunglasses  UV Protection, Riding Glasses, Mirrored Wayfar...   \n",
       "20             PIRASO              UV Protection Aviator Sunglasses (58)   \n",
       "21         Lee Topper   UV Protection Rectangular Sunglasses (Free Size)   \n",
       "22           Fastrack        UV Protection Shield Sunglasses (Free Size)   \n",
       "23          New Specs  Mirrored, UV Protection, Riding Glasses, Other...   \n",
       "24           Fastrack      UV Protection Wayfarer Sunglasses (Free Size)   \n",
       "25          Elligator              UV Protection Aviator Sunglasses (55)   \n",
       "26            DEIXELS  UV Protection Aviator, Wayfarer Sunglasses (Fr...   \n",
       "27             SUNBEE  UV Protection, Polarized, Mirrored Retro Squar...   \n",
       "28          New Specs  UV Protection, Mirrored Round Sunglasses (Free...   \n",
       "29     ROZZETTA CRAFT  UV Protection, Gradient Retro Square Sunglasse...   \n",
       "30          kingscape   UV Protection Rectangular Sunglasses (Free Size)   \n",
       "31               maxa  UV Protection, Riding Glasses Rectangular, Way...   \n",
       "32               SRPM             UV Protection Wayfarer Sunglasses (50)   \n",
       "33          New Specs         UV Protection Round Sunglasses (Free Size)   \n",
       "34           Fastrack  Gradient, UV Protection Wayfarer Sunglasses (F...   \n",
       "35     kingsunglasses                UV Protection Round Sunglasses (54)   \n",
       "36             GANSTA              UV Protection Aviator Sunglasses (57)   \n",
       "37     ROZZETTA CRAFT  UV Protection, Gradient Rectangular Sunglasses...   \n",
       "38             AISLIN  UV Protection, Gradient Round, Cat-eye Sunglas...   \n",
       "39     ROZZETTA CRAFT  UV Protection Retro Square Sunglasses (Free Size)   \n",
       "\n",
       "   PRICES_TOTAL  \n",
       "0          ₹249  \n",
       "1          ₹224  \n",
       "2          ₹295  \n",
       "3          ₹283  \n",
       "4          ₹219  \n",
       "5          ₹647  \n",
       "6          ₹269  \n",
       "7          ₹225  \n",
       "8          ₹195  \n",
       "9          ₹639  \n",
       "10         ₹719  \n",
       "11         ₹177  \n",
       "12         ₹224  \n",
       "13         ₹224  \n",
       "14         ₹280  \n",
       "15         ₹299  \n",
       "16         ₹399  \n",
       "17         ₹474  \n",
       "18         ₹329  \n",
       "19         ₹209  \n",
       "20         ₹349  \n",
       "21         ₹219  \n",
       "22         ₹809  \n",
       "23         ₹299  \n",
       "24         ₹639  \n",
       "25         ₹333  \n",
       "26         ₹217  \n",
       "27         ₹259  \n",
       "28         ₹329  \n",
       "29         ₹349  \n",
       "30         ₹137  \n",
       "31         ₹189  \n",
       "32         ₹249  \n",
       "33         ₹264  \n",
       "34         ₹575  \n",
       "35         ₹216  \n",
       "36         ₹284  \n",
       "37         ₹379  \n",
       "38         ₹498  \n",
       "39         ₹499  "
      ]
     },
     "execution_count": 20,
     "metadata": {},
     "output_type": "execute_result"
    }
   ],
   "source": [
    "df1"
   ]
  },
  {
   "cell_type": "code",
   "execution_count": 33,
   "id": "4da711a4",
   "metadata": {},
   "outputs": [],
   "source": [
    "t_list=[]\n",
    "for i in range(0,3):\n",
    "    sunglass_tags=driver.find_elements_by_xpath(\"//div[@class='_2WkVRV']\")\n",
    "    for i in sunglass_tags:\n",
    "        sunglass=i.text\n",
    "        t_list.append(sunglass)\n",
    "    next_button=driver.find_element_by_xpath('//*[@id=\"container\"]/div/div[3]/div[1]/div[2]/div[12]/div/div/nav/a[11]')\n",
    "    next_button.click()\n",
    "    time.sleep(5)\n",
    "      "
   ]
  },
  {
   "cell_type": "code",
   "execution_count": 34,
   "id": "d13cc9c6",
   "metadata": {},
   "outputs": [
    {
     "data": {
      "text/plain": [
       "120"
      ]
     },
     "execution_count": 34,
     "metadata": {},
     "output_type": "execute_result"
    }
   ],
   "source": [
    "len(t_list)"
   ]
  },
  {
   "cell_type": "code",
   "execution_count": 17,
   "id": "6e98b845",
   "metadata": {},
   "outputs": [],
   "source": [
    "price_list=[]\n",
    "for i in range(0,3):\n",
    "    price_tags=driver.find_elements_by_xpath('//div[@class=\"_30jeq3\"]')\n",
    "    for i in price_tags:\n",
    "        price=i.text\n",
    "        price_list.append(price)\n",
    "    next_button=driver.find_element_by_xpath('//*[@id=\"container\"]/div/div[3]/div[1]/div[2]/div[12]/div/div/nav/a[11]')\n",
    "    next_button.click()\n",
    "    time.sleep(5)\n",
    "    "
   ]
  },
  {
   "cell_type": "code",
   "execution_count": 18,
   "id": "bfce961a",
   "metadata": {},
   "outputs": [
    {
     "data": {
      "text/plain": [
       "120"
      ]
     },
     "execution_count": 18,
     "metadata": {},
     "output_type": "execute_result"
    }
   ],
   "source": [
    "len(price_list)"
   ]
  },
  {
   "cell_type": "code",
   "execution_count": 28,
   "id": "807c4edd",
   "metadata": {},
   "outputs": [],
   "source": [
    "product_des=[]\n",
    "for i in range(0,3):\n",
    "    des_tags=driver.find_elements_by_xpath('//a[@class=\"IRpwTa\"]')\n",
    "    for i in des_tags:\n",
    "        des=i.text\n",
    "        product_des.append(des)\n",
    "    next_button=driver.find_element_by_xpath('//*[@id=\"container\"]/div/div[3]/div[1]/div[2]/div[12]/div/div/nav/a[11]')\n",
    "    next_button.click()\n",
    "    time.sleep(5)"
   ]
  },
  {
   "cell_type": "code",
   "execution_count": 29,
   "id": "bf0fbc58",
   "metadata": {},
   "outputs": [
    {
     "data": {
      "text/plain": [
       "120"
      ]
     },
     "execution_count": 29,
     "metadata": {},
     "output_type": "execute_result"
    }
   ],
   "source": [
    "len(product_des)"
   ]
  },
  {
   "cell_type": "code",
   "execution_count": 35,
   "id": "d3b7254d",
   "metadata": {},
   "outputs": [],
   "source": [
    "df1=pd.DataFrame({'T_LIST':t_list,'PRICE_LIST':price_list,'PRODUCT_LIST':product_des})"
   ]
  },
  {
   "cell_type": "code",
   "execution_count": 36,
   "id": "1e16d4bf",
   "metadata": {},
   "outputs": [
    {
     "data": {
      "text/html": [
       "<div>\n",
       "<style scoped>\n",
       "    .dataframe tbody tr th:only-of-type {\n",
       "        vertical-align: middle;\n",
       "    }\n",
       "\n",
       "    .dataframe tbody tr th {\n",
       "        vertical-align: top;\n",
       "    }\n",
       "\n",
       "    .dataframe thead th {\n",
       "        text-align: right;\n",
       "    }\n",
       "</style>\n",
       "<table border=\"1\" class=\"dataframe\">\n",
       "  <thead>\n",
       "    <tr style=\"text-align: right;\">\n",
       "      <th></th>\n",
       "      <th>T_LIST</th>\n",
       "      <th>PRICE_LIST</th>\n",
       "      <th>PRODUCT_LIST</th>\n",
       "    </tr>\n",
       "  </thead>\n",
       "  <tbody>\n",
       "    <tr>\n",
       "      <th>0</th>\n",
       "      <td>ROYAL SON</td>\n",
       "      <td>₹630</td>\n",
       "      <td>UV Protection Round Sunglasses (54)</td>\n",
       "    </tr>\n",
       "    <tr>\n",
       "      <th>1</th>\n",
       "      <td>ROYAL SON</td>\n",
       "      <td>₹701</td>\n",
       "      <td>UV Protection Aviator Sunglasses (54)</td>\n",
       "    </tr>\n",
       "    <tr>\n",
       "      <th>2</th>\n",
       "      <td>AISLIN</td>\n",
       "      <td>₹295</td>\n",
       "      <td>UV Protection, Night Vision, Riding Glasses Wa...</td>\n",
       "    </tr>\n",
       "    <tr>\n",
       "      <th>3</th>\n",
       "      <td>Ray-Ban</td>\n",
       "      <td>₹249</td>\n",
       "      <td>UV Protection Wayfarer Sunglasses (Free Size)</td>\n",
       "    </tr>\n",
       "    <tr>\n",
       "      <th>4</th>\n",
       "      <td>ROYAL SON</td>\n",
       "      <td>₹219</td>\n",
       "      <td>UV Protection, Polarized, Mirrored Rectangular...</td>\n",
       "    </tr>\n",
       "    <tr>\n",
       "      <th>...</th>\n",
       "      <td>...</td>\n",
       "      <td>...</td>\n",
       "      <td>...</td>\n",
       "    </tr>\n",
       "    <tr>\n",
       "      <th>115</th>\n",
       "      <td>AISLIN</td>\n",
       "      <td>₹649</td>\n",
       "      <td>Gradient Round Sunglasses (52)</td>\n",
       "    </tr>\n",
       "    <tr>\n",
       "      <th>116</th>\n",
       "      <td>Ray-Ban</td>\n",
       "      <td>₹323</td>\n",
       "      <td>UV Protection, Mirrored Round Sunglasses (Free...</td>\n",
       "    </tr>\n",
       "    <tr>\n",
       "      <th>117</th>\n",
       "      <td>chawla fashion</td>\n",
       "      <td>₹222</td>\n",
       "      <td>UV Protection, Gradient Butterfly, Over-sized ...</td>\n",
       "    </tr>\n",
       "    <tr>\n",
       "      <th>118</th>\n",
       "      <td>AISLIN</td>\n",
       "      <td>₹224</td>\n",
       "      <td>UV Protection Aviator Sunglasses (58)</td>\n",
       "    </tr>\n",
       "    <tr>\n",
       "      <th>119</th>\n",
       "      <td>NuVew</td>\n",
       "      <td>₹945</td>\n",
       "      <td>UV Protection Retro Square Sunglasses (58)</td>\n",
       "    </tr>\n",
       "  </tbody>\n",
       "</table>\n",
       "<p>120 rows × 3 columns</p>\n",
       "</div>"
      ],
      "text/plain": [
       "             T_LIST PRICE_LIST  \\\n",
       "0         ROYAL SON       ₹630   \n",
       "1         ROYAL SON       ₹701   \n",
       "2            AISLIN       ₹295   \n",
       "3           Ray-Ban       ₹249   \n",
       "4         ROYAL SON       ₹219   \n",
       "..              ...        ...   \n",
       "115          AISLIN       ₹649   \n",
       "116         Ray-Ban       ₹323   \n",
       "117  chawla fashion       ₹222   \n",
       "118          AISLIN       ₹224   \n",
       "119           NuVew       ₹945   \n",
       "\n",
       "                                          PRODUCT_LIST  \n",
       "0                  UV Protection Round Sunglasses (54)  \n",
       "1                UV Protection Aviator Sunglasses (54)  \n",
       "2    UV Protection, Night Vision, Riding Glasses Wa...  \n",
       "3        UV Protection Wayfarer Sunglasses (Free Size)  \n",
       "4    UV Protection, Polarized, Mirrored Rectangular...  \n",
       "..                                                 ...  \n",
       "115                     Gradient Round Sunglasses (52)  \n",
       "116  UV Protection, Mirrored Round Sunglasses (Free...  \n",
       "117  UV Protection, Gradient Butterfly, Over-sized ...  \n",
       "118              UV Protection Aviator Sunglasses (58)  \n",
       "119         UV Protection Retro Square Sunglasses (58)  \n",
       "\n",
       "[120 rows x 3 columns]"
      ]
     },
     "execution_count": 36,
     "metadata": {},
     "output_type": "execute_result"
    }
   ],
   "source": [
    "df1"
   ]
  },
  {
   "cell_type": "code",
   "execution_count": 37,
   "id": "100bef9e",
   "metadata": {},
   "outputs": [
    {
     "data": {
      "text/html": [
       "<div>\n",
       "<style scoped>\n",
       "    .dataframe tbody tr th:only-of-type {\n",
       "        vertical-align: middle;\n",
       "    }\n",
       "\n",
       "    .dataframe tbody tr th {\n",
       "        vertical-align: top;\n",
       "    }\n",
       "\n",
       "    .dataframe thead th {\n",
       "        text-align: right;\n",
       "    }\n",
       "</style>\n",
       "<table border=\"1\" class=\"dataframe\">\n",
       "  <thead>\n",
       "    <tr style=\"text-align: right;\">\n",
       "      <th></th>\n",
       "      <th>T_LIST</th>\n",
       "      <th>PRICE_LIST</th>\n",
       "      <th>PRODUCT_LIST</th>\n",
       "    </tr>\n",
       "  </thead>\n",
       "  <tbody>\n",
       "    <tr>\n",
       "      <th>0</th>\n",
       "      <td>ROYAL SON</td>\n",
       "      <td>₹630</td>\n",
       "      <td>UV Protection Round Sunglasses (54)</td>\n",
       "    </tr>\n",
       "    <tr>\n",
       "      <th>1</th>\n",
       "      <td>ROYAL SON</td>\n",
       "      <td>₹701</td>\n",
       "      <td>UV Protection Aviator Sunglasses (54)</td>\n",
       "    </tr>\n",
       "    <tr>\n",
       "      <th>2</th>\n",
       "      <td>AISLIN</td>\n",
       "      <td>₹295</td>\n",
       "      <td>UV Protection, Night Vision, Riding Glasses Wa...</td>\n",
       "    </tr>\n",
       "    <tr>\n",
       "      <th>3</th>\n",
       "      <td>Ray-Ban</td>\n",
       "      <td>₹249</td>\n",
       "      <td>UV Protection Wayfarer Sunglasses (Free Size)</td>\n",
       "    </tr>\n",
       "    <tr>\n",
       "      <th>4</th>\n",
       "      <td>ROYAL SON</td>\n",
       "      <td>₹219</td>\n",
       "      <td>UV Protection, Polarized, Mirrored Rectangular...</td>\n",
       "    </tr>\n",
       "    <tr>\n",
       "      <th>...</th>\n",
       "      <td>...</td>\n",
       "      <td>...</td>\n",
       "      <td>...</td>\n",
       "    </tr>\n",
       "    <tr>\n",
       "      <th>95</th>\n",
       "      <td>AISLIN</td>\n",
       "      <td>₹649</td>\n",
       "      <td>UV Protection Wayfarer Sunglasses (59)</td>\n",
       "    </tr>\n",
       "    <tr>\n",
       "      <th>96</th>\n",
       "      <td>ROZZETTA CRAFT</td>\n",
       "      <td>₹9,259</td>\n",
       "      <td>by Lenskart Polarized, UV Protection Round Sun...</td>\n",
       "    </tr>\n",
       "    <tr>\n",
       "      <th>97</th>\n",
       "      <td>NuVew</td>\n",
       "      <td>₹207</td>\n",
       "      <td>UV Protection, Gradient Retro Square, Over-siz...</td>\n",
       "    </tr>\n",
       "    <tr>\n",
       "      <th>98</th>\n",
       "      <td>elegante</td>\n",
       "      <td>₹419</td>\n",
       "      <td>UV Protection, Toughened Glass Lens Retro Squa...</td>\n",
       "    </tr>\n",
       "    <tr>\n",
       "      <th>99</th>\n",
       "      <td>NuVew</td>\n",
       "      <td>₹675</td>\n",
       "      <td>UV Protection Round Sunglasses (Free Size)</td>\n",
       "    </tr>\n",
       "  </tbody>\n",
       "</table>\n",
       "<p>100 rows × 3 columns</p>\n",
       "</div>"
      ],
      "text/plain": [
       "            T_LIST PRICE_LIST  \\\n",
       "0        ROYAL SON       ₹630   \n",
       "1        ROYAL SON       ₹701   \n",
       "2           AISLIN       ₹295   \n",
       "3          Ray-Ban       ₹249   \n",
       "4        ROYAL SON       ₹219   \n",
       "..             ...        ...   \n",
       "95          AISLIN       ₹649   \n",
       "96  ROZZETTA CRAFT     ₹9,259   \n",
       "97           NuVew       ₹207   \n",
       "98        elegante       ₹419   \n",
       "99           NuVew       ₹675   \n",
       "\n",
       "                                         PRODUCT_LIST  \n",
       "0                 UV Protection Round Sunglasses (54)  \n",
       "1               UV Protection Aviator Sunglasses (54)  \n",
       "2   UV Protection, Night Vision, Riding Glasses Wa...  \n",
       "3       UV Protection Wayfarer Sunglasses (Free Size)  \n",
       "4   UV Protection, Polarized, Mirrored Rectangular...  \n",
       "..                                                ...  \n",
       "95             UV Protection Wayfarer Sunglasses (59)  \n",
       "96  by Lenskart Polarized, UV Protection Round Sun...  \n",
       "97  UV Protection, Gradient Retro Square, Over-siz...  \n",
       "98  UV Protection, Toughened Glass Lens Retro Squa...  \n",
       "99         UV Protection Round Sunglasses (Free Size)  \n",
       "\n",
       "[100 rows x 3 columns]"
      ]
     },
     "execution_count": 37,
     "metadata": {},
     "output_type": "execute_result"
    }
   ],
   "source": [
    "df1.head(100)"
   ]
  },
  {
   "cell_type": "code",
   "execution_count": null,
   "id": "2140e522",
   "metadata": {},
   "outputs": [],
   "source": []
  },
  {
   "cell_type": "markdown",
   "id": "1790e57d",
   "metadata": {},
   "source": [
    "# Ques-3: Naukri.com"
   ]
  },
  {
   "cell_type": "code",
   "execution_count": 280,
   "id": "e7c087b3",
   "metadata": {},
   "outputs": [
    {
     "name": "stdout",
     "output_type": "stream",
     "text": [
      "Requirement already satisfied: selenium in c:\\programdata\\anaconda3\\lib\\site-packages (4.1.5)\n",
      "Requirement already satisfied: urllib3[secure,socks]~=1.26 in c:\\programdata\\anaconda3\\lib\\site-packages (from selenium) (1.26.7)\n",
      "Requirement already satisfied: trio~=0.17 in c:\\programdata\\anaconda3\\lib\\site-packages (from selenium) (0.20.0)\n",
      "Requirement already satisfied: trio-websocket~=0.9 in c:\\programdata\\anaconda3\\lib\\site-packages (from selenium) (0.9.2)\n",
      "Requirement already satisfied: outcome in c:\\programdata\\anaconda3\\lib\\site-packages (from trio~=0.17->selenium) (1.1.0)\n",
      "Requirement already satisfied: sortedcontainers in c:\\programdata\\anaconda3\\lib\\site-packages (from trio~=0.17->selenium) (2.4.0)\n",
      "Requirement already satisfied: sniffio in c:\\programdata\\anaconda3\\lib\\site-packages (from trio~=0.17->selenium) (1.2.0)\n",
      "Requirement already satisfied: async-generator>=1.9 in c:\\programdata\\anaconda3\\lib\\site-packages (from trio~=0.17->selenium) (1.10)\n",
      "Requirement already satisfied: attrs>=19.2.0 in c:\\programdata\\anaconda3\\lib\\site-packages (from trio~=0.17->selenium) (21.2.0)\n",
      "Requirement already satisfied: cffi>=1.14 in c:\\programdata\\anaconda3\\lib\\site-packages (from trio~=0.17->selenium) (1.14.6)\n",
      "Requirement already satisfied: idna in c:\\programdata\\anaconda3\\lib\\site-packages (from trio~=0.17->selenium) (3.2)\n",
      "Requirement already satisfied: pycparser in c:\\programdata\\anaconda3\\lib\\site-packages (from cffi>=1.14->trio~=0.17->selenium) (2.20)\n",
      "Requirement already satisfied: wsproto>=0.14 in c:\\programdata\\anaconda3\\lib\\site-packages (from trio-websocket~=0.9->selenium) (1.1.0)\n",
      "Requirement already satisfied: PySocks!=1.5.7,<2.0,>=1.5.6 in c:\\programdata\\anaconda3\\lib\\site-packages (from urllib3[secure,socks]~=1.26->selenium) (1.7.1)\n",
      "Requirement already satisfied: pyOpenSSL>=0.14 in c:\\programdata\\anaconda3\\lib\\site-packages (from urllib3[secure,socks]~=1.26->selenium) (21.0.0)\n",
      "Requirement already satisfied: cryptography>=1.3.4 in c:\\programdata\\anaconda3\\lib\\site-packages (from urllib3[secure,socks]~=1.26->selenium) (3.4.8)\n",
      "Requirement already satisfied: certifi in c:\\programdata\\anaconda3\\lib\\site-packages (from urllib3[secure,socks]~=1.26->selenium) (2021.10.8)\n",
      "Requirement already satisfied: six>=1.5.2 in c:\\programdata\\anaconda3\\lib\\site-packages (from pyOpenSSL>=0.14->urllib3[secure,socks]~=1.26->selenium) (1.16.0)\n",
      "Requirement already satisfied: h11<1,>=0.9.0 in c:\\programdata\\anaconda3\\lib\\site-packages (from wsproto>=0.14->trio-websocket~=0.9->selenium) (0.13.0)\n"
     ]
    }
   ],
   "source": [
    "!pip install selenium\n"
   ]
  },
  {
   "cell_type": "code",
   "execution_count": 281,
   "id": "eb5c559b",
   "metadata": {},
   "outputs": [],
   "source": [
    "import selenium\n",
    "import pandas as pd\n",
    "from selenium import webdriver\n",
    "import warnings\n",
    "warnings.filterwarnings(\"ignore\")\n",
    "import time"
   ]
  },
  {
   "cell_type": "code",
   "execution_count": 232,
   "id": "b5122b44",
   "metadata": {},
   "outputs": [],
   "source": [
    "driver=webdriver.Chrome(r\"C:\\Webchrome_driver_1\\chromedriver.exe\")"
   ]
  },
  {
   "cell_type": "code",
   "execution_count": 233,
   "id": "5068dbbd",
   "metadata": {},
   "outputs": [],
   "source": [
    "driver=webdriver.Chrome(\"chromedriver.exe\")\n",
    "time.sleep(2)"
   ]
  },
  {
   "cell_type": "code",
   "execution_count": 114,
   "id": "0ef98aae",
   "metadata": {},
   "outputs": [],
   "source": [
    "driver.get(\"https://www.naukri.com/\")"
   ]
  },
  {
   "cell_type": "code",
   "execution_count": 115,
   "id": "2ee89789",
   "metadata": {},
   "outputs": [],
   "source": [
    "search_field_designation=driver.find_element_by_class_name('suggestor-input ')\n",
    "search_field_designation.send_keys('Data Scientist')"
   ]
  },
  {
   "cell_type": "code",
   "execution_count": 116,
   "id": "ad9dd443",
   "metadata": {},
   "outputs": [],
   "source": [
    "search_field_location=driver.find_element_by_xpath('/html/body/div/div[2]/div[3]/div/div/div[3]/div/div/div/input')\n",
    "search_field_location.send_keys('Delhi/NCR')"
   ]
  },
  {
   "cell_type": "code",
   "execution_count": 117,
   "id": "1297d8cf",
   "metadata": {},
   "outputs": [],
   "source": [
    "search_button=driver.find_element_by_xpath(\"/html/body/div/div[2]/div[3]/div/div/div[6]\")\n",
    "search_button.click()"
   ]
  },
  {
   "cell_type": "code",
   "execution_count": 118,
   "id": "5d5fe2a3",
   "metadata": {},
   "outputs": [],
   "source": [
    "salary_filter_button=driver.find_element_by_xpath('/html/body/div[1]/div[3]/div[2]/section[1]/div[2]/div[4]/div[2]/div[2]/label/p/span[1]')\n",
    "salary_filter_button.click()\n"
   ]
  },
  {
   "cell_type": "code",
   "execution_count": 119,
   "id": "883dbcf6",
   "metadata": {},
   "outputs": [],
   "source": [
    "job_title_list=[]\n",
    "job_location_list=[]\n",
    "company_name_list=[]\n",
    "experience_list=[]"
   ]
  },
  {
   "cell_type": "code",
   "execution_count": 120,
   "id": "42ddd022",
   "metadata": {},
   "outputs": [],
   "source": [
    "title_tags=driver.find_elements_by_xpath('//a[@class=\"title fw500 ellipsis\"]')\n",
    "for i in title_tags:\n",
    "    title=i.text\n",
    "    job_title_list.append(title)"
   ]
  },
  {
   "cell_type": "code",
   "execution_count": 121,
   "id": "6fc5d467",
   "metadata": {},
   "outputs": [
    {
     "data": {
      "text/plain": [
       "['Data Scientist',\n",
       " 'Junior Data Scientist',\n",
       " 'Data Scientist - Internet Jobs - II',\n",
       " 'Associate Scientist - Data Engineering']"
      ]
     },
     "execution_count": 121,
     "metadata": {},
     "output_type": "execute_result"
    }
   ],
   "source": [
    "job_title_list[0:4]"
   ]
  },
  {
   "cell_type": "code",
   "execution_count": 122,
   "id": "28c2c5bc",
   "metadata": {},
   "outputs": [
    {
     "data": {
      "text/plain": [
       "20"
      ]
     },
     "execution_count": 122,
     "metadata": {},
     "output_type": "execute_result"
    }
   ],
   "source": [
    "len(job_title_list)"
   ]
  },
  {
   "cell_type": "code",
   "execution_count": null,
   "id": "4dd0eba4",
   "metadata": {},
   "outputs": [],
   "source": []
  },
  {
   "cell_type": "code",
   "execution_count": 123,
   "id": "1b9f78ef",
   "metadata": {},
   "outputs": [],
   "source": [
    "location_tags=driver.find_elements_by_xpath('//li[@class=\"fleft grey-text br2 placeHolderLi location\"]/span[1]')\n",
    "for i in location_tags:\n",
    "    location=i.text\n",
    "    job_location_list.append(location)"
   ]
  },
  {
   "cell_type": "code",
   "execution_count": 124,
   "id": "f2059e0b",
   "metadata": {},
   "outputs": [
    {
     "data": {
      "text/plain": [
       "['Noida, Bangalore/Bengaluru',\n",
       " 'Noida',\n",
       " 'Bangalore/Bengaluru, Delhi / NCR, Mumbai (All Areas)',\n",
       " 'Gurgaon/Gurugram']"
      ]
     },
     "execution_count": 124,
     "metadata": {},
     "output_type": "execute_result"
    }
   ],
   "source": [
    "job_location_list[0:4]"
   ]
  },
  {
   "cell_type": "code",
   "execution_count": 125,
   "id": "ed41cd8e",
   "metadata": {},
   "outputs": [
    {
     "data": {
      "text/plain": [
       "20"
      ]
     },
     "execution_count": 125,
     "metadata": {},
     "output_type": "execute_result"
    }
   ],
   "source": [
    "len(job_location_list)"
   ]
  },
  {
   "cell_type": "code",
   "execution_count": 126,
   "id": "473b76de",
   "metadata": {},
   "outputs": [],
   "source": [
    "company_tags=driver.find_elements_by_xpath('//a[@class=\"subTitle ellipsis fleft\"]')\n",
    "for i in company_tags:\n",
    "    company=i.text\n",
    "    company_name_list.append(company)"
   ]
  },
  {
   "cell_type": "code",
   "execution_count": 127,
   "id": "33d65f0a",
   "metadata": {},
   "outputs": [
    {
     "data": {
      "text/plain": [
       "['Ashkom Media India Private Limited',\n",
       " 'EASY DATA ANALYTICS TECHNOLOGY PRIVATE LIMITED',\n",
       " 'Jobs Territory',\n",
       " 'AXA Technology Services India Pvt. Ltd']"
      ]
     },
     "execution_count": 127,
     "metadata": {},
     "output_type": "execute_result"
    }
   ],
   "source": [
    "company_name_list[0:4]"
   ]
  },
  {
   "cell_type": "code",
   "execution_count": 128,
   "id": "64b499c7",
   "metadata": {},
   "outputs": [
    {
     "data": {
      "text/plain": [
       "20"
      ]
     },
     "execution_count": 128,
     "metadata": {},
     "output_type": "execute_result"
    }
   ],
   "source": [
    "len(company_name_list)"
   ]
  },
  {
   "cell_type": "code",
   "execution_count": 129,
   "id": "e5b10d79",
   "metadata": {},
   "outputs": [],
   "source": [
    "experience_tags=driver.find_elements_by_xpath('//li[@class=\"fleft grey-text br2 placeHolderLi experience\"]/span[1]')\n",
    "for i in experience_tags:\n",
    "    experience=i.text\n",
    "    experience_list.append(experience)"
   ]
  },
  {
   "cell_type": "code",
   "execution_count": 130,
   "id": "6d44cf21",
   "metadata": {},
   "outputs": [
    {
     "data": {
      "text/plain": [
       "['3-6 Yrs', '1-2 Yrs', '3-6 Yrs', '2-5 Yrs']"
      ]
     },
     "execution_count": 130,
     "metadata": {},
     "output_type": "execute_result"
    }
   ],
   "source": [
    " experience_list[0:4]"
   ]
  },
  {
   "cell_type": "code",
   "execution_count": 131,
   "id": "670fb347",
   "metadata": {},
   "outputs": [
    {
     "data": {
      "text/plain": [
       "20"
      ]
     },
     "execution_count": 131,
     "metadata": {},
     "output_type": "execute_result"
    }
   ],
   "source": [
    "len(experience_list)"
   ]
  },
  {
   "cell_type": "code",
   "execution_count": 132,
   "id": "c635d107",
   "metadata": {},
   "outputs": [],
   "source": [
    "df=pd.DataFrame({'JOB_TITLE':job_title_list,'JOB_LOCATION_LIST':job_location_list,'company_name_list':company_name_list,'EXPERIENCE_LIST':experience_list})"
   ]
  },
  {
   "cell_type": "code",
   "execution_count": 133,
   "id": "2211a92c",
   "metadata": {},
   "outputs": [
    {
     "data": {
      "text/html": [
       "<div>\n",
       "<style scoped>\n",
       "    .dataframe tbody tr th:only-of-type {\n",
       "        vertical-align: middle;\n",
       "    }\n",
       "\n",
       "    .dataframe tbody tr th {\n",
       "        vertical-align: top;\n",
       "    }\n",
       "\n",
       "    .dataframe thead th {\n",
       "        text-align: right;\n",
       "    }\n",
       "</style>\n",
       "<table border=\"1\" class=\"dataframe\">\n",
       "  <thead>\n",
       "    <tr style=\"text-align: right;\">\n",
       "      <th></th>\n",
       "      <th>JOB_TITLE</th>\n",
       "      <th>JOB_LOCATION_LIST</th>\n",
       "      <th>company_name_list</th>\n",
       "      <th>EXPERIENCE_LIST</th>\n",
       "    </tr>\n",
       "  </thead>\n",
       "  <tbody>\n",
       "    <tr>\n",
       "      <th>0</th>\n",
       "      <td>Data Scientist</td>\n",
       "      <td>Noida, Bangalore/Bengaluru</td>\n",
       "      <td>Ashkom Media India Private Limited</td>\n",
       "      <td>3-6 Yrs</td>\n",
       "    </tr>\n",
       "    <tr>\n",
       "      <th>1</th>\n",
       "      <td>Junior Data Scientist</td>\n",
       "      <td>Noida</td>\n",
       "      <td>EASY DATA ANALYTICS TECHNOLOGY PRIVATE LIMITED</td>\n",
       "      <td>1-2 Yrs</td>\n",
       "    </tr>\n",
       "    <tr>\n",
       "      <th>2</th>\n",
       "      <td>Data Scientist - Internet Jobs - II</td>\n",
       "      <td>Bangalore/Bengaluru, Delhi / NCR, Mumbai (All ...</td>\n",
       "      <td>Jobs Territory</td>\n",
       "      <td>3-6 Yrs</td>\n",
       "    </tr>\n",
       "    <tr>\n",
       "      <th>3</th>\n",
       "      <td>Associate Scientist - Data Engineering</td>\n",
       "      <td>Gurgaon/Gurugram</td>\n",
       "      <td>AXA Technology Services India Pvt. Ltd</td>\n",
       "      <td>2-5 Yrs</td>\n",
       "    </tr>\n",
       "    <tr>\n",
       "      <th>4</th>\n",
       "      <td>Data Scientist || Software Company || Immediat...</td>\n",
       "      <td>Gurgaon/Gurugram, Bangalore/Bengaluru</td>\n",
       "      <td>Skyleaf Consultants</td>\n",
       "      <td>3-8 Yrs</td>\n",
       "    </tr>\n",
       "    <tr>\n",
       "      <th>5</th>\n",
       "      <td>Data Scientist (freelance)</td>\n",
       "      <td>New Delhi, Delhi</td>\n",
       "      <td>2Coms</td>\n",
       "      <td>2-7 Yrs</td>\n",
       "    </tr>\n",
       "    <tr>\n",
       "      <th>6</th>\n",
       "      <td>Hiring For Data Analyst and Data Scientist For...</td>\n",
       "      <td>Noida, Gurgaon/Gurugram, Delhi / NCR</td>\n",
       "      <td>Shadow Placements</td>\n",
       "      <td>3-7 Yrs</td>\n",
       "    </tr>\n",
       "    <tr>\n",
       "      <th>7</th>\n",
       "      <td>Data Scientist</td>\n",
       "      <td>Gurgaon, Bengaluru</td>\n",
       "      <td>BlackBuck</td>\n",
       "      <td>3-7 Yrs</td>\n",
       "    </tr>\n",
       "    <tr>\n",
       "      <th>8</th>\n",
       "      <td>Associate Data Scientist</td>\n",
       "      <td>Gurgaon/Gurugram</td>\n",
       "      <td>Optum</td>\n",
       "      <td>1-5 Yrs</td>\n",
       "    </tr>\n",
       "    <tr>\n",
       "      <th>9</th>\n",
       "      <td>Data Scientist</td>\n",
       "      <td>New Delhi</td>\n",
       "      <td>Boston Consulting Group</td>\n",
       "      <td>2-5 Yrs</td>\n",
       "    </tr>\n",
       "    <tr>\n",
       "      <th>10</th>\n",
       "      <td>Hiring For Senior Data Scientist-Noida</td>\n",
       "      <td>Noida, Greater Noida, Delhi / NCR</td>\n",
       "      <td>Lumiq.ai</td>\n",
       "      <td>2-6 Yrs</td>\n",
       "    </tr>\n",
       "    <tr>\n",
       "      <th>11</th>\n",
       "      <td>Senior Data Scientist</td>\n",
       "      <td>Delhi</td>\n",
       "      <td>iNICU</td>\n",
       "      <td>1-5 Yrs</td>\n",
       "    </tr>\n",
       "    <tr>\n",
       "      <th>12</th>\n",
       "      <td>Data Scientists</td>\n",
       "      <td>Gurgaon/Gurugram</td>\n",
       "      <td>Nibha Infotech Private Limited</td>\n",
       "      <td>5-8 Yrs</td>\n",
       "    </tr>\n",
       "    <tr>\n",
       "      <th>13</th>\n",
       "      <td>Data Scientist</td>\n",
       "      <td>Bharuch, Jaipur, Bhopal, Mumbai, Jhansi, Nagpu...</td>\n",
       "      <td>Country Veggie</td>\n",
       "      <td>1-3 Yrs</td>\n",
       "    </tr>\n",
       "    <tr>\n",
       "      <th>14</th>\n",
       "      <td>Opening For Data Scientist</td>\n",
       "      <td>Gurgaon/Gurugram</td>\n",
       "      <td>Care Health Insurance</td>\n",
       "      <td>1-5 Yrs</td>\n",
       "    </tr>\n",
       "    <tr>\n",
       "      <th>15</th>\n",
       "      <td>Associate Data Scientist</td>\n",
       "      <td>Noida</td>\n",
       "      <td>Right Step Consulting</td>\n",
       "      <td>3-6 Yrs</td>\n",
       "    </tr>\n",
       "    <tr>\n",
       "      <th>16</th>\n",
       "      <td>Junior AI Data Scientist</td>\n",
       "      <td>New Delhi</td>\n",
       "      <td>Seven Consultancy (HR Solution)</td>\n",
       "      <td>1-6 Yrs</td>\n",
       "    </tr>\n",
       "    <tr>\n",
       "      <th>17</th>\n",
       "      <td>Data scientist- Python</td>\n",
       "      <td>Gurgaon/Gurugram</td>\n",
       "      <td>TeamPlus Staffing Solution Pvt Ltd</td>\n",
       "      <td>3-6 Yrs</td>\n",
       "    </tr>\n",
       "    <tr>\n",
       "      <th>18</th>\n",
       "      <td>Data Scientist</td>\n",
       "      <td>Gurgaon/Gurugram</td>\n",
       "      <td>T &amp; A Solutions</td>\n",
       "      <td>2-6 Yrs</td>\n",
       "    </tr>\n",
       "    <tr>\n",
       "      <th>19</th>\n",
       "      <td>Data Scientist</td>\n",
       "      <td>Gurgaon</td>\n",
       "      <td>itForte Staffing Services Private Ltd.</td>\n",
       "      <td>3-8 Yrs</td>\n",
       "    </tr>\n",
       "  </tbody>\n",
       "</table>\n",
       "</div>"
      ],
      "text/plain": [
       "                                            JOB_TITLE  \\\n",
       "0                                      Data Scientist   \n",
       "1                               Junior Data Scientist   \n",
       "2                 Data Scientist - Internet Jobs - II   \n",
       "3              Associate Scientist - Data Engineering   \n",
       "4   Data Scientist || Software Company || Immediat...   \n",
       "5                          Data Scientist (freelance)   \n",
       "6   Hiring For Data Analyst and Data Scientist For...   \n",
       "7                                      Data Scientist   \n",
       "8                            Associate Data Scientist   \n",
       "9                                      Data Scientist   \n",
       "10             Hiring For Senior Data Scientist-Noida   \n",
       "11                              Senior Data Scientist   \n",
       "12                                    Data Scientists   \n",
       "13                                     Data Scientist   \n",
       "14                         Opening For Data Scientist   \n",
       "15                           Associate Data Scientist   \n",
       "16                           Junior AI Data Scientist   \n",
       "17                             Data scientist- Python   \n",
       "18                                     Data Scientist   \n",
       "19                                     Data Scientist   \n",
       "\n",
       "                                    JOB_LOCATION_LIST  \\\n",
       "0                          Noida, Bangalore/Bengaluru   \n",
       "1                                               Noida   \n",
       "2   Bangalore/Bengaluru, Delhi / NCR, Mumbai (All ...   \n",
       "3                                    Gurgaon/Gurugram   \n",
       "4               Gurgaon/Gurugram, Bangalore/Bengaluru   \n",
       "5                                    New Delhi, Delhi   \n",
       "6                Noida, Gurgaon/Gurugram, Delhi / NCR   \n",
       "7                                  Gurgaon, Bengaluru   \n",
       "8                                    Gurgaon/Gurugram   \n",
       "9                                           New Delhi   \n",
       "10                  Noida, Greater Noida, Delhi / NCR   \n",
       "11                                              Delhi   \n",
       "12                                   Gurgaon/Gurugram   \n",
       "13  Bharuch, Jaipur, Bhopal, Mumbai, Jhansi, Nagpu...   \n",
       "14                                   Gurgaon/Gurugram   \n",
       "15                                              Noida   \n",
       "16                                          New Delhi   \n",
       "17                                   Gurgaon/Gurugram   \n",
       "18                                   Gurgaon/Gurugram   \n",
       "19                                            Gurgaon   \n",
       "\n",
       "                                 company_name_list EXPERIENCE_LIST  \n",
       "0               Ashkom Media India Private Limited         3-6 Yrs  \n",
       "1   EASY DATA ANALYTICS TECHNOLOGY PRIVATE LIMITED         1-2 Yrs  \n",
       "2                                   Jobs Territory         3-6 Yrs  \n",
       "3           AXA Technology Services India Pvt. Ltd         2-5 Yrs  \n",
       "4                              Skyleaf Consultants         3-8 Yrs  \n",
       "5                                            2Coms         2-7 Yrs  \n",
       "6                                Shadow Placements         3-7 Yrs  \n",
       "7                                        BlackBuck         3-7 Yrs  \n",
       "8                                            Optum         1-5 Yrs  \n",
       "9                          Boston Consulting Group         2-5 Yrs  \n",
       "10                                        Lumiq.ai         2-6 Yrs  \n",
       "11                                           iNICU         1-5 Yrs  \n",
       "12                  Nibha Infotech Private Limited         5-8 Yrs  \n",
       "13                                  Country Veggie         1-3 Yrs  \n",
       "14                           Care Health Insurance         1-5 Yrs  \n",
       "15                           Right Step Consulting         3-6 Yrs  \n",
       "16                 Seven Consultancy (HR Solution)         1-6 Yrs  \n",
       "17              TeamPlus Staffing Solution Pvt Ltd         3-6 Yrs  \n",
       "18                                 T & A Solutions         2-6 Yrs  \n",
       "19          itForte Staffing Services Private Ltd.         3-8 Yrs  "
      ]
     },
     "execution_count": 133,
     "metadata": {},
     "output_type": "execute_result"
    }
   ],
   "source": [
    "df"
   ]
  },
  {
   "cell_type": "code",
   "execution_count": 134,
   "id": "f9af8c58",
   "metadata": {},
   "outputs": [
    {
     "data": {
      "text/html": [
       "<div>\n",
       "<style scoped>\n",
       "    .dataframe tbody tr th:only-of-type {\n",
       "        vertical-align: middle;\n",
       "    }\n",
       "\n",
       "    .dataframe tbody tr th {\n",
       "        vertical-align: top;\n",
       "    }\n",
       "\n",
       "    .dataframe thead th {\n",
       "        text-align: right;\n",
       "    }\n",
       "</style>\n",
       "<table border=\"1\" class=\"dataframe\">\n",
       "  <thead>\n",
       "    <tr style=\"text-align: right;\">\n",
       "      <th></th>\n",
       "      <th>JOB_TITLE</th>\n",
       "      <th>JOB_LOCATION_LIST</th>\n",
       "      <th>company_name_list</th>\n",
       "      <th>EXPERIENCE_LIST</th>\n",
       "    </tr>\n",
       "  </thead>\n",
       "  <tbody>\n",
       "    <tr>\n",
       "      <th>0</th>\n",
       "      <td>Data Scientist</td>\n",
       "      <td>Noida, Bangalore/Bengaluru</td>\n",
       "      <td>Ashkom Media India Private Limited</td>\n",
       "      <td>3-6 Yrs</td>\n",
       "    </tr>\n",
       "    <tr>\n",
       "      <th>1</th>\n",
       "      <td>Junior Data Scientist</td>\n",
       "      <td>Noida</td>\n",
       "      <td>EASY DATA ANALYTICS TECHNOLOGY PRIVATE LIMITED</td>\n",
       "      <td>1-2 Yrs</td>\n",
       "    </tr>\n",
       "    <tr>\n",
       "      <th>2</th>\n",
       "      <td>Data Scientist - Internet Jobs - II</td>\n",
       "      <td>Bangalore/Bengaluru, Delhi / NCR, Mumbai (All ...</td>\n",
       "      <td>Jobs Territory</td>\n",
       "      <td>3-6 Yrs</td>\n",
       "    </tr>\n",
       "    <tr>\n",
       "      <th>3</th>\n",
       "      <td>Associate Scientist - Data Engineering</td>\n",
       "      <td>Gurgaon/Gurugram</td>\n",
       "      <td>AXA Technology Services India Pvt. Ltd</td>\n",
       "      <td>2-5 Yrs</td>\n",
       "    </tr>\n",
       "    <tr>\n",
       "      <th>4</th>\n",
       "      <td>Data Scientist || Software Company || Immediat...</td>\n",
       "      <td>Gurgaon/Gurugram, Bangalore/Bengaluru</td>\n",
       "      <td>Skyleaf Consultants</td>\n",
       "      <td>3-8 Yrs</td>\n",
       "    </tr>\n",
       "    <tr>\n",
       "      <th>5</th>\n",
       "      <td>Data Scientist (freelance)</td>\n",
       "      <td>New Delhi, Delhi</td>\n",
       "      <td>2Coms</td>\n",
       "      <td>2-7 Yrs</td>\n",
       "    </tr>\n",
       "    <tr>\n",
       "      <th>6</th>\n",
       "      <td>Hiring For Data Analyst and Data Scientist For...</td>\n",
       "      <td>Noida, Gurgaon/Gurugram, Delhi / NCR</td>\n",
       "      <td>Shadow Placements</td>\n",
       "      <td>3-7 Yrs</td>\n",
       "    </tr>\n",
       "    <tr>\n",
       "      <th>7</th>\n",
       "      <td>Data Scientist</td>\n",
       "      <td>Gurgaon, Bengaluru</td>\n",
       "      <td>BlackBuck</td>\n",
       "      <td>3-7 Yrs</td>\n",
       "    </tr>\n",
       "    <tr>\n",
       "      <th>8</th>\n",
       "      <td>Associate Data Scientist</td>\n",
       "      <td>Gurgaon/Gurugram</td>\n",
       "      <td>Optum</td>\n",
       "      <td>1-5 Yrs</td>\n",
       "    </tr>\n",
       "    <tr>\n",
       "      <th>9</th>\n",
       "      <td>Data Scientist</td>\n",
       "      <td>New Delhi</td>\n",
       "      <td>Boston Consulting Group</td>\n",
       "      <td>2-5 Yrs</td>\n",
       "    </tr>\n",
       "  </tbody>\n",
       "</table>\n",
       "</div>"
      ],
      "text/plain": [
       "                                           JOB_TITLE  \\\n",
       "0                                     Data Scientist   \n",
       "1                              Junior Data Scientist   \n",
       "2                Data Scientist - Internet Jobs - II   \n",
       "3             Associate Scientist - Data Engineering   \n",
       "4  Data Scientist || Software Company || Immediat...   \n",
       "5                         Data Scientist (freelance)   \n",
       "6  Hiring For Data Analyst and Data Scientist For...   \n",
       "7                                     Data Scientist   \n",
       "8                           Associate Data Scientist   \n",
       "9                                     Data Scientist   \n",
       "\n",
       "                                   JOB_LOCATION_LIST  \\\n",
       "0                         Noida, Bangalore/Bengaluru   \n",
       "1                                              Noida   \n",
       "2  Bangalore/Bengaluru, Delhi / NCR, Mumbai (All ...   \n",
       "3                                   Gurgaon/Gurugram   \n",
       "4              Gurgaon/Gurugram, Bangalore/Bengaluru   \n",
       "5                                   New Delhi, Delhi   \n",
       "6               Noida, Gurgaon/Gurugram, Delhi / NCR   \n",
       "7                                 Gurgaon, Bengaluru   \n",
       "8                                   Gurgaon/Gurugram   \n",
       "9                                          New Delhi   \n",
       "\n",
       "                                company_name_list EXPERIENCE_LIST  \n",
       "0              Ashkom Media India Private Limited         3-6 Yrs  \n",
       "1  EASY DATA ANALYTICS TECHNOLOGY PRIVATE LIMITED         1-2 Yrs  \n",
       "2                                  Jobs Territory         3-6 Yrs  \n",
       "3          AXA Technology Services India Pvt. Ltd         2-5 Yrs  \n",
       "4                             Skyleaf Consultants         3-8 Yrs  \n",
       "5                                           2Coms         2-7 Yrs  \n",
       "6                               Shadow Placements         3-7 Yrs  \n",
       "7                                       BlackBuck         3-7 Yrs  \n",
       "8                                           Optum         1-5 Yrs  \n",
       "9                         Boston Consulting Group         2-5 Yrs  "
      ]
     },
     "execution_count": 134,
     "metadata": {},
     "output_type": "execute_result"
    }
   ],
   "source": [
    "df.head(10)"
   ]
  },
  {
   "cell_type": "markdown",
   "id": "f255fc7e",
   "metadata": {},
   "source": [
    "# Ques-6: Sneakers"
   ]
  },
  {
   "cell_type": "code",
   "execution_count": 197,
   "id": "53db2e16",
   "metadata": {},
   "outputs": [],
   "source": [
    " driver.get(\"https://www.flipkart.com/\")\n"
   ]
  },
  {
   "cell_type": "code",
   "execution_count": 198,
   "id": "b41e1b6c",
   "metadata": {},
   "outputs": [],
   "source": [
    "sneakers_search=driver.find_element_by_xpath('/html/body/div[1]/div/div[1]/div[1]/div[2]/div[2]/form/div/div/input')\n",
    "sneakers_search.send_keys('sneakers')\n"
   ]
  },
  {
   "cell_type": "code",
   "execution_count": 199,
   "id": "fdf68722",
   "metadata": {},
   "outputs": [],
   "source": [
    "search_button=driver.find_element_by_xpath('/html/body/div/div/div[1]/div[1]/div[2]/div[2]/form/div/button')\n",
    "search_button.click()\n"
   ]
  },
  {
   "cell_type": "code",
   "execution_count": 160,
   "id": "520c29c4",
   "metadata": {},
   "outputs": [],
   "source": [
    "Brand_name=[]\n",
    "for i in range(0,3):\n",
    "    brand_tags=driver.find_elements_by_xpath('//div[@class=\"_2WkVRV\"]')\n",
    "    for i in brand_tags:\n",
    "        brand=i.text\n",
    "        Brand_name.append(brand)\n",
    "    next_button=driver.find_element_by_xpath('//*[@id=\"container\"]/div/div[3]/div[1]/div[2]/div[12]/div/div/nav/a[11]')\n",
    "    next_button.click()\n",
    "    time.sleep(5)\n",
    "    \n",
    "        \n",
    "    \n"
   ]
  },
  {
   "cell_type": "code",
   "execution_count": 162,
   "id": "0f792db2",
   "metadata": {},
   "outputs": [
    {
     "data": {
      "text/plain": [
       "120"
      ]
     },
     "execution_count": 162,
     "metadata": {},
     "output_type": "execute_result"
    }
   ],
   "source": [
    "len(Brand_name)"
   ]
  },
  {
   "cell_type": "code",
   "execution_count": 163,
   "id": "93d7fabe",
   "metadata": {},
   "outputs": [],
   "source": [
    "price_list=[]\n",
    "for i in range(0,3):\n",
    "    price_tags=driver.find_elements_by_xpath('//div[@class=\"_30jeq3\"]')\n",
    "    for i in price_tags:\n",
    "        price=i.text\n",
    "        price_list.append(price)\n",
    "    next_button=driver.find_element_by_xpath('//*[@id=\"container\"]/div/div[3]/div[1]/div[2]/div[12]/div/div/nav/a[11]')\n",
    "    next_button.click()\n",
    "    time.sleep(5)\n",
    "    \n"
   ]
  },
  {
   "cell_type": "code",
   "execution_count": 164,
   "id": "b87f9074",
   "metadata": {},
   "outputs": [
    {
     "data": {
      "text/plain": [
       "120"
      ]
     },
     "execution_count": 164,
     "metadata": {},
     "output_type": "execute_result"
    }
   ],
   "source": [
    "len( price_list)"
   ]
  },
  {
   "cell_type": "code",
   "execution_count": 202,
   "id": "d62e3458",
   "metadata": {},
   "outputs": [],
   "source": [
    "discount_price_list=[]\n",
    "for i in range(0,3):\n",
    "    discount_price_tags=driver.find_elements_by_xpath('//div[@class=\"_3Ay6Sb\"]')\n",
    "    for i in discount_price_tags:\n",
    "        discount_price=i.text\n",
    "        discount_price_list.append(price)\n",
    "    next_button=driver.find_element_by_xpath('//*[@id=\"container\"]/div/div[3]/div[1]/div[2]/div[12]/div/div/nav/a[11]')\n",
    "    next_button.click()\n",
    "    time.sleep(5)"
   ]
  },
  {
   "cell_type": "code",
   "execution_count": 203,
   "id": "75ca83af",
   "metadata": {},
   "outputs": [
    {
     "data": {
      "text/plain": [
       "119"
      ]
     },
     "execution_count": 203,
     "metadata": {},
     "output_type": "execute_result"
    }
   ],
   "source": [
    "len(discount_price_list)"
   ]
  },
  {
   "cell_type": "code",
   "execution_count": 207,
   "id": "d2d8c31e",
   "metadata": {},
   "outputs": [],
   "source": [
    "df2=pd.DataFrame({'BRAND_NAME':Brand_name,'price_list':price_list,'DISCOUNT_PRICE':discount_price})"
   ]
  },
  {
   "cell_type": "code",
   "execution_count": 208,
   "id": "9a16adc0",
   "metadata": {},
   "outputs": [
    {
     "data": {
      "text/html": [
       "<div>\n",
       "<style scoped>\n",
       "    .dataframe tbody tr th:only-of-type {\n",
       "        vertical-align: middle;\n",
       "    }\n",
       "\n",
       "    .dataframe tbody tr th {\n",
       "        vertical-align: top;\n",
       "    }\n",
       "\n",
       "    .dataframe thead th {\n",
       "        text-align: right;\n",
       "    }\n",
       "</style>\n",
       "<table border=\"1\" class=\"dataframe\">\n",
       "  <thead>\n",
       "    <tr style=\"text-align: right;\">\n",
       "      <th></th>\n",
       "      <th>BRAND_NAME</th>\n",
       "      <th>price_list</th>\n",
       "      <th>DISCOUNT_PRICE</th>\n",
       "    </tr>\n",
       "  </thead>\n",
       "  <tbody>\n",
       "    <tr>\n",
       "      <th>0</th>\n",
       "      <td>Numenzo</td>\n",
       "      <td>₹1,362</td>\n",
       "      <td>66% off</td>\n",
       "    </tr>\n",
       "    <tr>\n",
       "      <th>1</th>\n",
       "      <td>BRUTON</td>\n",
       "      <td>₹666</td>\n",
       "      <td>66% off</td>\n",
       "    </tr>\n",
       "    <tr>\n",
       "      <th>2</th>\n",
       "      <td>PUMA</td>\n",
       "      <td>₹499</td>\n",
       "      <td>66% off</td>\n",
       "    </tr>\n",
       "    <tr>\n",
       "      <th>3</th>\n",
       "      <td>ADCLICKS</td>\n",
       "      <td>₹4,299</td>\n",
       "      <td>66% off</td>\n",
       "    </tr>\n",
       "    <tr>\n",
       "      <th>4</th>\n",
       "      <td>Navtrend</td>\n",
       "      <td>₹1,289</td>\n",
       "      <td>66% off</td>\n",
       "    </tr>\n",
       "    <tr>\n",
       "      <th>...</th>\n",
       "      <td>...</td>\n",
       "      <td>...</td>\n",
       "      <td>...</td>\n",
       "    </tr>\n",
       "    <tr>\n",
       "      <th>115</th>\n",
       "      <td>Tryviz</td>\n",
       "      <td>₹299</td>\n",
       "      <td>66% off</td>\n",
       "    </tr>\n",
       "    <tr>\n",
       "      <th>116</th>\n",
       "      <td>Roadster</td>\n",
       "      <td>₹1,559</td>\n",
       "      <td>66% off</td>\n",
       "    </tr>\n",
       "    <tr>\n",
       "      <th>117</th>\n",
       "      <td>Jack Diamond</td>\n",
       "      <td>₹649</td>\n",
       "      <td>66% off</td>\n",
       "    </tr>\n",
       "    <tr>\n",
       "      <th>118</th>\n",
       "      <td>ASIAN</td>\n",
       "      <td>₹823</td>\n",
       "      <td>66% off</td>\n",
       "    </tr>\n",
       "    <tr>\n",
       "      <th>119</th>\n",
       "      <td>PUMA</td>\n",
       "      <td>₹4,888</td>\n",
       "      <td>66% off</td>\n",
       "    </tr>\n",
       "  </tbody>\n",
       "</table>\n",
       "<p>120 rows × 3 columns</p>\n",
       "</div>"
      ],
      "text/plain": [
       "       BRAND_NAME price_list DISCOUNT_PRICE\n",
       "0         Numenzo     ₹1,362        66% off\n",
       "1          BRUTON       ₹666        66% off\n",
       "2            PUMA       ₹499        66% off\n",
       "3        ADCLICKS     ₹4,299        66% off\n",
       "4        Navtrend     ₹1,289        66% off\n",
       "..            ...        ...            ...\n",
       "115        Tryviz       ₹299        66% off\n",
       "116      Roadster     ₹1,559        66% off\n",
       "117  Jack Diamond       ₹649        66% off\n",
       "118         ASIAN       ₹823        66% off\n",
       "119          PUMA     ₹4,888        66% off\n",
       "\n",
       "[120 rows x 3 columns]"
      ]
     },
     "execution_count": 208,
     "metadata": {},
     "output_type": "execute_result"
    }
   ],
   "source": [
    "df2"
   ]
  },
  {
   "cell_type": "code",
   "execution_count": 209,
   "id": "a8d33a4b",
   "metadata": {},
   "outputs": [
    {
     "data": {
      "text/html": [
       "<div>\n",
       "<style scoped>\n",
       "    .dataframe tbody tr th:only-of-type {\n",
       "        vertical-align: middle;\n",
       "    }\n",
       "\n",
       "    .dataframe tbody tr th {\n",
       "        vertical-align: top;\n",
       "    }\n",
       "\n",
       "    .dataframe thead th {\n",
       "        text-align: right;\n",
       "    }\n",
       "</style>\n",
       "<table border=\"1\" class=\"dataframe\">\n",
       "  <thead>\n",
       "    <tr style=\"text-align: right;\">\n",
       "      <th></th>\n",
       "      <th>BRAND_NAME</th>\n",
       "      <th>price_list</th>\n",
       "      <th>DISCOUNT_PRICE</th>\n",
       "    </tr>\n",
       "  </thead>\n",
       "  <tbody>\n",
       "    <tr>\n",
       "      <th>0</th>\n",
       "      <td>Numenzo</td>\n",
       "      <td>₹1,362</td>\n",
       "      <td>66% off</td>\n",
       "    </tr>\n",
       "    <tr>\n",
       "      <th>1</th>\n",
       "      <td>BRUTON</td>\n",
       "      <td>₹666</td>\n",
       "      <td>66% off</td>\n",
       "    </tr>\n",
       "    <tr>\n",
       "      <th>2</th>\n",
       "      <td>PUMA</td>\n",
       "      <td>₹499</td>\n",
       "      <td>66% off</td>\n",
       "    </tr>\n",
       "    <tr>\n",
       "      <th>3</th>\n",
       "      <td>ADCLICKS</td>\n",
       "      <td>₹4,299</td>\n",
       "      <td>66% off</td>\n",
       "    </tr>\n",
       "    <tr>\n",
       "      <th>4</th>\n",
       "      <td>Navtrend</td>\n",
       "      <td>₹1,289</td>\n",
       "      <td>66% off</td>\n",
       "    </tr>\n",
       "    <tr>\n",
       "      <th>...</th>\n",
       "      <td>...</td>\n",
       "      <td>...</td>\n",
       "      <td>...</td>\n",
       "    </tr>\n",
       "    <tr>\n",
       "      <th>95</th>\n",
       "      <td>SWIGGY</td>\n",
       "      <td>₹706</td>\n",
       "      <td>66% off</td>\n",
       "    </tr>\n",
       "    <tr>\n",
       "      <th>96</th>\n",
       "      <td>PUMA</td>\n",
       "      <td>₹3,731</td>\n",
       "      <td>66% off</td>\n",
       "    </tr>\n",
       "    <tr>\n",
       "      <th>97</th>\n",
       "      <td>RED TAPE</td>\n",
       "      <td>₹1,618</td>\n",
       "      <td>66% off</td>\n",
       "    </tr>\n",
       "    <tr>\n",
       "      <th>98</th>\n",
       "      <td>PUMA</td>\n",
       "      <td>₹1,945</td>\n",
       "      <td>66% off</td>\n",
       "    </tr>\n",
       "    <tr>\n",
       "      <th>99</th>\n",
       "      <td>Zorth</td>\n",
       "      <td>₹480</td>\n",
       "      <td>66% off</td>\n",
       "    </tr>\n",
       "  </tbody>\n",
       "</table>\n",
       "<p>100 rows × 3 columns</p>\n",
       "</div>"
      ],
      "text/plain": [
       "   BRAND_NAME price_list DISCOUNT_PRICE\n",
       "0     Numenzo     ₹1,362        66% off\n",
       "1      BRUTON       ₹666        66% off\n",
       "2        PUMA       ₹499        66% off\n",
       "3    ADCLICKS     ₹4,299        66% off\n",
       "4    Navtrend     ₹1,289        66% off\n",
       "..        ...        ...            ...\n",
       "95     SWIGGY       ₹706        66% off\n",
       "96       PUMA     ₹3,731        66% off\n",
       "97   RED TAPE     ₹1,618        66% off\n",
       "98       PUMA     ₹1,945        66% off\n",
       "99      Zorth       ₹480        66% off\n",
       "\n",
       "[100 rows x 3 columns]"
      ]
     },
     "execution_count": 209,
     "metadata": {},
     "output_type": "execute_result"
    }
   ],
   "source": [
    "df2.head(100)"
   ]
  },
  {
   "cell_type": "markdown",
   "id": "37a8e9fa",
   "metadata": {},
   "source": [
    "# Ques-:7 https://www.myntra.com/shoes\n"
   ]
  },
  {
   "cell_type": "code",
   "execution_count": 28,
   "id": "35ab1d28",
   "metadata": {},
   "outputs": [
    {
     "name": "stdout",
     "output_type": "stream",
     "text": [
      "Requirement already satisfied: selenium in c:\\programdata\\anaconda3\\lib\\site-packages (4.1.5)\n",
      "Requirement already satisfied: urllib3[secure,socks]~=1.26 in c:\\programdata\\anaconda3\\lib\\site-packages (from selenium) (1.26.7)\n",
      "Requirement already satisfied: trio-websocket~=0.9 in c:\\programdata\\anaconda3\\lib\\site-packages (from selenium) (0.9.2)\n",
      "Requirement already satisfied: trio~=0.17 in c:\\programdata\\anaconda3\\lib\\site-packages (from selenium) (0.20.0)\n",
      "Requirement already satisfied: async-generator>=1.9 in c:\\programdata\\anaconda3\\lib\\site-packages (from trio~=0.17->selenium) (1.10)\n",
      "Requirement already satisfied: cffi>=1.14 in c:\\programdata\\anaconda3\\lib\\site-packages (from trio~=0.17->selenium) (1.14.6)\n",
      "Requirement already satisfied: sniffio in c:\\programdata\\anaconda3\\lib\\site-packages (from trio~=0.17->selenium) (1.2.0)\n",
      "Requirement already satisfied: idna in c:\\programdata\\anaconda3\\lib\\site-packages (from trio~=0.17->selenium) (3.2)\n",
      "Requirement already satisfied: sortedcontainers in c:\\programdata\\anaconda3\\lib\\site-packages (from trio~=0.17->selenium) (2.4.0)\n",
      "Requirement already satisfied: outcome in c:\\programdata\\anaconda3\\lib\\site-packages (from trio~=0.17->selenium) (1.1.0)\n",
      "Requirement already satisfied: attrs>=19.2.0 in c:\\programdata\\anaconda3\\lib\\site-packages (from trio~=0.17->selenium) (21.2.0)\n",
      "Requirement already satisfied: pycparser in c:\\programdata\\anaconda3\\lib\\site-packages (from cffi>=1.14->trio~=0.17->selenium) (2.20)\n",
      "Requirement already satisfied: wsproto>=0.14 in c:\\programdata\\anaconda3\\lib\\site-packages (from trio-websocket~=0.9->selenium) (1.1.0)\n",
      "Requirement already satisfied: PySocks!=1.5.7,<2.0,>=1.5.6 in c:\\programdata\\anaconda3\\lib\\site-packages (from urllib3[secure,socks]~=1.26->selenium) (1.7.1)\n",
      "Requirement already satisfied: pyOpenSSL>=0.14 in c:\\programdata\\anaconda3\\lib\\site-packages (from urllib3[secure,socks]~=1.26->selenium) (21.0.0)\n",
      "Requirement already satisfied: cryptography>=1.3.4 in c:\\programdata\\anaconda3\\lib\\site-packages (from urllib3[secure,socks]~=1.26->selenium) (3.4.8)\n",
      "Requirement already satisfied: certifi in c:\\programdata\\anaconda3\\lib\\site-packages (from urllib3[secure,socks]~=1.26->selenium) (2021.10.8)\n",
      "Requirement already satisfied: six>=1.5.2 in c:\\programdata\\anaconda3\\lib\\site-packages (from pyOpenSSL>=0.14->urllib3[secure,socks]~=1.26->selenium) (1.16.0)\n",
      "Requirement already satisfied: h11<1,>=0.9.0 in c:\\programdata\\anaconda3\\lib\\site-packages (from wsproto>=0.14->trio-websocket~=0.9->selenium) (0.13.0)\n"
     ]
    }
   ],
   "source": [
    "!pip install selenium"
   ]
  },
  {
   "cell_type": "code",
   "execution_count": 29,
   "id": "2cc85b73",
   "metadata": {},
   "outputs": [],
   "source": [
    "import selenium\n",
    "import pandas as pd\n",
    "from selenium import webdriver\n",
    "import warnings\n",
    "warnings.filterwarnings(\"ignore\")\n",
    "import time"
   ]
  },
  {
   "cell_type": "code",
   "execution_count": 3,
   "id": "0cd937b1",
   "metadata": {},
   "outputs": [],
   "source": [
    "driver=webdriver.Chrome(r\"C:\\Webchrome_driver_1\\chromedriver.exe\")"
   ]
  },
  {
   "cell_type": "code",
   "execution_count": 267,
   "id": "bdc37717",
   "metadata": {},
   "outputs": [],
   "source": [
    "driver=webdriver.Chrome(\"chromedriver.exe\")\n",
    "time.sleep(2)"
   ]
  },
  {
   "cell_type": "code",
   "execution_count": 30,
   "id": "a47624cd",
   "metadata": {},
   "outputs": [],
   "source": [
    "driver.get(\"https://www.myntra.com/shoes\")"
   ]
  },
  {
   "cell_type": "code",
   "execution_count": 33,
   "id": "478d2d26",
   "metadata": {},
   "outputs": [],
   "source": [
    "price_filter=driver.find_element_by_xpath('//*[@id=\"mountRoot\"]/div/div[1]/main/div[3]/div[1]/section/div/div[5]/ul/li[2]/label')\n",
    "price_filter.click()\n"
   ]
  },
  {
   "cell_type": "code",
   "execution_count": 32,
   "id": "5fd4334d",
   "metadata": {},
   "outputs": [],
   "source": [
    "black_filter=driver.find_element_by_xpath('//*[@id=\"mountRoot\"]/div/div[1]/main/div[3]/div[1]/section/div/div[6]/ul/li[1]/label')\n",
    "black_filter.click()"
   ]
  },
  {
   "cell_type": "code",
   "execution_count": 36,
   "id": "01a5f12d",
   "metadata": {},
   "outputs": [],
   "source": [
    "Brand_of_shoe=[]\n",
    "for i in range(0,3):\n",
    "    brand_tags=driver.find_elements_by_xpath('//span[@class=\"product-wishlistFlex product-actionsButton product-wishlist \"]')\n",
    "    for i in brand_tags:\n",
    "        brand=i.text\n",
    "        Brand_of_shoe.append(brand)\n",
    "    next_button=driver.find_element_by_xpath('/html/body/div[2]/div/div[1]/main/div[3]/div[2]/div/div[2]/section/div[2]/ul/li[12]/a')\n",
    "    next_button.click()\n",
    "    time.sleep(5)"
   ]
  },
  {
   "cell_type": "code",
   "execution_count": 37,
   "id": "ed7f3912",
   "metadata": {},
   "outputs": [
    {
     "data": {
      "text/plain": [
       "150"
      ]
     },
     "execution_count": 37,
     "metadata": {},
     "output_type": "execute_result"
    }
   ],
   "source": [
    "len(Brand_of_shoe)"
   ]
  },
  {
   "cell_type": "code",
   "execution_count": 41,
   "id": "58de2231",
   "metadata": {},
   "outputs": [],
   "source": [
    "shoe_des=[]\n",
    "for i in range(0,3):\n",
    "    des_tags=driver.find_elements_by_xpath('//h4[@class=\"product-sizes\"]')\n",
    "    for i in des_tags:\n",
    "        des=i.text\n",
    "        shoe_des.append(des)\n",
    "    next_button=driver.find_element_by_xpath('/html/body/div[2]/div/div[1]/main/div[3]/div[2]/div/div[2]/section/div[2]/ul/li[12]/a')\n",
    "    next_button.click()\n",
    "    time.sleep(5)"
   ]
  },
  {
   "cell_type": "code",
   "execution_count": 42,
   "id": "14314fa2",
   "metadata": {},
   "outputs": [
    {
     "data": {
      "text/plain": [
       "150"
      ]
     },
     "execution_count": 42,
     "metadata": {},
     "output_type": "execute_result"
    }
   ],
   "source": [
    "len(shoe_des)"
   ]
  },
  {
   "cell_type": "code",
   "execution_count": 44,
   "id": "dc77e8c8",
   "metadata": {},
   "outputs": [],
   "source": [
    "shoe_name=[]\n",
    "for i in range(0,3):\n",
    "    name_tags=driver.find_elements_by_xpath('//h3[@class=\"product-brand\"]')\n",
    "    for i in name_tags:\n",
    "        name=i.text\n",
    "        shoe_name.append(name)\n",
    "    next_button=driver.find_element_by_xpath('/html/body/div[2]/div/div[1]/main/div[3]/div[2]/div/div[2]/section/div[2]/ul/li[12]/a')\n",
    "    next_button.click()\n",
    "    time.sleep(5)"
   ]
  },
  {
   "cell_type": "code",
   "execution_count": 45,
   "id": "22de21ed",
   "metadata": {},
   "outputs": [
    {
     "data": {
      "text/plain": [
       "150"
      ]
     },
     "execution_count": 45,
     "metadata": {},
     "output_type": "execute_result"
    }
   ],
   "source": [
    "len(shoe_name)"
   ]
  },
  {
   "cell_type": "code",
   "execution_count": 49,
   "id": "59c032ed",
   "metadata": {},
   "outputs": [],
   "source": [
    "price_list=[]\n",
    "for i in range(0,3):\n",
    "    price_tags=driver.find_elements_by_xpath('//div[@class=\"product-price\"]')\n",
    "    for i in price_tags:\n",
    "        price=i.text\n",
    "        price_list.append(price)\n",
    "    next_button=driver.find_element_by_xpath('/html/body/div[2]/div/div[1]/main/div[3]/div[2]/div/div[2]/section/div[2]/ul/li[12]/a')\n",
    "    next_button.click()\n",
    "    time.sleep(5)"
   ]
  },
  {
   "cell_type": "code",
   "execution_count": 50,
   "id": "eba0bd55",
   "metadata": {},
   "outputs": [
    {
     "data": {
      "text/plain": [
       "150"
      ]
     },
     "execution_count": 50,
     "metadata": {},
     "output_type": "execute_result"
    }
   ],
   "source": [
    "len(price_list)"
   ]
  },
  {
   "cell_type": "code",
   "execution_count": 51,
   "id": "c14c2459",
   "metadata": {},
   "outputs": [],
   "source": [
    "df=pd.DataFrame({'BRAND_SHOE':Brand_of_shoe,'SHOE_DES':shoe_des,'SHOE_NAME':shoe_name,'PRICE_LIST':price_list})"
   ]
  },
  {
   "cell_type": "code",
   "execution_count": 52,
   "id": "7f5c9423",
   "metadata": {},
   "outputs": [
    {
     "data": {
      "text/html": [
       "<div>\n",
       "<style scoped>\n",
       "    .dataframe tbody tr th:only-of-type {\n",
       "        vertical-align: middle;\n",
       "    }\n",
       "\n",
       "    .dataframe tbody tr th {\n",
       "        vertical-align: top;\n",
       "    }\n",
       "\n",
       "    .dataframe thead th {\n",
       "        text-align: right;\n",
       "    }\n",
       "</style>\n",
       "<table border=\"1\" class=\"dataframe\">\n",
       "  <thead>\n",
       "    <tr style=\"text-align: right;\">\n",
       "      <th></th>\n",
       "      <th>BRAND_SHOE</th>\n",
       "      <th>SHOE_DES</th>\n",
       "      <th>SHOE_NAME</th>\n",
       "      <th>PRICE_LIST</th>\n",
       "    </tr>\n",
       "  </thead>\n",
       "  <tbody>\n",
       "    <tr>\n",
       "      <th>0</th>\n",
       "      <td></td>\n",
       "      <td></td>\n",
       "      <td>PUMA Motorsport</td>\n",
       "      <td>Rs. 7499</td>\n",
       "    </tr>\n",
       "    <tr>\n",
       "      <th>1</th>\n",
       "      <td></td>\n",
       "      <td></td>\n",
       "      <td>Skechers</td>\n",
       "      <td>Rs. 7199Rs. 8999(20% OFF)</td>\n",
       "    </tr>\n",
       "    <tr>\n",
       "      <th>2</th>\n",
       "      <td></td>\n",
       "      <td></td>\n",
       "      <td>Nike</td>\n",
       "      <td>Rs. 13995</td>\n",
       "    </tr>\n",
       "    <tr>\n",
       "      <th>3</th>\n",
       "      <td></td>\n",
       "      <td></td>\n",
       "      <td>UNDER ARMOUR</td>\n",
       "      <td>Rs. 7999</td>\n",
       "    </tr>\n",
       "    <tr>\n",
       "      <th>4</th>\n",
       "      <td></td>\n",
       "      <td></td>\n",
       "      <td>ALDO</td>\n",
       "      <td>Rs. 9999</td>\n",
       "    </tr>\n",
       "    <tr>\n",
       "      <th>...</th>\n",
       "      <td>...</td>\n",
       "      <td>...</td>\n",
       "      <td>...</td>\n",
       "      <td>...</td>\n",
       "    </tr>\n",
       "    <tr>\n",
       "      <th>145</th>\n",
       "      <td></td>\n",
       "      <td></td>\n",
       "      <td>Geox</td>\n",
       "      <td>Rs. 10999</td>\n",
       "    </tr>\n",
       "    <tr>\n",
       "      <th>146</th>\n",
       "      <td></td>\n",
       "      <td></td>\n",
       "      <td>Geox</td>\n",
       "      <td>Rs. 12999</td>\n",
       "    </tr>\n",
       "    <tr>\n",
       "      <th>147</th>\n",
       "      <td></td>\n",
       "      <td></td>\n",
       "      <td>Geox</td>\n",
       "      <td>Rs. 11990</td>\n",
       "    </tr>\n",
       "    <tr>\n",
       "      <th>148</th>\n",
       "      <td></td>\n",
       "      <td></td>\n",
       "      <td>Geox</td>\n",
       "      <td>Rs. 9990</td>\n",
       "    </tr>\n",
       "    <tr>\n",
       "      <th>149</th>\n",
       "      <td></td>\n",
       "      <td></td>\n",
       "      <td>ALDO</td>\n",
       "      <td>Rs. 9999</td>\n",
       "    </tr>\n",
       "  </tbody>\n",
       "</table>\n",
       "<p>150 rows × 4 columns</p>\n",
       "</div>"
      ],
      "text/plain": [
       "    BRAND_SHOE SHOE_DES        SHOE_NAME                 PRICE_LIST\n",
       "0                        PUMA Motorsport                   Rs. 7499\n",
       "1                               Skechers  Rs. 7199Rs. 8999(20% OFF)\n",
       "2                                   Nike                  Rs. 13995\n",
       "3                           UNDER ARMOUR                   Rs. 7999\n",
       "4                                   ALDO                   Rs. 9999\n",
       "..         ...      ...              ...                        ...\n",
       "145                                 Geox                  Rs. 10999\n",
       "146                                 Geox                  Rs. 12999\n",
       "147                                 Geox                  Rs. 11990\n",
       "148                                 Geox                   Rs. 9990\n",
       "149                                 ALDO                   Rs. 9999\n",
       "\n",
       "[150 rows x 4 columns]"
      ]
     },
     "execution_count": 52,
     "metadata": {},
     "output_type": "execute_result"
    }
   ],
   "source": [
    "df"
   ]
  },
  {
   "cell_type": "code",
   "execution_count": 53,
   "id": "9292106e",
   "metadata": {},
   "outputs": [
    {
     "data": {
      "text/html": [
       "<div>\n",
       "<style scoped>\n",
       "    .dataframe tbody tr th:only-of-type {\n",
       "        vertical-align: middle;\n",
       "    }\n",
       "\n",
       "    .dataframe tbody tr th {\n",
       "        vertical-align: top;\n",
       "    }\n",
       "\n",
       "    .dataframe thead th {\n",
       "        text-align: right;\n",
       "    }\n",
       "</style>\n",
       "<table border=\"1\" class=\"dataframe\">\n",
       "  <thead>\n",
       "    <tr style=\"text-align: right;\">\n",
       "      <th></th>\n",
       "      <th>BRAND_SHOE</th>\n",
       "      <th>SHOE_DES</th>\n",
       "      <th>SHOE_NAME</th>\n",
       "      <th>PRICE_LIST</th>\n",
       "    </tr>\n",
       "  </thead>\n",
       "  <tbody>\n",
       "    <tr>\n",
       "      <th>0</th>\n",
       "      <td></td>\n",
       "      <td></td>\n",
       "      <td>PUMA Motorsport</td>\n",
       "      <td>Rs. 7499</td>\n",
       "    </tr>\n",
       "    <tr>\n",
       "      <th>1</th>\n",
       "      <td></td>\n",
       "      <td></td>\n",
       "      <td>Skechers</td>\n",
       "      <td>Rs. 7199Rs. 8999(20% OFF)</td>\n",
       "    </tr>\n",
       "    <tr>\n",
       "      <th>2</th>\n",
       "      <td></td>\n",
       "      <td></td>\n",
       "      <td>Nike</td>\n",
       "      <td>Rs. 13995</td>\n",
       "    </tr>\n",
       "    <tr>\n",
       "      <th>3</th>\n",
       "      <td></td>\n",
       "      <td></td>\n",
       "      <td>UNDER ARMOUR</td>\n",
       "      <td>Rs. 7999</td>\n",
       "    </tr>\n",
       "    <tr>\n",
       "      <th>4</th>\n",
       "      <td></td>\n",
       "      <td></td>\n",
       "      <td>ALDO</td>\n",
       "      <td>Rs. 9999</td>\n",
       "    </tr>\n",
       "    <tr>\n",
       "      <th>...</th>\n",
       "      <td>...</td>\n",
       "      <td>...</td>\n",
       "      <td>...</td>\n",
       "      <td>...</td>\n",
       "    </tr>\n",
       "    <tr>\n",
       "      <th>95</th>\n",
       "      <td></td>\n",
       "      <td></td>\n",
       "      <td>ASICS</td>\n",
       "      <td>Rs. 8499Rs. 9999(15% OFF)</td>\n",
       "    </tr>\n",
       "    <tr>\n",
       "      <th>96</th>\n",
       "      <td></td>\n",
       "      <td></td>\n",
       "      <td>RARE RABBIT</td>\n",
       "      <td>Rs. 7149Rs. 10999(35% OFF)</td>\n",
       "    </tr>\n",
       "    <tr>\n",
       "      <th>97</th>\n",
       "      <td></td>\n",
       "      <td></td>\n",
       "      <td>ALDO</td>\n",
       "      <td>Rs. 9999</td>\n",
       "    </tr>\n",
       "    <tr>\n",
       "      <th>98</th>\n",
       "      <td></td>\n",
       "      <td></td>\n",
       "      <td>J.FONTINI</td>\n",
       "      <td>Rs. 7490</td>\n",
       "    </tr>\n",
       "    <tr>\n",
       "      <th>99</th>\n",
       "      <td></td>\n",
       "      <td></td>\n",
       "      <td>Bugatti</td>\n",
       "      <td>Rs. 7999</td>\n",
       "    </tr>\n",
       "  </tbody>\n",
       "</table>\n",
       "<p>100 rows × 4 columns</p>\n",
       "</div>"
      ],
      "text/plain": [
       "   BRAND_SHOE SHOE_DES        SHOE_NAME                  PRICE_LIST\n",
       "0                       PUMA Motorsport                    Rs. 7499\n",
       "1                              Skechers   Rs. 7199Rs. 8999(20% OFF)\n",
       "2                                  Nike                   Rs. 13995\n",
       "3                          UNDER ARMOUR                    Rs. 7999\n",
       "4                                  ALDO                    Rs. 9999\n",
       "..        ...      ...              ...                         ...\n",
       "95                                ASICS   Rs. 8499Rs. 9999(15% OFF)\n",
       "96                          RARE RABBIT  Rs. 7149Rs. 10999(35% OFF)\n",
       "97                                 ALDO                    Rs. 9999\n",
       "98                            J.FONTINI                    Rs. 7490\n",
       "99                              Bugatti                    Rs. 7999\n",
       "\n",
       "[100 rows x 4 columns]"
      ]
     },
     "execution_count": 53,
     "metadata": {},
     "output_type": "execute_result"
    }
   ],
   "source": [
    "df.head(100)"
   ]
  },
  {
   "cell_type": "code",
   "execution_count": null,
   "id": "7d090e81",
   "metadata": {},
   "outputs": [],
   "source": []
  }
 ],
 "metadata": {
  "kernelspec": {
   "display_name": "Python 3 (ipykernel)",
   "language": "python",
   "name": "python3"
  },
  "language_info": {
   "codemirror_mode": {
    "name": "ipython",
    "version": 3
   },
   "file_extension": ".py",
   "mimetype": "text/x-python",
   "name": "python",
   "nbconvert_exporter": "python",
   "pygments_lexer": "ipython3",
   "version": "3.9.7"
  }
 },
 "nbformat": 4,
 "nbformat_minor": 5
}
