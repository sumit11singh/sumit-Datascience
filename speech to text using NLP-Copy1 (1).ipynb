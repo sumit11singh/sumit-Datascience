{
 "cells": [
  {
   "cell_type": "code",
   "execution_count": 1,
   "id": "2517c4d4",
   "metadata": {},
   "outputs": [
    {
     "name": "stdout",
     "output_type": "stream",
     "text": [
      "Requirement already satisfied: pyaudio in c:\\users\\dell\\anaconda3\\lib\\site-packages (0.2.13)\n"
     ]
    }
   ],
   "source": [
    "! pip install pyaudio"
   ]
  },
  {
   "cell_type": "code",
   "execution_count": 2,
   "id": "bdc8e954",
   "metadata": {},
   "outputs": [],
   "source": [
    "import speech_recognition as sr "
   ]
  },
  {
   "cell_type": "code",
   "execution_count": 3,
   "id": "03235620",
   "metadata": {},
   "outputs": [
    {
     "name": "stdout",
     "output_type": "stream",
     "text": [
      "start talking\n",
      "below statement here\n",
      "speech is not clear\n"
     ]
    }
   ],
   "source": [
    "r=sr.Recognizer()\n",
    "with sr.Microphone() as source:\n",
    "    print(\"start talking\")\n",
    "    audio_text=r.listen(source)\n",
    "    print(\"below statement here\")\n",
    "    \n",
    "    try:\n",
    "        speech_2_text=r.recognize_google(audio_text)\n",
    "        print(speech_2_text)\n",
    "    except:\n",
    "        print(\"speech is not clear\")   \n",
    "         \n",
    "         "
   ]
  },
  {
   "cell_type": "markdown",
   "id": "f36c0140",
   "metadata": {},
   "source": [
    "microphone in my computer is not working thats why it is not converting my speech into text,so it is executing last code."
   ]
  },
  {
   "cell_type": "code",
   "execution_count": null,
   "id": "61722300",
   "metadata": {},
   "outputs": [],
   "source": []
  }
 ],
 "metadata": {
  "kernelspec": {
   "display_name": "Python 3 (ipykernel)",
   "language": "python",
   "name": "python3"
  },
  "language_info": {
   "codemirror_mode": {
    "name": "ipython",
    "version": 3
   },
   "file_extension": ".py",
   "mimetype": "text/x-python",
   "name": "python",
   "nbconvert_exporter": "python",
   "pygments_lexer": "ipython3",
   "version": "3.9.7"
  }
 },
 "nbformat": 4,
 "nbformat_minor": 5
}
