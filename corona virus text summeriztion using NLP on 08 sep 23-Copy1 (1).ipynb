{
 "cells": [
  {
   "cell_type": "markdown",
   "id": "0e7cdff0",
   "metadata": {},
   "source": [
    "# Import coronavirus article text"
   ]
  },
  {
   "cell_type": "code",
   "execution_count": 483,
   "id": "8fbe0fce",
   "metadata": {},
   "outputs": [
    {
     "data": {
      "text/plain": [
       "3670"
      ]
     },
     "execution_count": 483,
     "metadata": {},
     "output_type": "execute_result"
    }
   ],
   "source": [
    "text=open('D:\\\\python\\\\coronavirus.txt',\"w\", encoding=\"utf-8\")\n",
    "text.write('''Coronavirus disease 2019 (COVID-19) is a contagious disease caused by the virus SARS-CoV-2. The first known case was identified in Wuhan, China, in December 2019.[6] The disease quickly spread worldwide, resulting in the COVID-19 pandemic.\n",
    "\n",
    "The symptoms of COVID‑19 are variable but often include fever,[7] cough, headache,[8] fatigue, breathing difficulties, loss of smell, and loss of taste.[9][10][11] Symptoms may begin one to fourteen days after exposure to the virus. At least a third of people who are infected do not develop noticeable symptoms.[12] Of those who develop symptoms noticeable enough to be classified as patients, most (81%) develop mild to moderate symptoms (up to mild pneumonia), while 14% develop severe symptoms (dyspnea, hypoxia, or more than 50% lung involvement on imaging), and 5% develop critical symptoms (respiratory failure, shock, or multiorgan dysfunction).[13] Older people are at a higher risk of developing severe symptoms. Some people continue to experience a range of effects (long COVID) for years after infection, and damage to organs has been observed.[14] Multi-year studies are underway to further investigate the long-term effects of the disease.[15]\n",
    "\n",
    "COVID‑19 transmits when infectious particles are breathed in or come into contact with the eyes, nose, or mouth. The risk is highest when people are in close proximity, but small airborne particles containing the virus can remain suspended in the air and travel over longer distances, particularly indoors. Transmission can also occur when people touch their eyes, nose or mouth after touching surfaces or objects that have been contaminated by the virus. People remain contagious for up to 20 days and can spread the virus even if they do not develop symptoms.[16]\n",
    "\n",
    "Testing methods for COVID-19 to detect the virus's nucleic acid include real-time reverse transcription polymerase chain reaction (RT‑PCR),[17][18] transcription-mediated amplification,[17][18][19] and reverse transcription loop-mediated isothermal amplification (RT‑LAMP)[17][18] from a nasopharyngeal swab.[20]\n",
    "\n",
    "Several COVID-19 vaccines have been approved and distributed in various countries, which have initiated mass vaccination campaigns. Other preventive measures include physical or social distancing, quarantining, ventilation of indoor spaces, use of face masks or coverings in public, covering coughs and sneezes, hand washing, and keeping unwashed hands away from the face. While work is underway to develop drugs that inhibit the virus, the primary treatment is symptomatic. Management involves the treatment of symptoms through supportive care, isolation, and experimental measures.\n",
    "\n",
    "Nomenclature\n",
    "Main article: COVID-19 naming\n",
    "During the initial outbreak in Wuhan, the virus and disease were commonly referred to as \"coronavirus\" and \"Wuhan coronavirus\",[21][22][23] with the disease sometimes called \"Wuhan pneumonia\".[24][25] In the past, many diseases have been named after geographical locations, such as the Spanish flu,[26] Middle East respiratory syndrome, and Zika virus.[27] In January 2020, the World Health Organization (WHO) recommended 2019-nCoV[28] and 2019-nCoV acute respiratory disease[29] as interim names for the virus and disease per 2015 guidance and international guidelines against using geographical locations or groups of people in disease and virus names to prevent social stigma.[30][31][32] The official names COVID‑19 and SARS-CoV-2 were issued by the WHO on 11 February 2020 with COVID-19 being shorthand for \"coronavirus disease 2019\".[33][34] The WHO additionally uses \"the COVID‑19 virus\" and \"the virus responsible for COVID‑19\" in public communications.''')"
   ]
  },
  {
   "cell_type": "code",
   "execution_count": 484,
   "id": "b83d9e2f",
   "metadata": {},
   "outputs": [],
   "source": [
    "text.close()"
   ]
  },
  {
   "cell_type": "code",
   "execution_count": 485,
   "id": "c39219aa",
   "metadata": {},
   "outputs": [],
   "source": [
    "import pandas as pd\n",
    "import numpy as np\n",
    "import string\n",
    "import nltk\n",
    "from nltk.corpus import stopwords\n",
    "import re\n"
   ]
  },
  {
   "cell_type": "code",
   "execution_count": 486,
   "id": "7e0a725c",
   "metadata": {},
   "outputs": [],
   "source": [
    "from nltk.tokenize import sent_tokenize\n",
    "from nltk.tokenize import word_tokenize\n",
    "from nltk.tokenize import regexp_tokenize\n"
   ]
  },
  {
   "cell_type": "markdown",
   "id": "0b738d8d",
   "metadata": {},
   "source": [
    "# Open file in read mode"
   ]
  },
  {
   "cell_type": "code",
   "execution_count": 487,
   "id": "91d2f197",
   "metadata": {},
   "outputs": [],
   "source": [
    "text = open('D:\\\\python\\\\coronavirus.txt', \"r\", encoding=\"utf-8\").read()"
   ]
  },
  {
   "cell_type": "code",
   "execution_count": 488,
   "id": "b91089c3",
   "metadata": {},
   "outputs": [
    {
     "data": {
      "text/plain": [
       "'Coronavirus disease 2019 (COVID-19) is a contagious disease caused by the virus SARS-CoV-2. The first known case was identified in Wuhan, China, in December 2019.[6] The disease quickly spread worldwide, resulting in the COVID-19 pandemic.\\n\\nThe symptoms of COVID‑19 are variable but often include fever,[7] cough, headache,[8] fatigue, breathing difficulties, loss of smell, and loss of taste.[9][10][11] Symptoms may begin one to fourteen days after exposure to the virus. At least a third of people who are infected do not develop noticeable symptoms.[12] Of those who develop symptoms noticeable enough to be classified as patients, most (81%) develop mild to moderate symptoms (up to mild pneumonia), while 14% develop severe symptoms (dyspnea, hypoxia, or more than 50% lung involvement on imaging), and 5% develop critical symptoms (respiratory failure, shock, or multiorgan dysfunction).[13] Older people are at a higher risk of developing severe symptoms. Some people continue to experience a range of effects (long COVID) for years after infection, and damage to organs has been observed.[14] Multi-year studies are underway to further investigate the long-term effects of the disease.[15]\\n\\nCOVID‑19 transmits when infectious particles are breathed in or come into contact with the eyes, nose, or mouth. The risk is highest when people are in close proximity, but small airborne particles containing the virus can remain suspended in the air and travel over longer distances, particularly indoors. Transmission can also occur when people touch their eyes, nose or mouth after touching surfaces or objects that have been contaminated by the virus. People remain contagious for up to 20 days and can spread the virus even if they do not develop symptoms.[16]\\n\\nTesting methods for COVID-19 to detect the virus\\'s nucleic acid include real-time reverse transcription polymerase chain reaction (RT‑PCR),[17][18] transcription-mediated amplification,[17][18][19] and reverse transcription loop-mediated isothermal amplification (RT‑LAMP)[17][18] from a nasopharyngeal swab.[20]\\n\\nSeveral COVID-19 vaccines have been approved and distributed in various countries, which have initiated mass vaccination campaigns. Other preventive measures include physical or social distancing, quarantining, ventilation of indoor spaces, use of face masks or coverings in public, covering coughs and sneezes, hand washing, and keeping unwashed hands away from the face. While work is underway to develop drugs that inhibit the virus, the primary treatment is symptomatic. Management involves the treatment of symptoms through supportive care, isolation, and experimental measures.\\n\\nNomenclature\\nMain article: COVID-19 naming\\nDuring the initial outbreak in Wuhan, the virus and disease were commonly referred to as \"coronavirus\" and \"Wuhan coronavirus\",[21][22][23] with the disease sometimes called \"Wuhan pneumonia\".[24][25] In the past, many diseases have been named after geographical locations, such as the Spanish flu,[26] Middle East respiratory syndrome, and Zika virus.[27] In January 2020, the World Health Organization (WHO) recommended 2019-nCoV[28] and 2019-nCoV acute respiratory disease[29] as interim names for the virus and disease per 2015 guidance and international guidelines against using geographical locations or groups of people in disease and virus names to prevent social stigma.[30][31][32] The official names COVID‑19 and SARS-CoV-2 were issued by the WHO on 11 February 2020 with COVID-19 being shorthand for \"coronavirus disease 2019\".[33][34] The WHO additionally uses \"the COVID‑19 virus\" and \"the virus responsible for COVID‑19\" in public communications.'"
      ]
     },
     "execution_count": 488,
     "metadata": {},
     "output_type": "execute_result"
    }
   ],
   "source": [
    "text"
   ]
  },
  {
   "cell_type": "markdown",
   "id": "6f613dcb",
   "metadata": {},
   "source": [
    "# import require library"
   ]
  },
  {
   "cell_type": "code",
   "execution_count": 489,
   "id": "3b3f92e7",
   "metadata": {},
   "outputs": [],
   "source": [
    "import pandas as pd\n",
    "import numpy as np\n",
    "import string\n",
    "import nltk\n",
    "from nltk.corpus import stopwords\n",
    "import re\n"
   ]
  },
  {
   "cell_type": "markdown",
   "id": "ebf86e1e",
   "metadata": {},
   "source": [
    "# remove RegularExpresion"
   ]
  },
  {
   "cell_type": "code",
   "execution_count": 490,
   "id": "6cba6b72",
   "metadata": {},
   "outputs": [],
   "source": [
    "text = re.sub(r\"[0-9]+\", \" \", text)"
   ]
  },
  {
   "cell_type": "code",
   "execution_count": 491,
   "id": "57e5cd3b",
   "metadata": {},
   "outputs": [],
   "source": [
    "text = re.sub(r'\\[.*?\\]', '', text)"
   ]
  },
  {
   "cell_type": "code",
   "execution_count": 492,
   "id": "424298d9",
   "metadata": {},
   "outputs": [],
   "source": [
    "text = re.sub(r'\\([^)]*\\)', '', text)"
   ]
  },
  {
   "cell_type": "code",
   "execution_count": 493,
   "id": "34905faf",
   "metadata": {},
   "outputs": [],
   "source": [
    "text = text.replace('-', '')"
   ]
  },
  {
   "cell_type": "code",
   "execution_count": 494,
   "id": "ee2690ea",
   "metadata": {},
   "outputs": [],
   "source": [
    "text = text.replace('\\n', '')"
   ]
  },
  {
   "cell_type": "code",
   "execution_count": 495,
   "id": "8d51957d",
   "metadata": {},
   "outputs": [],
   "source": [
    "text = text.replace('â€‘', '')"
   ]
  },
  {
   "cell_type": "code",
   "execution_count": 496,
   "id": "11f3a150",
   "metadata": {},
   "outputs": [],
   "source": [
    "text= re.sub(r'\\s+', ' ', text)"
   ]
  },
  {
   "cell_type": "code",
   "execution_count": 497,
   "id": "37f84d49",
   "metadata": {},
   "outputs": [],
   "source": [
    "text = re.sub(r'[.,]', '', text)"
   ]
  },
  {
   "cell_type": "code",
   "execution_count": 498,
   "id": "a15d476b",
   "metadata": {},
   "outputs": [],
   "source": [
    "text = re.sub(r'[%]','', text)"
   ]
  },
  {
   "cell_type": "code",
   "execution_count": 499,
   "id": "92f9715f",
   "metadata": {},
   "outputs": [
    {
     "data": {
      "text/plain": [
       "'Coronavirus disease is a contagious disease caused by the virus SARSCoV  The first known case was identified in Wuhan China in December  The disease quickly spread worldwide resulting in the COVID pandemicThe symptoms of COVID‑ are variable but often include fever cough headache fatigue breathing difficulties loss of smell and loss of taste Symptoms may begin one to fourteen days after exposure to the virus At least a third of people who are infected do not develop noticeable symptoms Of those who develop symptoms noticeable enough to be classified as patients most develop mild to moderate symptoms  while  develop severe symptoms  and  develop critical symptoms  Older people are at a higher risk of developing severe symptoms Some people continue to experience a range of effects for years after infection and damage to organs has been observed Multiyear studies are underway to further investigate the longterm effects of the diseaseCOVID‑ transmits when infectious particles are breathed in or come into contact with the eyes nose or mouth The risk is highest when people are in close proximity but small airborne particles containing the virus can remain suspended in the air and travel over longer distances particularly indoors Transmission can also occur when people touch their eyes nose or mouth after touching surfaces or objects that have been contaminated by the virus People remain contagious for up to days and can spread the virus even if they do not develop symptomsTesting methods for COVID to detect the virus\\'s nucleic acid include realtime reverse transcription polymerase chain reaction  transcriptionmediated amplification and reverse transcription loopmediated isothermal amplification from a nasopharyngeal swabSeveral COVID vaccines have been approved and distributed in various countries which have initiated mass vaccination campaigns Other preventive measures include physical or social distancing quarantining ventilation of indoor spaces use of face masks or coverings in public covering coughs and sneezes hand washing and keeping unwashed hands away from the face While work is underway to develop drugs that inhibit the virus the primary treatment is symptomatic Management involves the treatment of symptoms through supportive care isolation and experimental measuresNomenclatureMain article: COVID namingDuring the initial outbreak in Wuhan the virus and disease were commonly referred to as \"coronavirus\" and \"Wuhan coronavirus\" with the disease sometimes called \"Wuhan pneumonia\" In the past many diseases have been named after geographical locations such as the Spanish flu Middle East respiratory syndrome and Zika virus In January  the World Health Organization recommended nCoV and nCoV acute respiratory disease as interim names for the virus and disease per guidance and international guidelines against using geographical locations or groups of people in disease and virus names to prevent social stigma The official names COVID‑ and SARSCoV were issued by the WHO on February with COVID being shorthand for \"coronavirus disease \" The WHO additionally uses \"the COVID‑ virus\" and \"the virus responsible for COVID‑ \" in public communications'"
      ]
     },
     "execution_count": 499,
     "metadata": {},
     "output_type": "execute_result"
    }
   ],
   "source": [
    "text"
   ]
  },
  {
   "cell_type": "code",
   "execution_count": 500,
   "id": "533b4ab2",
   "metadata": {},
   "outputs": [],
   "source": [
    "text=sent_tokenize(text)"
   ]
  },
  {
   "cell_type": "code",
   "execution_count": 501,
   "id": "46591da4",
   "metadata": {},
   "outputs": [
    {
     "data": {
      "text/plain": [
       "['Coronavirus disease is a contagious disease caused by the virus SARSCoV  The first known case was identified in Wuhan China in December  The disease quickly spread worldwide resulting in the COVID pandemicThe symptoms of COVID‑ are variable but often include fever cough headache fatigue breathing difficulties loss of smell and loss of taste Symptoms may begin one to fourteen days after exposure to the virus At least a third of people who are infected do not develop noticeable symptoms Of those who develop symptoms noticeable enough to be classified as patients most develop mild to moderate symptoms  while  develop severe symptoms  and  develop critical symptoms  Older people are at a higher risk of developing severe symptoms Some people continue to experience a range of effects for years after infection and damage to organs has been observed Multiyear studies are underway to further investigate the longterm effects of the diseaseCOVID‑ transmits when infectious particles are breathed in or come into contact with the eyes nose or mouth The risk is highest when people are in close proximity but small airborne particles containing the virus can remain suspended in the air and travel over longer distances particularly indoors Transmission can also occur when people touch their eyes nose or mouth after touching surfaces or objects that have been contaminated by the virus People remain contagious for up to days and can spread the virus even if they do not develop symptomsTesting methods for COVID to detect the virus\\'s nucleic acid include realtime reverse transcription polymerase chain reaction  transcriptionmediated amplification and reverse transcription loopmediated isothermal amplification from a nasopharyngeal swabSeveral COVID vaccines have been approved and distributed in various countries which have initiated mass vaccination campaigns Other preventive measures include physical or social distancing quarantining ventilation of indoor spaces use of face masks or coverings in public covering coughs and sneezes hand washing and keeping unwashed hands away from the face While work is underway to develop drugs that inhibit the virus the primary treatment is symptomatic Management involves the treatment of symptoms through supportive care isolation and experimental measuresNomenclatureMain article: COVID namingDuring the initial outbreak in Wuhan the virus and disease were commonly referred to as \"coronavirus\" and \"Wuhan coronavirus\" with the disease sometimes called \"Wuhan pneumonia\" In the past many diseases have been named after geographical locations such as the Spanish flu Middle East respiratory syndrome and Zika virus In January  the World Health Organization recommended nCoV and nCoV acute respiratory disease as interim names for the virus and disease per guidance and international guidelines against using geographical locations or groups of people in disease and virus names to prevent social stigma The official names COVID‑ and SARSCoV were issued by the WHO on February with COVID being shorthand for \"coronavirus disease \" The WHO additionally uses \"the COVID‑ virus\" and \"the virus responsible for COVID‑ \" in public communications']"
      ]
     },
     "execution_count": 501,
     "metadata": {},
     "output_type": "execute_result"
    }
   ],
   "source": [
    "text"
   ]
  },
  {
   "cell_type": "code",
   "execution_count": 502,
   "id": "09f91c50",
   "metadata": {},
   "outputs": [],
   "source": [
    "punc=string.punctuation\n",
    "stops=stopwords.words('english')"
   ]
  },
  {
   "cell_type": "markdown",
   "id": "170384c1",
   "metadata": {},
   "source": [
    "# tokeize the given text to convert word2vec"
   ]
  },
  {
   "cell_type": "code",
   "execution_count": 503,
   "id": "717bc86f",
   "metadata": {},
   "outputs": [
    {
     "name": "stdout",
     "output_type": "stream",
     "text": [
      "[['coronavirus', 'disease', 'contagious', 'disease', 'caused', 'virus', 'sarscov', 'first', 'known', 'case', 'identified', 'wuhan', 'china', 'december', 'disease', 'quickly', 'spread', 'worldwide', 'resulting', 'covid', 'pandemicthe', 'symptoms', 'covid‑', 'variable', 'often', 'include', 'fever', 'cough', 'headache', 'fatigue', 'breathing', 'difficulties', 'loss', 'smell', 'loss', 'taste', 'symptoms', 'may', 'begin', 'one', 'fourteen', 'days', 'exposure', 'virus', 'least', 'third', 'people', 'infected', 'develop', 'noticeable', 'symptoms', 'develop', 'symptoms', 'noticeable', 'enough', 'classified', 'patients', 'develop', 'mild', 'moderate', 'symptoms', 'develop', 'severe', 'symptoms', 'develop', 'critical', 'symptoms', 'older', 'people', 'higher', 'risk', 'developing', 'severe', 'symptoms', 'people', 'continue', 'experience', 'range', 'effects', 'years', 'infection', 'damage', 'organs', 'observed', 'multiyear', 'studies', 'underway', 'investigate', 'longterm', 'effects', 'diseasecovid‑', 'transmits', 'infectious', 'particles', 'breathed', 'come', 'contact', 'eyes', 'nose', 'mouth', 'risk', 'highest', 'people', 'close', 'proximity', 'small', 'airborne', 'particles', 'containing', 'virus', 'remain', 'suspended', 'air', 'travel', 'longer', 'distances', 'particularly', 'indoors', 'transmission', 'also', 'occur', 'people', 'touch', 'eyes', 'nose', 'mouth', 'touching', 'surfaces', 'objects', 'contaminated', 'virus', 'people', 'remain', 'contagious', 'days', 'spread', 'virus', 'even', 'develop', 'symptomstesting', 'methods', 'covid', 'detect', 'virus', \"'s\", 'nucleic', 'acid', 'include', 'realtime', 'reverse', 'transcription', 'polymerase', 'chain', 'reaction', 'transcriptionmediated', 'amplification', 'reverse', 'transcription', 'loopmediated', 'isothermal', 'amplification', 'nasopharyngeal', 'swabseveral', 'covid', 'vaccines', 'approved', 'distributed', 'various', 'countries', 'initiated', 'mass', 'vaccination', 'campaigns', 'preventive', 'measures', 'include', 'physical', 'social', 'distancing', 'quarantining', 'ventilation', 'indoor', 'spaces', 'use', 'face', 'masks', 'coverings', 'public', 'covering', 'coughs', 'sneezes', 'hand', 'washing', 'keeping', 'unwashed', 'hands', 'away', 'face', 'work', 'underway', 'develop', 'drugs', 'inhibit', 'virus', 'primary', 'treatment', 'symptomatic', 'management', 'involves', 'treatment', 'symptoms', 'supportive', 'care', 'isolation', 'experimental', 'measuresnomenclaturemain', 'article', 'covid', 'namingduring', 'initial', 'outbreak', 'wuhan', 'virus', 'disease', 'commonly', 'referred', '``', 'coronavirus', \"''\", '``', 'wuhan', 'coronavirus', \"''\", 'disease', 'sometimes', 'called', '``', 'wuhan', 'pneumonia', \"''\", 'past', 'many', 'diseases', 'named', 'geographical', 'locations', 'spanish', 'flu', 'middle', 'east', 'respiratory', 'syndrome', 'zika', 'virus', 'january', 'world', 'health', 'organization', 'recommended', 'ncov', 'ncov', 'acute', 'respiratory', 'disease', 'interim', 'names', 'virus', 'disease', 'per', 'guidance', 'international', 'guidelines', 'using', 'geographical', 'locations', 'groups', 'people', 'disease', 'virus', 'names', 'prevent', 'social', 'stigma', 'official', 'names', 'covid‑', 'sarscov', 'issued', 'february', 'covid', 'shorthand', '``', 'coronavirus', 'disease', '``', 'additionally', 'uses', '``', 'covid‑', 'virus', \"''\", '``', 'virus', 'responsible', 'covid‑', '``', 'public', 'communications']]\n"
     ]
    }
   ],
   "source": [
    "tokenized_text = []\n",
    "for sentence in text:\n",
    "    words = word_tokenize(sentence)\n",
    "    words = [word.lower() for word in words if word.lower() not in stops if word.lower() not in punc]\n",
    "    tokenized_text.append(words)\n",
    "\n",
    "print(tokenized_text)"
   ]
  },
  {
   "cell_type": "code",
   "execution_count": 504,
   "id": "3ebfe79d",
   "metadata": {},
   "outputs": [
    {
     "name": "stdout",
     "output_type": "stream",
     "text": [
      "Requirement already satisfied: numpy in c:\\users\\dell\\appdata\\roaming\\python\\python39\\site-packages (1.25.2)\n",
      "Note: you may need to restart the kernel to use updated packages.\n"
     ]
    }
   ],
   "source": [
    "pip install --user --upgrade numpy"
   ]
  },
  {
   "cell_type": "markdown",
   "id": "fe41294b",
   "metadata": {},
   "source": [
    "# Import word2vec model"
   ]
  },
  {
   "cell_type": "code",
   "execution_count": 515,
   "id": "76cf725b",
   "metadata": {},
   "outputs": [],
   "source": [
    "from gensim.models import word2vec"
   ]
  },
  {
   "cell_type": "code",
   "execution_count": 516,
   "id": "c76cda10",
   "metadata": {},
   "outputs": [],
   "source": [
    "wv=Word2Vec(tokenized_text,min_count=1)"
   ]
  },
  {
   "cell_type": "code",
   "execution_count": 517,
   "id": "9e4df31c",
   "metadata": {},
   "outputs": [],
   "source": [
    "vocab = list(model.wv.index_to_key)"
   ]
  },
  {
   "cell_type": "code",
   "execution_count": 518,
   "id": "fea8ed6b",
   "metadata": {},
   "outputs": [
    {
     "data": {
      "text/plain": [
       "['virus',\n",
       " 'disease',\n",
       " 'symptoms',\n",
       " '``',\n",
       " 'people',\n",
       " 'develop',\n",
       " 'covid',\n",
       " 'coronavirus',\n",
       " \"''\",\n",
       " 'covid‑',\n",
       " 'wuhan',\n",
       " 'include',\n",
       " 'names',\n",
       " 'social',\n",
       " 'nose',\n",
       " 'reverse',\n",
       " 'transcription',\n",
       " 'days',\n",
       " 'remain',\n",
       " 'amplification',\n",
       " 'mouth',\n",
       " 'noticeable',\n",
       " 'eyes',\n",
       " 'underway',\n",
       " 'severe',\n",
       " 'particles',\n",
       " 'risk',\n",
       " 'effects',\n",
       " 'public',\n",
       " 'geographical',\n",
       " 'face',\n",
       " 'loss',\n",
       " 'treatment',\n",
       " 'locations',\n",
       " 'contagious',\n",
       " 'ncov',\n",
       " 'respiratory',\n",
       " 'sarscov',\n",
       " 'spread',\n",
       " 'indoors',\n",
       " 'particularly',\n",
       " 'identified',\n",
       " 'contact',\n",
       " 'come',\n",
       " 'breathed',\n",
       " 'touch',\n",
       " 'china',\n",
       " 'infectious',\n",
       " 'transmits',\n",
       " 'diseasecovid‑',\n",
       " 'december',\n",
       " 'longterm',\n",
       " 'investigate',\n",
       " 'quickly',\n",
       " 'studies',\n",
       " 'multiyear',\n",
       " 'case',\n",
       " 'known',\n",
       " 'highest',\n",
       " 'suspended',\n",
       " 'distances',\n",
       " 'longer',\n",
       " 'transmission',\n",
       " 'caused',\n",
       " 'travel',\n",
       " 'air',\n",
       " 'also',\n",
       " 'close',\n",
       " 'occur',\n",
       " 'first',\n",
       " 'containing',\n",
       " 'airborne',\n",
       " 'small',\n",
       " 'observed',\n",
       " 'proximity',\n",
       " 'organs',\n",
       " 'breathing',\n",
       " 'one',\n",
       " 'often',\n",
       " 'infected',\n",
       " 'third',\n",
       " 'least',\n",
       " 'exposure',\n",
       " 'fever',\n",
       " 'fourteen',\n",
       " 'cough',\n",
       " 'damage',\n",
       " 'headache',\n",
       " 'begin',\n",
       " 'may',\n",
       " 'taste',\n",
       " 'smell',\n",
       " 'fatigue',\n",
       " 'difficulties',\n",
       " 'variable',\n",
       " 'enough',\n",
       " 'classified',\n",
       " 'patients',\n",
       " 'worldwide',\n",
       " 'infection',\n",
       " 'years',\n",
       " 'resulting',\n",
       " 'range',\n",
       " 'experience',\n",
       " 'continue',\n",
       " 'developing',\n",
       " 'higher',\n",
       " 'older',\n",
       " 'critical',\n",
       " 'pandemicthe',\n",
       " 'moderate',\n",
       " 'surfaces',\n",
       " 'mild',\n",
       " 'touching',\n",
       " 'communications',\n",
       " 'objects',\n",
       " 'commonly',\n",
       " 'flu',\n",
       " 'spanish',\n",
       " 'named',\n",
       " 'diseases',\n",
       " 'many',\n",
       " 'past',\n",
       " 'pneumonia',\n",
       " 'called',\n",
       " 'sometimes',\n",
       " 'referred',\n",
       " 'outbreak',\n",
       " 'contaminated',\n",
       " 'initial',\n",
       " 'namingduring',\n",
       " 'article',\n",
       " 'measuresnomenclaturemain',\n",
       " 'experimental',\n",
       " 'isolation',\n",
       " 'care',\n",
       " 'supportive',\n",
       " 'involves',\n",
       " 'management',\n",
       " 'middle',\n",
       " 'east',\n",
       " 'syndrome',\n",
       " 'zika',\n",
       " 'uses',\n",
       " 'additionally',\n",
       " 'shorthand',\n",
       " 'february',\n",
       " 'issued',\n",
       " 'official',\n",
       " 'stigma',\n",
       " 'prevent',\n",
       " 'groups',\n",
       " 'using',\n",
       " 'guidelines',\n",
       " 'international',\n",
       " 'guidance',\n",
       " 'per',\n",
       " 'interim',\n",
       " 'acute',\n",
       " 'recommended',\n",
       " 'organization',\n",
       " 'health',\n",
       " 'world',\n",
       " 'january',\n",
       " 'symptomatic',\n",
       " 'primary',\n",
       " 'inhibit',\n",
       " 'mass',\n",
       " 'countries',\n",
       " 'various',\n",
       " 'distributed',\n",
       " 'approved',\n",
       " 'vaccines',\n",
       " 'swabseveral',\n",
       " 'nasopharyngeal',\n",
       " 'isothermal',\n",
       " 'loopmediated',\n",
       " 'transcriptionmediated',\n",
       " 'reaction',\n",
       " 'chain',\n",
       " 'polymerase',\n",
       " 'realtime',\n",
       " 'acid',\n",
       " 'responsible',\n",
       " \"'s\",\n",
       " 'detect',\n",
       " 'methods',\n",
       " 'symptomstesting',\n",
       " 'even',\n",
       " 'initiated',\n",
       " 'vaccination',\n",
       " 'drugs',\n",
       " 'campaigns',\n",
       " 'work',\n",
       " 'away',\n",
       " 'hands',\n",
       " 'unwashed',\n",
       " 'keeping',\n",
       " 'washing',\n",
       " 'hand',\n",
       " 'sneezes',\n",
       " 'coughs',\n",
       " 'covering',\n",
       " 'coverings',\n",
       " 'masks',\n",
       " 'use',\n",
       " 'spaces',\n",
       " 'indoor',\n",
       " 'ventilation',\n",
       " 'quarantining',\n",
       " 'distancing',\n",
       " 'physical',\n",
       " 'measures',\n",
       " 'preventive',\n",
       " 'nucleic']"
      ]
     },
     "execution_count": 518,
     "metadata": {},
     "output_type": "execute_result"
    }
   ],
   "source": [
    "vocab"
   ]
  },
  {
   "cell_type": "code",
   "execution_count": 525,
   "id": "3b825abd",
   "metadata": {},
   "outputs": [],
   "source": [
    "vector=model.wv['diseases']"
   ]
  },
  {
   "cell_type": "code",
   "execution_count": 526,
   "id": "661947e5",
   "metadata": {},
   "outputs": [
    {
     "data": {
      "text/plain": [
       "array([ 0.0087694 , -0.00226782,  0.00441015, -0.00093067,  0.00377358,\n",
       "        0.00612739,  0.00190706, -0.00587331,  0.00474906,  0.00139477,\n",
       "        0.00956949, -0.00256412, -0.00071019,  0.00342675,  0.00459903,\n",
       "        0.00138005, -0.00124623, -0.00975346,  0.00281189,  0.00561049,\n",
       "       -0.00408236,  0.0014624 , -0.00260876, -0.00150802,  0.00901447,\n",
       "       -0.00898661,  0.00888244, -0.00887985, -0.00785603,  0.00731006,\n",
       "       -0.00601046,  0.00183596, -0.00640441, -0.00131656,  0.00868277,\n",
       "        0.00766902,  0.00533471, -0.00109539,  0.00374308, -0.00964826,\n",
       "        0.00292705,  0.0033423 , -0.00972509,  0.00038057, -0.00972462,\n",
       "        0.00271066,  0.00594093,  0.00047026, -0.00476095, -0.00597856,\n",
       "        0.00606108, -0.00195933, -0.00656483,  0.00527949, -0.00062889,\n",
       "        0.00113548,  0.00852164,  0.00328883, -0.00604857,  0.00600385,\n",
       "        0.00151726,  0.00551439,  0.00507544, -0.00429566,  0.00119551,\n",
       "       -0.00360985,  0.00710147, -0.00365387, -0.00040759, -0.00205077,\n",
       "        0.00917839,  0.00466852, -0.00937892,  0.00733875,  0.00730606,\n",
       "       -0.00753953,  0.00494266, -0.00402602, -0.00079816,  0.00346697,\n",
       "        0.00762499,  0.00074733,  0.00719686,  0.00578504, -0.00672931,\n",
       "        0.00182109, -0.0030768 ,  0.00794404,  0.00415251,  0.00527003,\n",
       "        0.00748964, -0.00094082,  0.00027512, -0.00111255, -0.00370928,\n",
       "       -0.00587277,  0.00086282,  0.00615768, -0.00238081,  0.00904269],\n",
       "      dtype=float32)"
      ]
     },
     "execution_count": 526,
     "metadata": {},
     "output_type": "execute_result"
    }
   ],
   "source": [
    "vector"
   ]
  },
  {
   "cell_type": "markdown",
   "id": "08ab6d98",
   "metadata": {},
   "source": [
    "# Top 20 most similar words for china is as given below"
   ]
  },
  {
   "cell_type": "code",
   "execution_count": 527,
   "id": "1b61948c",
   "metadata": {},
   "outputs": [],
   "source": [
    "similar=model.wv.most_similar('china',topn=20)"
   ]
  },
  {
   "cell_type": "code",
   "execution_count": 528,
   "id": "539d5b8a",
   "metadata": {},
   "outputs": [
    {
     "data": {
      "text/plain": [
       "[('effects', 0.27101704478263855),\n",
       " ('containing', 0.2341989278793335),\n",
       " ('issued', 0.2304810881614685),\n",
       " ('per', 0.2168542742729187),\n",
       " ('fever', 0.21388715505599976),\n",
       " ('called', 0.20500677824020386),\n",
       " ('highest', 0.19857490062713623),\n",
       " ('also', 0.18309767544269562),\n",
       " ('infectious', 0.17260077595710754),\n",
       " ('hands', 0.15998460352420807),\n",
       " ('acute', 0.1585754156112671),\n",
       " ('range', 0.15504074096679688),\n",
       " ('loopmediated', 0.14602403342723846),\n",
       " ('indoors', 0.14438211917877197),\n",
       " ('nasopharyngeal', 0.1407349854707718),\n",
       " ('covid‑', 0.13515906035900116),\n",
       " ('headache', 0.13515417277812958),\n",
       " ('measures', 0.1334170252084732),\n",
       " ('days', 0.1316826045513153),\n",
       " ('primary', 0.13084927201271057)]"
      ]
     },
     "execution_count": 528,
     "metadata": {},
     "output_type": "execute_result"
    }
   ],
   "source": [
    "similar"
   ]
  },
  {
   "cell_type": "markdown",
   "id": "7dc73a6f",
   "metadata": {},
   "source": [
    "# note-Text article is very small so maximum accuracy can't be achievd"
   ]
  },
  {
   "cell_type": "code",
   "execution_count": null,
   "id": "99d9d82c",
   "metadata": {},
   "outputs": [],
   "source": []
  }
 ],
 "metadata": {
  "kernelspec": {
   "display_name": "Python 3 (ipykernel)",
   "language": "python",
   "name": "python3"
  },
  "language_info": {
   "codemirror_mode": {
    "name": "ipython",
    "version": 3
   },
   "file_extension": ".py",
   "mimetype": "text/x-python",
   "name": "python",
   "nbconvert_exporter": "python",
   "pygments_lexer": "ipython3",
   "version": "3.9.7"
  }
 },
 "nbformat": 4,
 "nbformat_minor": 5
}
