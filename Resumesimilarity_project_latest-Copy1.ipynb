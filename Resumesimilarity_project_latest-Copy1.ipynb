{
 "cells": [
  {
   "cell_type": "code",
   "execution_count": 2,
   "metadata": {
    "colab": {
     "base_uri": "https://localhost:8080/"
    },
    "id": "9EWzRTe4RhDb",
    "outputId": "d8b2142e-8887-4790-d86c-57d6941e1dd0"
   },
   "outputs": [
    {
     "name": "stdout",
     "output_type": "stream",
     "text": [
      "Collecting docx2txt\n",
      "  Downloading docx2txt-0.8.tar.gz (2.8 kB)\n",
      "  Preparing metadata (setup.py) ... \u001b[?25l\u001b[?25hdone\n",
      "Building wheels for collected packages: docx2txt\n",
      "  Building wheel for docx2txt (setup.py) ... \u001b[?25l\u001b[?25hdone\n",
      "  Created wheel for docx2txt: filename=docx2txt-0.8-py3-none-any.whl size=3959 sha256=1206cc6eb39742c2749f7f9c8ca50509d4e3fe0ae1f881f6f214f8e603f5cc04\n",
      "  Stored in directory: /root/.cache/pip/wheels/22/58/cf/093d0a6c3ecfdfc5f6ddd5524043b88e59a9a199cb02352966\n",
      "Successfully built docx2txt\n",
      "Installing collected packages: docx2txt\n",
      "Successfully installed docx2txt-0.8\n"
     ]
    }
   ],
   "source": [
    "! pip install docx2txt"
   ]
  },
  {
   "cell_type": "code",
   "execution_count": 3,
   "metadata": {
    "id": "jHOedUvuRvz2"
   },
   "outputs": [],
   "source": [
    "import docx2txt"
   ]
  },
  {
   "cell_type": "code",
   "execution_count": 12,
   "metadata": {
    "id": "cH9hm7k9S7PZ"
   },
   "outputs": [],
   "source": [
    "resume=docx2txt.process('/content/JASMEET_SINGH_Data Analyst.docx')\n",
    "job_description=docx2txt.process('/content/data-scientist-resume-example.docx')"
   ]
  },
  {
   "cell_type": "code",
   "execution_count": 16,
   "metadata": {
    "colab": {
     "base_uri": "https://localhost:8080/"
    },
    "id": "JTWjAkE5YcrX",
    "outputId": "37529de7-06d1-4cf3-c546-ca5db452f1e7"
   },
   "outputs": [
    {
     "name": "stdout",
     "output_type": "stream",
     "text": [
      "JASMEET SINGH\n",
      "\n",
      "DATA ANALYST\n",
      "\n",
      "\n",
      "\n",
      "\n",
      "\n",
      "\n",
      "\n",
      "\n",
      "\n",
      "9216688777\n",
      "\n",
      "\n",
      "\n",
      "Singh.jasmit013@gmail.com Chandigarh\n",
      "\n",
      "\n",
      "B Tech\n",
      "\n",
      "\tInformation Technology\tAug '05 - Jun '11 NIET | Greater Noida,U.P\n",
      "\n",
      "Uttar Pradesh Technical University\n",
      "\n",
      "\n",
      "\n",
      "linkedin.com/in/jasmeet-singh-0a\n",
      "\n",
      "\n",
      "\n",
      "\n",
      "\n",
      "8 + years experience of Telecomm professional in Optical Fiber\n",
      "\n",
      "\n",
      "PG diploma in Data science and machine learning\n",
      "\n",
      "Data Trained | Noida NOV 2021 - NOV 2022\n",
      "\n",
      "\n",
      "Nov '21 - Nov '22\n",
      "\n",
      "\n",
      "\n",
      "Responsible for the installation activities/execution is in line with the installation planning.\n",
      "\n",
      "Installation of all equipment as like FDP, Splitters, FAT & Duct, Optic Fiber Cable.\n",
      "\n",
      "\n",
      "\n",
      "\n",
      "\n",
      "CAREER OBJECTIVE\n",
      "\n",
      "Innovative and scientifically rigorous with a significant data science internship\n",
      "\n",
      "experience to bring to the table. With a team-oriented attitude, I am eager to\n",
      "\n",
      "contribute my abilities in quantitative modeling and experimentation to\n",
      "\n",
      "enhance the experience of Pinterest users around the world.\n",
      "\n",
      "\n",
      "\n",
      "\n",
      "\n",
      "SKILLS\n",
      "\n",
      "Data Mining Data Manipulation Data Scientist Perform analysis Statistical Modeling Modeling Techniques , perform Data Analysis on Tableau & power BI software Data Visualization Techniques\n",
      "\n",
      "\n",
      "\n",
      "\n",
      "\n",
      "PROJECTS\n",
      "\n",
      "HR Attrition\n",
      "\n",
      "Tech Stack: Python, Jupyter Notebook\n",
      "\n",
      "Objective: Build a predictive model for detecting defaulter and non- defaulter users.\n",
      "\n",
      "\n",
      "\n",
      "CUSTOMER CHURN\n",
      "\n",
      "\n",
      "\n",
      "\n",
      "\n",
      "Tech Stack: Python, Jupyter Notebook\n",
      "\n",
      "Objective: Predict the probability of each variation belonging to nine classes.\n",
      "\n",
      "Solution: Did EDA, treated data imbalance , built multiple models & did hyperparameter tuning for best performing models in each category, treated outliers using percentile approach without removing the data\n",
      "\n",
      "\n",
      "\n",
      "\n",
      "\n",
      "\n",
      "WORK EXPERIENCE\n",
      "\n",
      "\tWireline Trainer\tNov '22 - Present Airtel India | Chandigarh\n",
      "\n",
      " Conducted Training the Engineers with classroom and virtual trainings.\n",
      "\n",
      "\t\t\tPerformed training sessions for 10+ new recruits as part of improving their skills.\n",
      "\n",
      "\n",
      "\n",
      "\n",
      "\n",
      "\tData Scientist Intern\tApr '22 - Oct '22 Flip Robo Technologies | Bangalore\n",
      "\n",
      "April 2022 - October 2022 Bangalore\n",
      "\n",
      " Performed Extensively on web scrapped images, NLP, data analysis, Clustering Algorithms.\n",
      "\n",
      " Performed Extensively on web scrapped images, NLP, data analysis, Clustering Algorithms.\n",
      "\n",
      "\n",
      "\n",
      "\n",
      "\n",
      "\tSenior Engineer Project\tJun '18 - Oct '22 Reliance Communications | Bikaner\n",
      "\n",
      " Identifying the Potential prospective OFC routes for Laying of Optical Fiber issued by Network Planning Team Roll Out of FTTX Network.\n",
      "\n",
      " I was responsible to give the status of physical progress (Day to Day reporting.\n",
      "\n",
      " Administered the technical and commercial verification of revenue recognition with actual work executed so that all extra works are capture.\n",
      "\n",
      "\n",
      "\n",
      "HOBBIES\n",
      "\n",
      "Playing Cricket Reading Books\n",
      "\n",
      ".\n"
     ]
    }
   ],
   "source": [
    "print(resume)\n",
    "\n"
   ]
  },
  {
   "cell_type": "code",
   "execution_count": 17,
   "metadata": {
    "colab": {
     "base_uri": "https://localhost:8080/"
    },
    "id": "hOrCX9OzY5S2",
    "outputId": "efec27d7-ffb3-4643-d3ff-7f77c43a0233"
   },
   "outputs": [
    {
     "name": "stdout",
     "output_type": "stream",
     "text": [
      "KANDACE  LOUDOR\n",
      "\n",
      "DATA SCIENTIST\n",
      "\n",
      "\n",
      "\n",
      "\n",
      "\n",
      "\n",
      "\n",
      "CONTACT\n",
      "\n",
      "kloudor@email.com\n",
      "\n",
      "(123) 456-7890\n",
      "\n",
      "Mount Laurel, NJ\n",
      "\n",
      "LinkedIn Github\n",
      "\n",
      "\n",
      "\n",
      "EDUCATION\n",
      "\n",
      "B.S.\n",
      "\n",
      "Statistics Rutgers University September 2011 - April 2015\n",
      "\n",
      "New Brunswick, NJ\n",
      "\n",
      "\n",
      "\n",
      "SKILLS\n",
      "\n",
      "Python (NumPy, Pandas, Scikit-learn, Keras, Flask) SQL (MySQL, Postgres)\n",
      "\n",
      "Git Time Series Forecasting Productionizing Models Recommendation Engines Customer Segmentation\n",
      "\n",
      "AWS\n",
      "\n",
      "\n",
      "WORK EXPERIENCE\n",
      "\n",
      "Data Scientist\n",
      "\n",
      "Grubhub\n",
      "\n",
      "June 2018 - current / Princeton, NJ\n",
      "\n",
      "Deployed a recommendation engine to production to conditionally recommend other menu items based on past order history, increasing average order size by 7%\n",
      "\n",
      "Implemented various time series forecasting techniques to predict surge in orders, lowering customer wait by 10 minutes\n",
      "\n",
      "Designed a model in a pilot to increase incentives for drivers during peak hours, increasing driver availability by 22%\n",
      "\n",
      "Led a team of 3 data scientist to model the ordering process 5 unique ways, reported results, and made recommendations to increase order output by 9%\n",
      "\n",
      "\n",
      "\n",
      "Data Scientist\n",
      "\n",
      "Spectrix Analytical Services\n",
      "\n",
      "March 2016 - June 2018 / Princeton, NJ\n",
      "\n",
      "Built a customer attrition random forest model that improved monthly retention by 12 basis points for clients likely to opt-out by providing relevant product features for them\n",
      "\n",
      "Coordinated with the product and marketing teams to determine what kind of client interactions resulted in maximized service opt-ins, increasing conversions by 18%\n",
      "\n",
      "Partnered with product team to create a production recommendation engine in Python that improved the length on- page for users with $225K in incremental annual revenue\n",
      "\n",
      "Compiled and analyzed data surrounding the prototypes for a prosthesis, which saved over $1M in its creation\n",
      "\n",
      "\n",
      "\n",
      "Entry-Level Data Analyst\n",
      "\n",
      "Avenica\n",
      "\n",
      "April 2015 - March 2016 / Mount Laurel, NJ\n",
      "\n",
      "Collaborated with product managers to perform cohort analysis that identified an opportunity to reduce pricing by 21% for a segment of users to boost yearly revenue by $560,000 Constructed operational reporting in Tableau to improve\n",
      "\n",
      "scheduling contractors, saving $90,000 in the annual budget\n",
      "\n",
      "Implemented a long-term pricing experiment that improved customer lifetime value by 23%\n",
      "\n",
      "Ran, submitted, and reported on monthly client enrollments, services opted in for, and the employees assigned to clients\n"
     ]
    }
   ],
   "source": [
    "print(job_description)"
   ]
  },
  {
   "cell_type": "code",
   "execution_count": 19,
   "metadata": {
    "id": "nbQE50jnY8c1"
   },
   "outputs": [],
   "source": [
    "content=[job_description,resume]"
   ]
  },
  {
   "cell_type": "code",
   "execution_count": 20,
   "metadata": {
    "id": "cl4WoSsYZPIl"
   },
   "outputs": [],
   "source": [
    "from sklearn.feature_extraction.text import CountVectorizer"
   ]
  },
  {
   "cell_type": "code",
   "execution_count": 21,
   "metadata": {
    "id": "vdlUeQZpZqdr"
   },
   "outputs": [],
   "source": [
    "cv=CountVectorizer()"
   ]
  },
  {
   "cell_type": "code",
   "execution_count": 23,
   "metadata": {
    "id": "GuT-zxsPZt7y"
   },
   "outputs": [],
   "source": [
    "metrix=cv.fit_transform(content)"
   ]
  },
  {
   "cell_type": "code",
   "execution_count": 26,
   "metadata": {
    "id": "aMiAj7N_aLop"
   },
   "outputs": [],
   "source": [
    "from sklearn.metrics.pairwise import cosine_similarity"
   ]
  },
  {
   "cell_type": "code",
   "execution_count": 27,
   "metadata": {
    "id": "IGcizhtOaiTw"
   },
   "outputs": [],
   "source": [
    "simlarity_score=cosine_similarity(metrix)"
   ]
  },
  {
   "cell_type": "code",
   "execution_count": 47,
   "metadata": {
    "colab": {
     "base_uri": "https://localhost:8080/"
    },
    "id": "S7iwnSA5a3Z3",
    "outputId": "13e245cd-2711-442c-f183-7460c1a3bcce"
   },
   "outputs": [
    {
     "name": "stdout",
     "output_type": "stream",
     "text": [
      "[[1.        0.4994631]\n",
      " [0.4994631 1.       ]]\n"
     ]
    }
   ],
   "source": [
    "print(simlarity_score)"
   ]
  },
  {
   "cell_type": "code",
   "execution_count": 63,
   "metadata": {
    "colab": {
     "base_uri": "https://localhost:8080/"
    },
    "id": "oGsDZRmgbN-g",
    "outputId": "b9af59c7-ef5b-4a01-bf4a-f94e2d5b9c7d"
   },
   "outputs": [
    {
     "name": "stdout",
     "output_type": "stream",
     "text": [
      "resume matches by:49.94630998516077\n"
     ]
    }
   ],
   "source": [
    "print('resume matches by:'+str(simlarity_score[1][0]*100))"
   ]
  }
 ],
 "metadata": {
  "colab": {
   "provenance": []
  },
  "kernelspec": {
   "display_name": "Python 3 (ipykernel)",
   "language": "python",
   "name": "python3"
  },
  "language_info": {
   "codemirror_mode": {
    "name": "ipython",
    "version": 3
   },
   "file_extension": ".py",
   "mimetype": "text/x-python",
   "name": "python",
   "nbconvert_exporter": "python",
   "pygments_lexer": "ipython3",
   "version": "3.9.7"
  }
 },
 "nbformat": 4,
 "nbformat_minor": 1
}
